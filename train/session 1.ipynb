{
 "cells": [
  {
   "cell_type": "markdown",
   "metadata": {},
   "source": [
    "# Document Preparation for NLP\n",
    "\n",
    "## Applications (Open Source) Recommended\n",
    "\n",
    "1. Artifex's Ghostscript - extracting text from text PDF\n",
    "2. ImageMagic's Magick - extracting image from scanned PDF\n",
    "3. Google's Tesseract - OCR of scanned/image captured text\n",
    "\n",
    "### Github Account\n",
    "\n",
    "https://github.com/andrewferlitsch/epipog-nlp"
   ]
  },
  {
   "cell_type": "markdown",
   "metadata": {},
   "source": [
    "### Ghostscript\n",
    "\n",
    "1. Download link : https://www.ghostscript.com/download/gsdnld.html\n",
    "        \n",
    "    Use the Free Version<br/>\n",
    "\n",
    "    I have a 64bit Windows laptop, so I am using this version: Ghostscript 9.23 for Windows (64 bit).<br/><br/>\n",
    "\n",
    "2. Check if path to the program is in your PATH variable. \n",
    "\n",
    "    A. Open a command shell.<br/>\n",
    "    B. Type gswin64c in the command line.<br/>\n",
    "    C. If not found, add it to your path variable. For me, it is: C:\\Program Files\\gs\\gs9.23\\bin<br/>\n",
    "\n",
    "\n"
   ]
  },
  {
   "cell_type": "markdown",
   "metadata": {},
   "source": [
    "### Magick\n",
    "\n",
    "1. Download Link: https://www.imagemagick.org/script/download.php\n",
    "\n",
    "    Use the static version (dynamic is for DLL inclusion).<br/>\n",
    "    \n",
    "    Use the 8bits per pixel version.<br/>\n",
    "    \n",
    "    I have a 64bit Windows laptop, so I am using this version: ImageMagick-7.0.8-1-Q8-x64-static.exe<br/><br/>\n",
    "    \n",
    "2. Check if path to the program is in your PATH variable.\n",
    " \n",
    "    A. Open a command shell.<br/>\n",
    "    B. Type magick in the command line.<br/>\n",
    "    C. If not found, add it to your path variable. For me, it is: C:\\Program Files\\ImageMagic-7.0.8-Q8"
   ]
  },
  {
   "cell_type": "markdown",
   "metadata": {},
   "source": [
    "### Tesseract\n",
    "\n",
    "1. Download Link: https://github.com/tesseract-ocr/tesseract/wiki/Downloads\n",
    "\n",
    "    A. Make sure to add the English Language training data to the tessdata subdirectory where tesseract is installed.<br/><br/>\n",
    "\n",
    "2. Check if path to program is in your PATH variable:\n",
    "\n",
    "    A. Open a command shell.<br/>\n",
    "    B. Type tesseract in the command line.<br/>\n",
    "    C. If not found, add it your path variable. For me, it is C:\\Program Files\\tesseract-Win64\\<br/>\n",
    "    \n",
    "3. Install the English Training Data files as: C:\\Program Files\\tesseract-Win64\\tessdata\n",
    "\n",
    "    You can get a copy from my github account."
   ]
  },
  {
   "cell_type": "markdown",
   "metadata": {},
   "source": [
    "### Ghostscript Example: Extracting Text from Text PDF\n",
    "\n",
    "Let's try some examples with using Ghostscript and PDF documents.\n",
    "\n",
    "First, let's get the number of pages in the PDF. (yes, ghostscript's options are somewhat cryptic). We will do it on the 97 page il.pdf file."
   ]
  },
  {
   "cell_type": "code",
   "execution_count": 2,
   "metadata": {},
   "outputs": [
    {
     "name": "stdout",
     "output_type": "stream",
     "text": [
      "C:\\Users\\'\\Desktop\\epipog-nlp\\train\n"
     ]
    }
   ],
   "source": [
    "!cd"
   ]
  },
  {
   "cell_type": "code",
   "execution_count": 3,
   "metadata": {},
   "outputs": [
    {
     "name": "stdout",
     "output_type": "stream",
     "text": [
      "140\n"
     ]
    }
   ],
   "source": [
    "\n",
    "!gswin64c  -dBATCH -q -dNODISPLAY -c \"(\"../plan/afspa.pdf\") (r) file runpdfbegin pdfpagecount = quit\""
   ]
  },
  {
   "cell_type": "markdown",
   "metadata": {},
   "source": [
    "Let's now try to split a PDF into individual pages. In the command below, we tell Ghostscript to split out page 1. We could\n",
    "do this in a for loop and extract each page one at a time.\n",
    "\n",
    "Note that we set the output DEVICE to pdfwrite. This is the command to Ghostscript to output a PDF file."
   ]
  },
  {
   "cell_type": "code",
   "execution_count": 4,
   "metadata": {},
   "outputs": [
    {
     "name": "stdout",
     "output_type": "stream",
     "text": [
      "GPL Ghostscript 9.23 (2018-03-21)\n",
      "Copyright (C) 2018 Artifex Software, Inc.  All rights reserved.\n",
      "This software comes with NO WARRANTY: see the file PUBLIC for details.\n",
      "Processing pages 1.\n",
      "Page 1\n"
     ]
    },
    {
     "name": "stderr",
     "output_type": "stream",
     "text": [
      "GPL Ghostscript 9.23: ERROR: A pdfmark destination page 140 points beyond the last page 1.\n"
     ]
    }
   ],
   "source": [
    "!gswin64c -dBATCH -dNOPAUSE -sOutputFile=\"../plan/afspa1.pdf\" -sPageList=1 -sDEVICE=pdfwrite \"../plan/afspa.pdf\""
   ]
  },
  {
   "cell_type": "markdown",
   "metadata": {},
   "source": [
    "Let's look at what is inside of the first PDF page. Is it text, a scanned image, a mix of text and images? We can guessimate this by looking at the PDF Resource directive inside of the PDF file.\n",
    "\n",
    "Text -> Text<br/>\n",
    "ImageB -> B&W Image<br/>\n",
    "ImageC -> Color Image</br>\n",
    "ImageI -> Indexed Image<br/>\n",
    "\n",
    "We will do this using my PDFResource object. "
   ]
  },
  {
   "cell_type": "code",
   "execution_count": 33,
   "metadata": {},
   "outputs": [],
   "source": [
    "# Import Epipog PDFResource class from the pdf_res module\n",
    "from pdf_res import PDFResource"
   ]
  },
  {
   "cell_type": "code",
   "execution_count": 34,
   "metadata": {},
   "outputs": [
    {
     "name": "stdout",
     "output_type": "stream",
     "text": [
      "PDF Version 1.5\n",
      "resources  /ImageC /ImageI /Text]\n",
      "\n"
     ]
    }
   ],
   "source": [
    "res = PDFResource(\"plan/afspa1.pdf\", debug=True)"
   ]
  },
  {
   "cell_type": "code",
   "execution_count": 35,
   "metadata": {},
   "outputs": [
    {
     "name": "stdout",
     "output_type": "stream",
     "text": [
      "True\n",
      "True\n"
     ]
    }
   ],
   "source": [
    "# Let's now check whether the page is a text PDF, scanned PDF, or mix text and images.\n",
    "print(res.text)\n",
    "print(res.image)"
   ]
  },
  {
   "cell_type": "markdown",
   "metadata": {},
   "source": [
    "Let's now extract the text from this single page PDF file using Ghostscript.\n",
    "\n",
    "Note that we set the output DEVICE to txtwrite. This is the command to Ghostscript to output a PDF file."
   ]
  },
  {
   "cell_type": "code",
   "execution_count": 36,
   "metadata": {},
   "outputs": [
    {
     "name": "stdout",
     "output_type": "stream",
     "text": [
      "GPL Ghostscript 9.23 (2018-03-21)\n",
      "Copyright (C) 2018 Artifex Software, Inc.  All rights reserved.\n",
      "This software comes with NO WARRANTY: see the file PUBLIC for details.\n",
      "Processing pages 1.\n",
      "Page 1\n"
     ]
    }
   ],
   "source": [
    "!gswin64c -dBATCH -dNOPAUSE -sOutputFile=\"plan/afspa1.txt\" -sPageList=1 -sDEVICE=txtwrite \"plan/afspa1.pdf\""
   ]
  },
  {
   "cell_type": "markdown",
   "metadata": {},
   "source": [
    "Let's try another PDF document, which will have an unexpected result - which I will explain."
   ]
  },
  {
   "cell_type": "code",
   "execution_count": 37,
   "metadata": {},
   "outputs": [
    {
     "name": "stdout",
     "output_type": "stream",
     "text": [
      "GPL Ghostscript 9.23 (2018-03-21)\n",
      "Copyright (C) 2018 Artifex Software, Inc.  All rights reserved.\n",
      "This software comes with NO WARRANTY: see the file PUBLIC for details.\n",
      "Processing pages 1.\n",
      "Page 1\n"
     ]
    }
   ],
   "source": [
    "# Extract the 1st PDF page\n",
    "!gswin64c -dBATCH -dNOPAUSE -sOutputFile=\"plan/il1.pdf\" -sPageList=1 -sDEVICE=pdfwrite \"plan/il.pdf\""
   ]
  },
  {
   "cell_type": "code",
   "execution_count": 38,
   "metadata": {},
   "outputs": [
    {
     "name": "stdout",
     "output_type": "stream",
     "text": [
      "GPL Ghostscript 9.23 (2018-03-21)\n",
      "Copyright (C) 2018 Artifex Software, Inc.  All rights reserved.\n",
      "This software comes with NO WARRANTY: see the file PUBLIC for details.\n",
      "Processing pages 1.\n",
      "Page 1\n"
     ]
    }
   ],
   "source": [
    "# Extract the text from the PDF page\n",
    "!gswin64c -dBATCH -dNOPAUSE -sOutputFile=\"plan/il1.txt\" -sPageList=1 -sDEVICE=txtwrite \"plan/il1.pdf\""
   ]
  },
  {
   "cell_type": "markdown",
   "metadata": {},
   "source": [
    "Let's view the contents of the extracted text file.\n",
    "\n",
    "OMG. It's just a lot of unprintable ASCII control characters. What happened?\n",
    "\n",
    "The PDF Resource directive is just a hint. It doesn't mean that it is correct. So, in this case, this is really a scanned PDF."
   ]
  },
  {
   "cell_type": "markdown",
   "metadata": {},
   "source": [
    "### Ghostscript/Tesseract Example:  Extract Text from Scanned PDF example\n",
    "\n",
    "So the il.pdf file appears to be a scanned PDF. So, let's extract the scanned page as a PNG image using Ghostscript.\n",
    "\n",
    "This time, we will set the output device to a grayscale PNG image. Ghostscript actually renders an image (vs. merely extract). This gives us an opportunity to tell Ghostscript the resolution of the generated image, which will affect the OCR quality. I good rule of thumb is 300dpi. I've found 72 and 150dpi give poor OCR, 200 is okay on many things, but 300 generally is good for all cases.\n"
   ]
  },
  {
   "cell_type": "code",
   "execution_count": 40,
   "metadata": {},
   "outputs": [
    {
     "name": "stdout",
     "output_type": "stream",
     "text": [
      "GPL Ghostscript 9.23 (2018-03-21)\n",
      "Copyright (C) 2018 Artifex Software, Inc.  All rights reserved.\n",
      "This software comes with NO WARRANTY: see the file PUBLIC for details.\n",
      "Processing pages 1.\n",
      "Page 1\n"
     ]
    }
   ],
   "source": [
    "# Extract the scanned image from the PDF page\n",
    "!gswin64c -dBATCH -dNOPAUSE -sOutputFile=\"plan/il1.png\" -sPageList=1 -sDEVICE=pnggray  -r300 \"plan/il1.pdf\""
   ]
  },
  {
   "cell_type": "markdown",
   "metadata": {},
   "source": [
    "Now we will use Tesseract to extract the text from the PNG image."
   ]
  },
  {
   "cell_type": "code",
   "execution_count": 43,
   "metadata": {},
   "outputs": [
    {
     "name": "stderr",
     "output_type": "stream",
     "text": [
      "Tesseract Open Source OCR Engine v3.05.01 with Leptonica\n"
     ]
    }
   ],
   "source": [
    "!tesseract \"plan/il1.png\" \"plan/il1\""
   ]
  },
  {
   "cell_type": "markdown",
   "metadata": {},
   "source": [
    "# Automated PDF, Fax, Image Capture Text Extraction with Epipog\n",
    "\n",
    "Let's now automate all of the above and MORE. We will be using the Splitter component in my Epipog module.\n",
    "\n",
    "Steps:\n",
    "1. Import the document module\n",
    "2. Create a Document object\n",
    "3. Pass a PDF (text or scanned), Facsimile (TIFF) or image captured document to the Document object.\n",
    "4. Wait for the results :)"
   ]
  },
  {
   "cell_type": "code",
   "execution_count": 82,
   "metadata": {},
   "outputs": [],
   "source": [
    "# import Document and Page from the document module\n",
    "from document import Document, Page"
   ]
  },
  {
   "cell_type": "markdown",
   "metadata": {},
   "source": [
    "## Document Object\n",
    "\n",
    "The initializer (constructor) takes the following arguments:<br/>\n",
    "\n",
    "        document - - path to the document<br/>\n",
    "        dir - directory where to store extracted pages and text<br/>\n",
    "        ehandler - function to invoke when processing is completed in asynchronous mode<br/>\n"
   ]
  },
  {
   "cell_type": "code",
   "execution_count": 83,
   "metadata": {},
   "outputs": [
    {
     "name": "stdout",
     "output_type": "stream",
     "text": [
      "resources  /ImageC /ImageI /Text]\n",
      "\n"
     ]
    }
   ],
   "source": [
    "doc = Document(\"plan/nc.pdf\", \"plan/nc\")"
   ]
  },
  {
   "cell_type": "markdown",
   "metadata": {},
   "source": [
    "Ok, we are done! Let's look at a page, like page 105.\n",
    "\n",
    "Wow, that's the foreign language translation page - see how it handles other (non-latin) character sets."
   ]
  },
  {
   "cell_type": "code",
   "execution_count": 84,
   "metadata": {},
   "outputs": [
    {
     "data": {
      "text/plain": [
       "105"
      ]
     },
     "execution_count": 84,
     "metadata": {},
     "output_type": "execute_result"
    }
   ],
   "source": [
    "# Use the len() operator to find out how many pages are in the document\n",
    "len(doc)"
   ]
  },
  {
   "cell_type": "markdown",
   "metadata": {},
   "source": [
    "## Page Object\n",
    "\n",
    "Let's now dive deeper. When the document was processed, each page was put into a page object. Here are some things we can do:\n",
    "\n",
    "1. Walk thru each page sequentially as an array index.<br/>\n",
    "2. See the original text from the page.<br/>\n",
    "3. See the \"default\" NLP preprocessing of the text on the page.<br/>\n"
   ]
  },
  {
   "cell_type": "code",
   "execution_count": 85,
   "metadata": {},
   "outputs": [
    {
     "name": "stdout",
     "output_type": "stream",
     "text": [
      "105\n"
     ]
    },
    {
     "data": {
      "text/plain": [
       "<document.Page at 0x5563f98>"
      ]
     },
     "execution_count": 85,
     "metadata": {},
     "output_type": "execute_result"
    }
   ],
   "source": [
    "# Let's take a look at one of the pages\n",
    "pages = doc.pages\n",
    "print(len(pages))\n",
    "pages[104]"
   ]
  },
  {
   "cell_type": "code",
   "execution_count": 86,
   "metadata": {},
   "outputs": [
    {
     "data": {
      "text/plain": [
       "'Legal Notices \\n         Laotian    ໂປດຊາບ:  ຖ້າວ່າ  ທ່ານເວົ້າພາສາ  ລາວ,  ການບໍລິການຊ່ວຍ\\n                    ເຫຼືອດ້ານພາສາ, ໂດຍບໍ່ເສັຽຄ່າ, ແມ່ນມີພ້ອມໃຫ້ທ່ານ. \\n                    ໂທຣ 919-814-4400. \\n         Japanese   注意事項：日本語を話される場合、無料の言語支援をご利用いただけます。919-814-\\n                    4400. \\n                           Notice of Grandfather Status \\n     The State Health Plan believes the 70/30 Plan is a “grandfathered health plan” under the Patient Protection \\n     and Affordable Care Act (the Affordable Care Act). As permitted by the Affordable Care Act, a grandfathered \\n     health plan can preserve certain basic health coverage that was already in effect when that law was enacted. \\n     Being a grandfathered health plan means that your plan may not include certain consumer protections of the \\n     Affordable Care Act that apply to other plans, for example, the requirement for the provision of preventive \\n     health services without any cost sharing. However, grandfathered health plans must comply with certain other \\n     consumer protections in the Affordable Care Act, for example, the elimination of lifetime limits on benefits. \\n     Questions regarding which protections apply and which protections do not apply to a grandfathered health \\n     plan and what might cause a plan to change from grandfathered health plan status can be directed to Customer \\n     Service at 888-234-2416. You may also contact the U.S. Department of Health and Human Services at \\n     www.healthcare.gov. As a plan “grandfathered” under the Affordable Care Act, cost sharing for preventive \\n     benefits may continue as it does currently and be based on the location where the service is provided. \\n                                   \\n                                  98                 Return to Table of Contents'"
      ]
     },
     "execution_count": 86,
     "metadata": {},
     "output_type": "execute_result"
    }
   ],
   "source": [
    "# Let's look at the text for that page (page 105)\n",
    "page = pages[104]\n",
    "page.text"
   ]
  },
  {
   "cell_type": "code",
   "execution_count": 79,
   "metadata": {},
   "outputs": [
    {
     "data": {
      "text/plain": [
       "[{'tag': 0, 'word': 'legal'},\n",
       " {'tag': 0, 'word': 'ໂປດຊາບ'},\n",
       " {'tag': 0, 'word': 'ຖ'},\n",
       " {'tag': 0, 'word': 'າວ'},\n",
       " {'tag': 0, 'word': 'າ'},\n",
       " {'tag': 0, 'word': 'ທ'},\n",
       " {'tag': 0, 'word': 'ານເວ'},\n",
       " {'tag': 0, 'word': 'າພາສາ'},\n",
       " {'tag': 0, 'word': 'ລາວ'},\n",
       " {'tag': 0, 'word': 'ການບ'},\n",
       " {'tag': 0, 'word': 'ລ'},\n",
       " {'tag': 0, 'word': 'ການຊ'},\n",
       " {'tag': 0, 'word': 'ວຍ'},\n",
       " {'tag': 0, 'word': 'ເຫ'},\n",
       " {'tag': 0, 'word': 'ອດ'},\n",
       " {'tag': 0, 'word': 'ານພາສາ'},\n",
       " {'tag': 0, 'word': 'ໂດຍບ'},\n",
       " {'tag': 0, 'word': 'ເສ'},\n",
       " {'tag': 0, 'word': 'ຽຄ'},\n",
       " {'tag': 0, 'word': 'າ'},\n",
       " {'tag': 0, 'word': 'ແມ'},\n",
       " {'tag': 0, 'word': 'ນມ'},\n",
       " {'tag': 0, 'word': 'ພ'},\n",
       " {'tag': 0, 'word': 'ອມໃຫ'},\n",
       " {'tag': 0, 'word': 'ທ'},\n",
       " {'tag': 0, 'word': 'ານ'},\n",
       " {'tag': 0, 'word': 'ໂທຣ'},\n",
       " {'tag': 0, 'word': 'japanese'},\n",
       " {'tag': 0, 'word': '注意事項'},\n",
       " {'tag': 0, 'word': '日本語を話される場合'},\n",
       " {'tag': 0, 'word': '無料の言語支援をご利用いただけます'},\n",
       " {'tag': 0, 'word': 'notice'},\n",
       " {'tag': 0, 'word': 'believe'},\n",
       " {'tag': 0, 'word': 'grandfather'},\n",
       " {'tag': 0, 'word': 'health'},\n",
       " {'tag': 0, 'word': 'plan'},\n",
       " {'tag': 0, 'word': 'permitt'},\n",
       " {'tag': 0, 'word': 'grandfather'},\n",
       " {'tag': 0, 'word': 'health'},\n",
       " {'tag': 0, 'word': 'plan'},\n",
       " {'tag': 0, 'word': 'preserve'},\n",
       " {'tag': 0, 'word': 'basic'},\n",
       " {'tag': 0, 'word': 'health'},\n",
       " {'tag': 0, 'word': 'coverage'},\n",
       " {'tag': 0, 'word': 'effect'},\n",
       " {'tag': 0, 'word': 'law'},\n",
       " {'tag': 0, 'word': 'enact'},\n",
       " {'tag': 0, 'word': 'grandfather'},\n",
       " {'tag': 0, 'word': 'health'},\n",
       " {'tag': 0, 'word': 'plan'},\n",
       " {'tag': 0, 'word': 'mean'},\n",
       " {'tag': 0, 'word': 'plan'},\n",
       " {'tag': 0, 'word': 'consum'},\n",
       " {'tag': 0, 'word': 'protection'},\n",
       " {'tag': 0, 'word': 'apply'},\n",
       " {'tag': 0, 'word': 'plan'},\n",
       " {'tag': 0, 'word': 'example'},\n",
       " {'tag': 0, 'word': 'requirement'},\n",
       " {'tag': 0, 'word': 'provision'},\n",
       " {'tag': 0, 'word': 'preventive'},\n",
       " {'tag': 0, 'word': 'health'},\n",
       " {'tag': 0, 'word': 'service'},\n",
       " {'tag': 0, 'word': 'cost'},\n",
       " {'tag': 0, 'word': 'shar'},\n",
       " {'tag': 0, 'word': 'grandfather'},\n",
       " {'tag': 0, 'word': 'health'},\n",
       " {'tag': 0, 'word': 'plan'},\n",
       " {'tag': 0, 'word': 'must'},\n",
       " {'tag': 0, 'word': 'comp'},\n",
       " {'tag': 0, 'word': 'consum'},\n",
       " {'tag': 0, 'word': 'protection'},\n",
       " {'tag': 0, 'word': 'example'},\n",
       " {'tag': 0, 'word': 'elimination'},\n",
       " {'tag': 0, 'word': 'lifetime'},\n",
       " {'tag': 0, 'word': 'limit'},\n",
       " {'tag': 0, 'word': 'benefit'},\n",
       " {'tag': 0, 'word': 'question'},\n",
       " {'tag': 0, 'word': 'protection'},\n",
       " {'tag': 0, 'word': 'apply'},\n",
       " {'tag': 0, 'word': 'protection'},\n",
       " {'tag': 0, 'word': 'apply'},\n",
       " {'tag': 0, 'word': 'grandfather'},\n",
       " {'tag': 0, 'word': 'health'},\n",
       " {'tag': 0, 'word': 'plan'},\n",
       " {'tag': 0, 'word': 'cause'},\n",
       " {'tag': 0, 'word': 'plan'},\n",
       " {'tag': 0, 'word': 'change'},\n",
       " {'tag': 0, 'word': 'grandfather'},\n",
       " {'tag': 0, 'word': 'health'},\n",
       " {'tag': 0, 'word': 'plan'},\n",
       " {'tag': 0, 'word': 'status'},\n",
       " {'tag': 0, 'word': 'direct'},\n",
       " {'tag': 0, 'word': 'contact'},\n",
       " {'tag': 22, 'word': 'u'},\n",
       " {'tag': 22, 'word': 's'},\n",
       " {'tag': 0, 'word': 'www'},\n",
       " {'tag': 0, 'word': 'healthcare'},\n",
       " {'tag': 0, 'word': 'gov'},\n",
       " {'tag': 0, 'word': 'plan'},\n",
       " {'tag': 0, 'word': 'grandfather'},\n",
       " {'tag': 0, 'word': 'cost'},\n",
       " {'tag': 0, 'word': 'shar'},\n",
       " {'tag': 0, 'word': 'preventive'},\n",
       " {'tag': 0, 'word': 'benefit'},\n",
       " {'tag': 0, 'word': 'continue'},\n",
       " {'tag': 0, 'word': 'current'},\n",
       " {'tag': 0, 'word': 'bas'},\n",
       " {'tag': 0, 'word': 'location'},\n",
       " {'tag': 0, 'word': 'service'},\n",
       " {'tag': 0, 'word': 'provid'}]"
      ]
     },
     "execution_count": 79,
     "metadata": {},
     "output_type": "execute_result"
    }
   ],
   "source": [
    "# Let's look at the default NLP preprocessing of the text (stemming, stopword removal, punct removal)\n",
    "page.words\n"
   ]
  },
  {
   "cell_type": "markdown",
   "metadata": {},
   "source": [
    "## Word Object\n",
    "\n",
    "Let's directly use the Word object to control how the text is NLP preprocessed."
   ]
  },
  {
   "cell_type": "code",
   "execution_count": 80,
   "metadata": {},
   "outputs": [],
   "source": [
    "# import the Words class\n",
    "from document import Words"
   ]
  },
  {
   "cell_type": "code",
   "execution_count": 81,
   "metadata": {},
   "outputs": [
    {
     "data": {
      "text/plain": [
       "[{'tag': 0, 'word': 'grandfather'}, {'tag': 0, 'word': 'consum'}]"
      ]
     },
     "execution_count": 81,
     "metadata": {},
     "output_type": "execute_result"
    }
   ],
   "source": [
    "\n",
    "w = Words(\"grandfather, consumer\", stopwords=True)\n",
    "w.words"
   ]
  },
  {
   "cell_type": "markdown",
   "metadata": {},
   "source": [
    "### NER (Name Entity Recognition)"
   ]
  },
  {
   "cell_type": "code",
   "execution_count": 91,
   "metadata": {},
   "outputs": [],
   "source": [
    "# Let's look at a string with a name and social security number.\n",
    "w = Words(\" word1 word2 Jim Jones, SSN: 123-12-1234 word3\", stopwords=True)"
   ]
  },
  {
   "cell_type": "code",
   "execution_count": 92,
   "metadata": {},
   "outputs": [
    {
     "data": {
      "text/plain": [
       "[{'tag': 0, 'word': 'word1'},\n",
       " {'tag': 0, 'word': 'word2'},\n",
       " {'tag': 11, 'word': 'jim'},\n",
       " {'tag': 11, 'word': 'jones'},\n",
       " {'tag': 9, 'word': '123121234'},\n",
       " {'tag': 0, 'word': 'word3'}]"
      ]
     },
     "execution_count": 92,
     "metadata": {},
     "output_type": "execute_result"
    }
   ],
   "source": [
    "# Let's print the word list. Note that jim and jones are tagged 11 (Proper Name) and 123121234 is tagged 9 (SSN)\n",
    "w.words"
   ]
  },
  {
   "cell_type": "markdown",
   "metadata": {},
   "source": [
    "### De-Identification"
   ]
  },
  {
   "cell_type": "code",
   "execution_count": 94,
   "metadata": {},
   "outputs": [
    {
     "data": {
      "text/plain": [
       "[{'tag': 0, 'word': 'word1'},\n",
       " {'tag': 0, 'word': 'word2'},\n",
       " {'tag': 0, 'word': 'word3'}]"
      ]
     },
     "execution_count": 94,
     "metadata": {},
     "output_type": "execute_result"
    }
   ],
   "source": [
    "# Let's remove any names and SSN from our text\n",
    "w = Words(\"  word1 word2 Jim Jones, SSN: 123-12-1234 word3\", name=False, ssn=False)\n",
    "w.words"
   ]
  },
  {
   "cell_type": "markdown",
   "metadata": {},
   "source": [
    "## THAT'S ALL FOR SESSION 1\n",
    "\n",
    "Look forward to seeing everyone again on session 2 where we will do some serious deep diving."
   ]
  },
  {
   "cell_type": "code",
   "execution_count": null,
   "metadata": {},
   "outputs": [],
   "source": []
  }
 ],
 "metadata": {
  "celltoolbar": "Edit Metadata",
  "kernelspec": {
   "display_name": "Python 3",
   "language": "python",
   "name": "python3"
  },
  "language_info": {
   "codemirror_mode": {
    "name": "ipython",
    "version": 3
   },
   "file_extension": ".py",
   "mimetype": "text/x-python",
   "name": "python",
   "nbconvert_exporter": "python",
   "pygments_lexer": "ipython3",
   "version": "3.5.2"
  }
 },
 "nbformat": 4,
 "nbformat_minor": 2
}
