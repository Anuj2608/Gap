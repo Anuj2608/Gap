{
 "cells": [
  {
   "cell_type": "markdown",
   "metadata": {},
   "source": [
    "# Gap Framework - Computer Vision\n",
    "\n",
    "In this session, we will introduce you to preprocessing image data for computer vision. Preprocessing, storage, retrieval and batch management are all handled by two classes, the Image and Images class.\n",
    "\n",
    "    Image - represents a single preprocessed image\n",
    "    Images - represents a collection (or batch) of preprocessed images"
   ]
  },
  {
   "cell_type": "code",
   "execution_count": 1,
   "metadata": {},
   "outputs": [
    {
     "name": "stdout",
     "output_type": "stream",
     "text": [
      "C:\\Users\\'\\Desktop\\Gap-ml\n"
     ]
    }
   ],
   "source": [
    "# Let's go the directory of the Gap Framework\n",
    "import os\n",
    "os.chdir(\"../\")\n",
    "!cd"
   ]
  },
  {
   "cell_type": "markdown",
   "metadata": {},
   "source": [
    "### Setup\n",
    "\n",
    "Let's start by importing the Gap <b style='color:saddlebrown'>vision</b> module"
   ]
  },
  {
   "cell_type": "code",
   "execution_count": 64,
   "metadata": {},
   "outputs": [],
   "source": [
    "# import the Gap Vision module\n",
    "from vision import Image, Images"
   ]
  },
  {
   "cell_type": "markdown",
   "metadata": {},
   "source": [
    "Let's go to a respository of images for sign language. We will use this repository for image preprocessing for computer vision."
   ]
  },
  {
   "cell_type": "code",
   "execution_count": 3,
   "metadata": {},
   "outputs": [],
   "source": [
    "os.chdir(\"../Training/AITraining/Intermediate/Machine Learning/sign-lang\")"
   ]
  },
  {
   "cell_type": "code",
   "execution_count": 66,
   "metadata": {},
   "outputs": [
    {
     "name": "stdout",
     "output_type": "stream",
     "text": [
      "['0', '1', '10', '11', '12', '13', '14', '15', '16', '17', '18', '19', '2', '20', '21', '22', '23', '24', '25', '26', '3', '4', '5', '6', '7', '8', '9']\n"
     ]
    }
   ],
   "source": [
    "# The sign language characters (a-z) are labeled 1 .. 26, and 0 is for not a character.\n",
    "# Each of the training images are under a subdirectory of the corresponding label.\n",
    "labels = os.listdir(\"gestures\")\n",
    "print(labels)"
   ]
  },
  {
   "cell_type": "markdown",
   "metadata": {},
   "source": [
    "### Image Class\n",
    "\n",
    "The Image class supports the pre-processing of a single image into machine learning ready data. It can process JPG, PNG, TIF and GIF files. We will start by instantiating an image object for an image in the sign-lang image collection. For parameters, we will give the path to the image, and the label value (1). Labels must be mapped into integer values. For the sign-lang dataset, 1-26 is mapped to the 26 letters of the alphabet, and 0 is for a non-letter. \n",
    "\n",
    "When we instantiate the image, by default the following will happen:\n",
    "\n",
    "    1. Image is read in and decompressed, as a numpy array.\n",
    "    2. The image is processed according to the configuration parameters or defaults (e.g., resize, normalized, flatten,   \n",
    "       channel conversion)\n",
    "    3. The raw image data, processed image data, thumbnail, and metadata are stored to a HDF5 file system."
   ]
  },
  {
   "cell_type": "code",
   "execution_count": 67,
   "metadata": {},
   "outputs": [],
   "source": [
    "image = Image('gestures/1/1.jpg', 1)"
   ]
  },
  {
   "cell_type": "markdown",
   "metadata": {},
   "source": [
    "### Image Properties\n",
    "\n",
    "Let's look at some properties of the Image class.\n",
    "\n",
    "Note how the shape of the ML ready data is (50, 50, 3). We will change that in a bit."
   ]
  },
  {
   "cell_type": "code",
   "execution_count": 68,
   "metadata": {},
   "outputs": [
    {
     "name": "stdout",
     "output_type": "stream",
     "text": [
      "1\n",
      "jpg\n",
      "./\n",
      "1336\n",
      "(50, 50, 3)\n",
      "1\n",
      "0.062400102615356445\n"
     ]
    }
   ],
   "source": [
    "print( image.name )   # The root name of the image (w/o suffix)\n",
    "print( image.type )   # Type of image (e.g. jpeg)\n",
    "print( image.dir )    # The directory where the ML ready data will be stored\n",
    "print( image.size )   # The original size of the image\n",
    "print( image.shape )  # The shape of the preprocessed image (ML ready data)\n",
    "print( image.label )  # The label\n",
    "print( image.time )   # The amount of time (secs) to preprocess the image"
   ]
  },
  {
   "cell_type": "markdown",
   "metadata": {},
   "source": [
    "### Image Data\n",
    "\n",
    "Let's look at both the raw and ML ready data."
   ]
  },
  {
   "cell_type": "code",
   "execution_count": 69,
   "metadata": {},
   "outputs": [
    {
     "name": "stdout",
     "output_type": "stream",
     "text": [
      "Raw Data [[[0 0 0]\n",
      "  [0 0 0]\n",
      "  [0 0 0]\n",
      "  ...\n",
      "  [0 0 0]\n",
      "  [0 0 0]\n",
      "  [0 0 0]]\n",
      "\n",
      " [[0 0 0]\n",
      "  [0 0 0]\n",
      "  [0 0 0]\n",
      "  ...\n",
      "  [0 0 0]\n",
      "  [0 0 0]\n",
      "  [0 0 0]]\n",
      "\n",
      " [[0 0 0]\n",
      "  [0 0 0]\n",
      "  [0 0 0]\n",
      "  ...\n",
      "  [0 0 0]\n",
      "  [0 0 0]\n",
      "  [0 0 0]]\n",
      "\n",
      " ...\n",
      "\n",
      " [[0 0 0]\n",
      "  [0 0 0]\n",
      "  [0 0 0]\n",
      "  ...\n",
      "  [0 0 0]\n",
      "  [0 0 0]\n",
      "  [0 0 0]]\n",
      "\n",
      " [[0 0 0]\n",
      "  [0 0 0]\n",
      "  [0 0 0]\n",
      "  ...\n",
      "  [0 0 0]\n",
      "  [0 0 0]\n",
      "  [0 0 0]]\n",
      "\n",
      " [[0 0 0]\n",
      "  [0 0 0]\n",
      "  [0 0 0]\n",
      "  ...\n",
      "  [0 0 0]\n",
      "  [0 0 0]\n",
      "  [0 0 0]]]\n",
      "ML ready data [[[0. 0. 0.]\n",
      "  [0. 0. 0.]\n",
      "  [0. 0. 0.]\n",
      "  ...\n",
      "  [0. 0. 0.]\n",
      "  [0. 0. 0.]\n",
      "  [0. 0. 0.]]\n",
      "\n",
      " [[0. 0. 0.]\n",
      "  [0. 0. 0.]\n",
      "  [0. 0. 0.]\n",
      "  ...\n",
      "  [0. 0. 0.]\n",
      "  [0. 0. 0.]\n",
      "  [0. 0. 0.]]\n",
      "\n",
      " [[0. 0. 0.]\n",
      "  [0. 0. 0.]\n",
      "  [0. 0. 0.]\n",
      "  ...\n",
      "  [0. 0. 0.]\n",
      "  [0. 0. 0.]\n",
      "  [0. 0. 0.]]\n",
      "\n",
      " ...\n",
      "\n",
      " [[0. 0. 0.]\n",
      "  [0. 0. 0.]\n",
      "  [0. 0. 0.]\n",
      "  ...\n",
      "  [0. 0. 0.]\n",
      "  [0. 0. 0.]\n",
      "  [0. 0. 0.]]\n",
      "\n",
      " [[0. 0. 0.]\n",
      "  [0. 0. 0.]\n",
      "  [0. 0. 0.]\n",
      "  ...\n",
      "  [0. 0. 0.]\n",
      "  [0. 0. 0.]\n",
      "  [0. 0. 0.]]\n",
      "\n",
      " [[0. 0. 0.]\n",
      "  [0. 0. 0.]\n",
      "  [0. 0. 0.]\n",
      "  ...\n",
      "  [0. 0. 0.]\n",
      "  [0. 0. 0.]\n",
      "  [0. 0. 0.]]]\n"
     ]
    }
   ],
   "source": [
    "print(\"Raw Data\", image.raw)\n",
    "print(\"ML ready data\", image.data)"
   ]
  },
  {
   "cell_type": "markdown",
   "metadata": {},
   "source": [
    "By default, the number of channels is preserved (e.g., 1 for grayscale, 3 for RGB, and 4 for RGBA), and the data is normalized. On the later, the 0..255 pixel values are rescaled between 0 and 1.\n",
    "\n",
    "Let's now change the preprocessing of the image to a grayscale image and resize it to 32x32. When we print the shape, you can see the 3rd dimension (channels) is gone - indicating a grayscale image, and the size is now 32 by 32."
   ]
  },
  {
   "cell_type": "code",
   "execution_count": 70,
   "metadata": {},
   "outputs": [
    {
     "name": "stdout",
     "output_type": "stream",
     "text": [
      "(32, 32)\n"
     ]
    }
   ],
   "source": [
    "image = Image('gestures/1/1.jpg', 1, config=['grayscale', 'resize=(32,32)'])\n",
    "\n",
    "print( image.shape )"
   ]
  },
  {
   "cell_type": "markdown",
   "metadata": {},
   "source": [
    "Let's now say that the image data will be feed into a ANN (not CNN) or to a CNN with a 1D input vector. In this case, we need to feed the ML ready data as a flatten 1D vector. We can do that to. Now when we print the shape you can see its 1024 (32 x 32)."
   ]
  },
  {
   "cell_type": "code",
   "execution_count": 71,
   "metadata": {},
   "outputs": [
    {
     "name": "stdout",
     "output_type": "stream",
     "text": [
      "(1024,)\n"
     ]
    }
   ],
   "source": [
    "image = Image('gestures/1/1.jpg', 1, config=['grayscale', 'resize=(32,32)', 'flatten'])\n",
    "\n",
    "print( image.shape )"
   ]
  },
  {
   "cell_type": "markdown",
   "metadata": {},
   "source": [
    "### Image Loading\n",
    "\n",
    "When an image is preprocessed, the ML ready data, raw data and attributes are stored in an HDF5 file. We can subsequently recall (load) the image information from the HDF5 file into an image object."
   ]
  },
  {
   "cell_type": "code",
   "execution_count": 72,
   "metadata": {
    "scrolled": true
   },
   "outputs": [],
   "source": [
    "image = Image()   # Create an empty image object\n",
    "image.load('1.h5')"
   ]
  },
  {
   "cell_type": "markdown",
   "metadata": {},
   "source": [
    "Let's see if we get the same properties again."
   ]
  },
  {
   "cell_type": "code",
   "execution_count": 73,
   "metadata": {},
   "outputs": [
    {
     "name": "stdout",
     "output_type": "stream",
     "text": [
      "1\n",
      "h5\n",
      "./\n",
      "18888\n",
      "(1024,)\n",
      "1\n"
     ]
    }
   ],
   "source": [
    "print( image.name )   # The root name of the image (w/o suffix)\n",
    "print( image.type )   # Type of image (e.g. jpeg)\n",
    "print( image.dir )    # The directory where the ML ready data will be stored\n",
    "print( image.size )   # The original size of the image\n",
    "print( image.shape )  # The shape of the preprocessed image (ML ready data)\n",
    "print( image.label )  # The label"
   ]
  },
  {
   "cell_type": "markdown",
   "metadata": {},
   "source": [
    "Let's check that we get the raw and ML ready data again."
   ]
  },
  {
   "cell_type": "code",
   "execution_count": 74,
   "metadata": {},
   "outputs": [
    {
     "name": "stdout",
     "output_type": "stream",
     "text": [
      "Raw Data [[0 0 0 ... 0 0 0]\n",
      " [0 0 0 ... 0 0 0]\n",
      " [0 0 0 ... 0 0 0]\n",
      " ...\n",
      " [0 0 0 ... 0 0 0]\n",
      " [0 0 0 ... 0 0 0]\n",
      " [0 0 0 ... 0 0 0]]\n",
      "ML ready data [0. 0. 0. ... 0. 0. 0.]\n"
     ]
    }
   ],
   "source": [
    "print(\"Raw Data\", image.raw)\n",
    "print(\"ML ready data\", image.data)"
   ]
  },
  {
   "cell_type": "markdown",
   "metadata": {},
   "source": [
    "### Thumbnails\n",
    "\n",
    "We can also generate a store a thumbnail of the original image with the config parameter thumb. In the example below, we create a thumbnail with size 16x16"
   ]
  },
  {
   "cell_type": "code",
   "execution_count": 75,
   "metadata": {},
   "outputs": [
    {
     "name": "stdout",
     "output_type": "stream",
     "text": [
      "[[  0   0   9 193 177   2   1   1   1   1   0   0   0   0   0   0]\n",
      " [  0   0  32 254 243  67  21   5   1   1   0   0   0   0   0   0]\n",
      " [  0   0  97 254 254 254 255 207 184  60  11   0   0   0   0   0]\n",
      " [  0   0 112 255 255 255 255 255 254 253 222 203 127   1   1   0]\n",
      " [  0   0 112 255 255 255 255 255 254 254 254 254 239  22   1   0]\n",
      " [  0   0  97 254 254 255 255 255 255 255 255 255 255  78   1   0]\n",
      " [  0   0  32 254 254 255 255 255 255 255 255 255 255 112   1   0]\n",
      " [  0   0  16 230 254 255 255 255 255 255 255 255 255 112   1   0]\n",
      " [  0   0   0 145 254 255 255 255 255 255 255 255 255  63   1   0]\n",
      " [  0   0   0  18 229 255 255 255 255 255 255 255 255  31   1   0]\n",
      " [  0   0   0   1 138 254 254 255 255 255 254 254 240  23   0   0]\n",
      " [  0   0   0   1  24 238 254 254 255 255 254 254 204   1   1   0]\n",
      " [  0   0   0   0   1 134 254 255 255 255 254 254 142   0   1   0]\n",
      " [  0   0   0   0   0  51 250 255 255 255 255 254  91   0   0   0]\n",
      " [  0   0   0   0   0   2 234 254 255 255 254 214   6   0   0   0]\n",
      " [  0   0   0   0   0   0 182 255 255 255 255 160   1   0   0   0]]\n",
      "Thumb Shape (16, 16)\n"
     ]
    }
   ],
   "source": [
    "image = Image('gestures/1/1.jpg', 1, config=['grayscale', 'thumb=(16,16)'])\n",
    "print(image.thumb)\n",
    "print(\"Thumb Shape\", image.thumb.shape)"
   ]
  },
  {
   "cell_type": "markdown",
   "metadata": {},
   "source": [
    "### Aysnchronous Preprocess\n",
    "\n",
    "The image data can also be preprocessed asynchronously. In this mode, the parameter ehandler is set to an event handler (function) that will be called when the image is done being preprocessed. The image object is passed as a parameter to the event handler."
   ]
  },
  {
   "cell_type": "code",
   "execution_count": 76,
   "metadata": {},
   "outputs": [
    {
     "name": "stdout",
     "output_type": "stream",
     "text": [
      "DONE 1\n"
     ]
    }
   ],
   "source": [
    "def func(image):\n",
    "    print(\"DONE\", image.name)\n",
    "\n",
    "image = Image('gestures/1/1.jpg', 1, ehandler=func)"
   ]
  },
  {
   "cell_type": "code",
   "execution_count": 77,
   "metadata": {},
   "outputs": [],
   "source": [
    "# Let's cleanup and remove the HDF5 file\n",
    "os.remove(\"1.h5\")"
   ]
  },
  {
   "cell_type": "markdown",
   "metadata": {},
   "source": [
    "## Images Class\n",
    "\n",
    "The Images class supports the pre-processing of a collection of images into machine learning ready data. For required parameters, the Image class takes a list of images and either a list of corresponding labels, or a single value, when all the images share the same label.\n",
    "\n",
    "Let's start by creating an Images object for all the images under the subfolder 1 (letter A)."
   ]
  },
  {
   "cell_type": "code",
   "execution_count": 78,
   "metadata": {},
   "outputs": [
    {
     "data": {
      "text/plain": [
       "1200"
      ]
     },
     "execution_count": 78,
     "metadata": {},
     "output_type": "execute_result"
    }
   ],
   "source": [
    "# Let's get a list of all the images in the subfolder for the label 1 (letter A)\n",
    "imgdir = \"gestures/1/\"\n",
    "imglst = [imgdir + x for x in os.listdir(imgdir)]\n",
    "\n",
    "# There should be 1200 images\n",
    "len(imglst)"
   ]
  },
  {
   "cell_type": "markdown",
   "metadata": {},
   "source": [
    "Let's now create an Images object and preprocess all the above images.\n",
    "    1. Process all 1200 images in the subfolder 1\n",
    "    2. Set the label to 1\n",
    "    3. Convert them to grayscale.\n",
    "    \n",
    "By default, the image data will be stored in an HDF5 file with the name 'collection.1.h5'."
   ]
  },
  {
   "cell_type": "code",
   "execution_count": 79,
   "metadata": {},
   "outputs": [
    {
     "data": {
      "text/plain": [
       "True"
      ]
     },
     "execution_count": 79,
     "metadata": {},
     "output_type": "execute_result"
    }
   ],
   "source": [
    "# Preprocess the set of images\n",
    "images = Images(imglst, 1, config=['grayscale'])\n",
    "\n",
    "# Check that the image data is stored in HDF5 file.\n",
    "os.path.exists(\"collection.1.h5\")"
   ]
  },
  {
   "cell_type": "markdown",
   "metadata": {},
   "source": [
    "### Images Properties\n",
    "\n",
    "Next, we will show some properties of the Images object.\n",
    "\n",
    "Note, how fast it was to preproess the set of 1200 images into machine ready data and store them in an HDF5 file."
   ]
  },
  {
   "cell_type": "code",
   "execution_count": 80,
   "metadata": {},
   "outputs": [
    {
     "name": "stdout",
     "output_type": "stream",
     "text": [
      "collection.1\n",
      "./\n",
      "3.915606737136841\n"
     ]
    }
   ],
   "source": [
    "print( images.name )   # The name of the collection of images\n",
    "print( image.dir )     # where the ML ready data is stored\n",
    "print( images.time )   # The length of time to preprocess the collection of images"
   ]
  },
  {
   "cell_type": "code",
   "execution_count": 81,
   "metadata": {},
   "outputs": [
    {
     "name": "stdout",
     "output_type": "stream",
     "text": [
      "LABELS [1, 1, 1, 1, 1, 1, 1, 1, 1, 1, 1, 1, 1, 1, 1, 1, 1, 1, 1, 1, 1, 1, 1, 1, 1, 1, 1, 1, 1, 1, 1, 1, 1, 1, 1, 1, 1, 1, 1, 1, 1, 1, 1, 1, 1, 1, 1, 1, 1, 1, 1, 1, 1, 1, 1, 1, 1, 1, 1, 1, 1, 1, 1, 1, 1, 1, 1, 1, 1, 1, 1, 1, 1, 1, 1, 1, 1, 1, 1, 1, 1, 1, 1, 1, 1, 1, 1, 1, 1, 1, 1, 1, 1, 1, 1, 1, 1, 1, 1, 1, 1, 1, 1, 1, 1, 1, 1, 1, 1, 1, 1, 1, 1, 1, 1, 1, 1, 1, 1, 1, 1, 1, 1, 1, 1, 1, 1, 1, 1, 1, 1, 1, 1, 1, 1, 1, 1, 1, 1, 1, 1, 1, 1, 1, 1, 1, 1, 1, 1, 1, 1, 1, 1, 1, 1, 1, 1, 1, 1, 1, 1, 1, 1, 1, 1, 1, 1, 1, 1, 1, 1, 1, 1, 1, 1, 1, 1, 1, 1, 1, 1, 1, 1, 1, 1, 1, 1, 1, 1, 1, 1, 1, 1, 1, 1, 1, 1, 1, 1, 1, 1, 1, 1, 1, 1, 1, 1, 1, 1, 1, 1, 1, 1, 1, 1, 1, 1, 1, 1, 1, 1, 1, 1, 1, 1, 1, 1, 1, 1, 1, 1, 1, 1, 1, 1, 1, 1, 1, 1, 1, 1, 1, 1, 1, 1, 1, 1, 1, 1, 1, 1, 1, 1, 1, 1, 1, 1, 1, 1, 1, 1, 1, 1, 1, 1, 1, 1, 1, 1, 1, 1, 1, 1, 1, 1, 1, 1, 1, 1, 1, 1, 1, 1, 1, 1, 1, 1, 1, 1, 1, 1, 1, 1, 1, 1, 1, 1, 1, 1, 1, 1, 1, 1, 1, 1, 1, 1, 1, 1, 1, 1, 1, 1, 1, 1, 1, 1, 1, 1, 1, 1, 1, 1, 1, 1, 1, 1, 1, 1, 1, 1, 1, 1, 1, 1, 1, 1, 1, 1, 1, 1, 1, 1, 1, 1, 1, 1, 1, 1, 1, 1, 1, 1, 1, 1, 1, 1, 1, 1, 1, 1, 1, 1, 1, 1, 1, 1, 1, 1, 1, 1, 1, 1, 1, 1, 1, 1, 1, 1, 1, 1, 1, 1, 1, 1, 1, 1, 1, 1, 1, 1, 1, 1, 1, 1, 1, 1, 1, 1, 1, 1, 1, 1, 1, 1, 1, 1, 1, 1, 1, 1, 1, 1, 1, 1, 1, 1, 1, 1, 1, 1, 1, 1, 1, 1, 1, 1, 1, 1, 1, 1, 1, 1, 1, 1, 1, 1, 1, 1, 1, 1, 1, 1, 1, 1, 1, 1, 1, 1, 1, 1, 1, 1, 1, 1, 1, 1, 1, 1, 1, 1, 1, 1, 1, 1, 1, 1, 1, 1, 1, 1, 1, 1, 1, 1, 1, 1, 1, 1, 1, 1, 1, 1, 1, 1, 1, 1, 1, 1, 1, 1, 1, 1, 1, 1, 1, 1, 1, 1, 1, 1, 1, 1, 1, 1, 1, 1, 1, 1, 1, 1, 1, 1, 1, 1, 1, 1, 1, 1, 1, 1, 1, 1, 1, 1, 1, 1, 1, 1, 1, 1, 1, 1, 1, 1, 1, 1, 1, 1, 1, 1, 1, 1, 1, 1, 1, 1, 1, 1, 1, 1, 1, 1, 1, 1, 1, 1, 1, 1, 1, 1, 1, 1, 1, 1, 1, 1, 1, 1, 1, 1, 1, 1, 1, 1, 1, 1, 1, 1, 1, 1, 1, 1, 1, 1, 1, 1, 1, 1, 1, 1, 1, 1, 1, 1, 1, 1, 1, 1, 1, 1, 1, 1, 1, 1, 1, 1, 1, 1, 1, 1, 1, 1, 1, 1, 1, 1, 1, 1, 1, 1, 1, 1, 1, 1, 1, 1, 1, 1, 1, 1, 1, 1, 1, 1, 1, 1, 1, 1, 1, 1, 1, 1, 1, 1, 1, 1, 1, 1, 1, 1, 1, 1, 1, 1, 1, 1, 1, 1, 1, 1, 1, 1, 1, 1, 1, 1, 1, 1, 1, 1, 1, 1, 1, 1, 1, 1, 1, 1, 1, 1, 1, 1, 1, 1, 1, 1, 1, 1, 1, 1, 1, 1, 1, 1, 1, 1, 1, 1, 1, 1, 1, 1, 1, 1, 1, 1, 1, 1, 1, 1, 1, 1, 1, 1, 1, 1, 1, 1, 1, 1, 1, 1, 1, 1, 1, 1, 1, 1, 1, 1, 1, 1, 1, 1, 1, 1, 1, 1, 1, 1, 1, 1, 1, 1, 1, 1, 1, 1, 1, 1, 1, 1, 1, 1, 1, 1, 1, 1, 1, 1, 1, 1, 1, 1, 1, 1, 1, 1, 1, 1, 1, 1, 1, 1, 1, 1, 1, 1, 1, 1, 1, 1, 1, 1, 1, 1, 1, 1, 1, 1, 1, 1, 1, 1, 1, 1, 1, 1, 1, 1, 1, 1, 1, 1, 1, 1, 1, 1, 1, 1, 1, 1, 1, 1, 1, 1, 1, 1, 1, 1, 1, 1, 1, 1, 1, 1, 1, 1, 1, 1, 1, 1, 1, 1, 1, 1, 1, 1, 1, 1, 1, 1, 1, 1, 1, 1, 1, 1, 1, 1, 1, 1, 1, 1, 1, 1, 1, 1, 1, 1, 1, 1, 1, 1, 1, 1, 1, 1, 1, 1, 1, 1, 1, 1, 1, 1, 1, 1, 1, 1, 1, 1, 1, 1, 1, 1, 1, 1, 1, 1, 1, 1, 1, 1, 1, 1, 1, 1, 1, 1, 1, 1, 1, 1, 1, 1, 1, 1, 1, 1, 1, 1, 1, 1, 1, 1, 1, 1, 1, 1, 1, 1, 1, 1, 1, 1, 1, 1, 1, 1, 1, 1, 1, 1, 1, 1, 1, 1, 1, 1, 1, 1, 1, 1, 1, 1, 1, 1, 1, 1, 1, 1, 1, 1, 1, 1, 1, 1, 1, 1, 1, 1, 1, 1, 1, 1, 1, 1, 1, 1, 1, 1, 1, 1, 1, 1, 1, 1, 1, 1, 1, 1, 1, 1, 1, 1, 1, 1, 1, 1, 1, 1, 1, 1, 1, 1, 1, 1, 1, 1, 1, 1, 1, 1, 1, 1, 1, 1, 1, 1, 1, 1, 1, 1, 1, 1, 1, 1, 1, 1, 1, 1, 1, 1, 1, 1, 1, 1, 1, 1, 1, 1, 1, 1, 1, 1, 1, 1, 1, 1, 1, 1, 1, 1, 1, 1, 1, 1, 1, 1, 1, 1, 1, 1, 1, 1, 1, 1, 1, 1, 1, 1, 1, 1, 1, 1, 1, 1, 1, 1, 1, 1, 1, 1, 1, 1, 1, 1, 1, 1, 1, 1, 1, 1, 1, 1, 1, 1, 1, 1, 1, 1, 1, 1, 1, 1, 1, 1, 1, 1, 1, 1, 1, 1, 1, 1, 1, 1, 1, 1, 1, 1, 1, 1, 1, 1, 1, 1, 1, 1, 1, 1, 1, 1, 1, 1, 1, 1, 1, 1, 1, 1, 1, 1, 1, 1, 1, 1, 1, 1, 1, 1, 1, 1, 1, 1, 1, 1, 1, 1, 1, 1, 1, 1, 1, 1, 1, 1, 1, 1, 1, 1, 1, 1, 1, 1, 1, 1, 1, 1, 1, 1, 1, 1, 1, 1, 1, 1, 1, 1, 1, 1, 1, 1, 1, 1, 1, 1, 1, 1, 1, 1, 1, 1, 1, 1, 1, 1, 1]\n"
     ]
    }
   ],
   "source": [
    "# Let's print the vector of labels\n",
    "print(\"LABELS\", images.label)"
   ]
  },
  {
   "cell_type": "markdown",
   "metadata": {},
   "source": [
    "The Image objects for each corresponding image can be accessed using the [] index operator. Let's get the 33rd one."
   ]
  },
  {
   "cell_type": "code",
   "execution_count": 82,
   "metadata": {},
   "outputs": [
    {
     "name": "stdout",
     "output_type": "stream",
     "text": [
      "<class 'vision.Image'>\n",
      "Name 1027\n"
     ]
    }
   ],
   "source": [
    "# The third Image object\n",
    "image = images[32]\n",
    "print(type(image))\n",
    "print(\"Name\", image.name)"
   ]
  },
  {
   "cell_type": "markdown",
   "metadata": {},
   "source": [
    "### Aysnchronous Preprocess\n",
    "\n",
    "A collection of images can also be preprocessed asynchronously. In this mode, the parameter ehandler is set to an event handler (function) that will be called when the collection of images is done being preprocessed. The images object is passed as a parameter to the event handler."
   ]
  },
  {
   "cell_type": "code",
   "execution_count": 83,
   "metadata": {},
   "outputs": [
    {
     "name": "stdout",
     "output_type": "stream",
     "text": [
      "DONE collection.1 TIME 3.8220067024230957\n"
     ]
    }
   ],
   "source": [
    "def func(images):\n",
    "    print(\"DONE\", images.name, \"TIME\", images.time)\n",
    "    \n",
    "images = Images(imglst, 1, config=['grayscale'], ehandler=func)"
   ]
  },
  {
   "cell_type": "markdown",
   "metadata": {},
   "source": [
    "### Splitting a Collection into Training and Test Data\n",
    "\n",
    "The split property will split the image objects into training and test data. The list of training objects is then randomized. When used as a setter, the property takes either 1 or 2 arguments. The first argument is the percentage that is test data, and the optional second argument is the seed for the random shuffle."
   ]
  },
  {
   "cell_type": "code",
   "execution_count": 84,
   "metadata": {},
   "outputs": [
    {
     "name": "stdout",
     "output_type": "stream",
     "text": [
      "960\n",
      "TRAIN INDICES [788, 861, 82, 530, 1047, 995, 829, 621, 976, 733, 447, 1033, 285, 577, 286, 194, 513, 1090, 300, 635, 202, 151, 676, 966, 1146, 206, 724, 889, 647, 418, 1131, 1191, 906, 1067, 533, 127, 1123, 28, 191, 816, 2, 1010, 682, 499, 666, 128, 391, 454, 488, 291, 1112, 917, 186, 164, 655, 1040, 1002, 223, 617, 1128, 596, 255, 1121, 681, 1106, 416, 1120, 589, 911, 187, 1199, 649, 495, 594, 376, 387, 382, 67, 532, 975, 141, 183, 266, 306, 79, 1175, 1107, 801, 1074, 564, 1068, 482, 440, 858, 563, 922, 1008, 731, 168, 664, 236, 996, 686, 389, 497, 33, 555, 239, 451, 761, 349, 1136, 872, 1164, 1174, 299, 448, 92, 1178, 54, 254, 386, 245, 1149, 1130, 758, 237, 74, 44, 398, 378, 253, 981, 431, 125, 46, 871, 207, 1137, 143, 452, 147, 616, 717, 893, 369, 1065, 1031, 956, 80, 1085, 1076, 408, 1061, 734, 963, 346, 1134, 118, 324, 331, 701, 1183, 240, 905, 358, 27, 965, 839, 637, 1102, 795, 1037, 314, 25, 937, 161, 343, 756, 1064, 557, 287, 138, 1077, 780, 1168, 493, 360, 624, 294, 689, 367, 604, 969, 913, 648, 874, 1180, 135, 732, 317, 397, 766, 424, 848, 1155, 1197, 1, 608, 196, 715, 342, 163, 1016, 228, 652, 458, 1124, 727, 896, 1009, 581, 895, 1098, 32, 411, 892, 718, 978, 428, 790, 678, 726, 47, 169, 456, 65, 265, 972, 1023, 457, 540, 1167, 498, 929, 574, 618, 773, 0, 1035, 39, 506, 333, 319, 857, 478, 51, 828, 842, 980, 831, 425, 192, 561, 1004, 85, 945, 742, 133, 15, 974, 694, 427, 323, 3, 218, 14, 1045, 772, 1159, 941, 691, 541, 626, 100, 195, 121, 622, 1100, 203, 894, 309, 1185, 705, 1147, 102, 487, 1003, 406, 642, 83, 22, 281, 463, 819, 811, 1041, 882, 262, 136, 669, 1165, 836, 994, 660, 355, 117, 158, 1187, 1063, 19, 43, 41, 210, 697, 962, 571, 322, 375, 971, 869, 878, 866, 767, 961, 912, 671, 948, 729, 659, 469, 1145, 445, 381, 550, 182, 212, 384, 601, 298, 9, 1119, 154, 277, 341, 345, 808, 1125, 735, 95, 1043, 798, 1143, 36, 42, 276, 167, 153, 597, 296, 1054, 404, 936, 132, 1181, 883, 489, 748, 986, 49, 315, 1118, 535, 746, 72, 908, 412, 336, 1116, 1014, 111, 101, 954, 492, 485, 844, 351, 1086, 490, 1055, 716, 509, 436, 38, 814, 1022, 752, 703, 159, 170, 641, 578, 852, 654, 89, 1122, 86, 1179, 867, 226, 62, 394, 8, 915, 403, 569, 531, 830, 459, 500, 598, 1029, 695, 222, 433, 934, 377, 225, 267, 599, 1006, 441, 990, 1103, 824, 1044, 865, 1162, 538, 462, 693, 1049, 1005, 838, 407, 891, 853, 656, 868, 221, 638, 149, 107, 782, 859, 982, 370, 559, 847, 737, 610, 1156, 1081, 1186, 415, 653, 696, 765, 888, 507, 781, 330, 510, 1056, 650, 1097, 822, 1093, 1011, 224, 849, 348, 325, 329, 887, 537, 1166, 263, 1141, 791, 388, 1139, 301, 481, 784, 783, 528, 40, 719, 230, 931, 877, 307, 930, 771, 338, 1114, 152, 863, 471, 380, 517, 1153, 542, 514, 34, 587, 1082, 1196, 614, 78, 797, 211, 921, 548, 612, 927, 1013, 998, 864, 600, 1092, 20, 951, 950, 1028, 519, 583, 260, 340, 918, 505, 268, 310, 417, 393, 392, 63, 833, 130, 244, 293, 988, 56, 957, 806, 663, 144, 503, 1057, 899, 155, 361, 421, 837, 477, 395, 841, 48, 103, 1108, 628, 657, 1094, 1169, 1001, 1039, 730, 562, 354, 199, 643, 502, 113, 61, 944, 804, 802, 303, 640, 396, 825, 124, 952, 193, 949, 401, 455, 679, 914, 466, 365, 77, 45, 692, 1095, 261, 1188, 1046, 740, 235, 840, 675, 536, 430, 1173, 312, 116, 738, 668, 432, 928, 615, 938, 64, 843, 566, 700, 31, 959, 1111, 633, 30, 508, 332, 258, 1050, 1012, 815, 939, 1021, 1019, 353, 356, 854, 10, 1099, 374, 551, 146, 743, 925, 209, 126, 7, 769, 763, 1025, 238, 145, 1161, 464, 115, 1151, 352, 264, 979, 793, 213, 1190, 794, 484, 1084, 851, 334, 188, 993, 105, 977, 553, 1024, 685, 75, 518, 565, 955, 114, 960, 651, 855, 747, 1078, 94, 873, 190, 214, 339, 23, 1113, 1140, 687, 544, 201, 1126, 359, 37, 1048, 215, 832, 897, 521, 379, 474, 1148, 302, 216, 1157, 326, 181, 741, 602, 227, 926, 189, 472, 270, 29, 1160, 704, 4, 479, 372, 683, 762, 104, 1127, 150, 241, 1020, 584, 745, 55, 1194, 57, 881, 646, 525, 1172, 449, 805, 985, 204, 450, 644, 619, 580, 785, 576, 232, 174, 1182, 476, 680, 543, 467, 465, 1071, 247, 1051, 592, 453, 932, 357, 229, 316, 426, 751, 809, 473, 58, 570, 1087, 768, 279, 311, 1115, 217, 627, 787, 1059, 1176, 347, 1079, 1096, 800, 278, 390, 1062, 1060, 1105, 11, 605, 1017, 1030, 1038, 1170, 131, 910, 269, 297, 363, 736, 468, 52, 129, 558, 1088, 344, 776, 304, 470, 18, 625, 134, 156, 273, 575, 60, 271, 885, 629, 674, 539, 148, 632, 1117, 68, 739, 429, 321, 567, 272, 53, 876, 1144, 778, 713, 142, 496, 1015, 1152, 290, 350, 70, 799, 900, 699, 590, 205, 475, 658, 71, 907, 723, 1177, 409, 242, 645, 813, 639, 250, 256, 162, 252, 665, 721, 810, 73, 1109, 26, 110, 13, 707, 400, 200, 5, 856, 1034, 688, 1069, 413, 184, 21, 59, 992, 1104, 845, 572, 970, 1058, 97, 1070, 997, 579, 1032, 757, 568, 933, 435, 1018, 720, 1042, 901, 1171, 607, 66, 106, 1129, 1026, 178, 609, 924, 251, 516, 112, 371, 710, 420, 870, 198, 17, 119, 1193, 708, 1135, 923, 662, 987, 173, 423, 886, 588, 76, 248, 898, 180, 280, 383, 750, 1150]\n"
     ]
    }
   ],
   "source": [
    "# Split the image objects into 80% training and 20% test\n",
    "images.split = 0.20\n",
    "\n",
    "# Let's verify that the training set is 80% (960 of 1200) by printing the internal variable _train\n",
    "print(len(images._train))\n",
    "\n",
    "# Let's now print the randomized list of image object indices\n",
    "print(\"TRAIN INDICES\", images._train)"
   ]
  },
  {
   "cell_type": "markdown",
   "metadata": {},
   "source": [
    "Let's now add the optional parameter for a random seed."
   ]
  },
  {
   "cell_type": "code",
   "execution_count": 85,
   "metadata": {},
   "outputs": [
    {
     "name": "stdout",
     "output_type": "stream",
     "text": [
      "TRAIN INDICES [228, 51, 563, 501, 457, 285, 209, 1116, 178, 864, 65, 61, 191, 447, 476, 1034, 54, 1149, 407, 1192, 859, 451, 919, 569, 13, 326, 865, 696, 1176, 318, 440, 689, 1193, 189, 778, 198, 735, 704, 541, 88, 940, 1098, 255, 775, 161, 1130, 600, 740, 393, 142, 93, 466, 592, 163, 1185, 206, 1165, 1171, 928, 747, 333, 758, 727, 429, 546, 146, 350, 1093, 1196, 334, 946, 777, 552, 449, 664, 114, 469, 1189, 646, 821, 548, 135, 432, 644, 435, 1022, 810, 939, 292, 542, 1194, 505, 1103, 538, 877, 817, 741, 1126, 283, 1043, 1010, 186, 96, 224, 313, 327, 1190, 130, 788, 781, 958, 1083, 514, 23, 234, 1135, 1172, 1199, 601, 890, 323, 929, 6, 539, 1025, 365, 1039, 217, 611, 1073, 1181, 1095, 765, 330, 1, 663, 1000, 39, 229, 743, 629, 490, 118, 493, 1155, 175, 995, 141, 257, 262, 973, 338, 1110, 866, 433, 411, 638, 1104, 764, 897, 924, 247, 507, 460, 131, 692, 43, 471, 1178, 14, 145, 120, 468, 138, 64, 676, 1029, 526, 243, 1109, 685, 497, 219, 1127, 1118, 1152, 957, 903, 584, 590, 484, 248, 803, 1009, 826, 416, 194, 1097, 99, 674, 441, 362, 1045, 420, 478, 884, 746, 55, 1168, 669, 661, 100, 62, 412, 745, 347, 819, 882, 111, 254, 196, 1003, 549, 459, 143, 1117, 187, 1020, 473, 1157, 895, 945, 77, 453, 827, 982, 876, 1197, 988, 1198, 667, 553, 856, 15, 95, 948, 771, 869, 242, 170, 1004, 1018, 492, 218, 885, 410, 1070, 60, 168, 388, 2, 399, 271, 802, 1007, 465, 1111, 997, 713, 748, 936, 1142, 677, 1163, 498, 158, 978, 303, 222, 59, 593, 753, 555, 987, 1067, 321, 58, 960, 598, 488, 1087, 873, 543, 1055, 913, 520, 82, 871, 190, 70, 609, 69, 691, 964, 240, 413, 122, 583, 252, 1147, 608, 40, 634, 83, 1136, 673, 597, 578, 535, 1079, 267, 1167, 1019, 733, 914, 244, 937, 405, 134, 687, 660, 307, 1027, 880, 769, 74, 9, 1123, 636, 576, 102, 75, 550, 1129, 518, 908, 1015, 357, 900, 250, 378, 291, 906, 448, 556, 720, 309, 626, 1005, 990, 1161, 8, 683, 836, 567, 306, 679, 106, 137, 270, 1057, 109, 760, 566, 159, 278, 288, 619, 215, 734, 351, 208, 703, 649, 830, 517, 500, 1051, 52, 94, 816, 932, 1101, 45, 3, 341, 789, 133, 652, 268, 165, 759, 452, 564, 722, 437, 574, 863, 1124, 967, 707, 152, 558, 36, 849, 596, 565, 151, 1169, 1092, 42, 315, 373, 888, 366, 1120, 698, 970, 682, 105, 998, 573, 949, 635, 943, 951, 166, 181, 422, 25, 183, 754, 340, 421, 1105, 752, 980, 273, 1146, 718, 110, 391, 1062, 481, 227, 204, 1032, 358, 312, 233, 1082, 24, 675, 197, 408, 336, 972, 71, 963, 359, 656, 521, 409, 695, 977, 339, 28, 829, 879, 182, 594, 854, 1140, 981, 610, 444, 353, 875, 446, 620, 523, 795, 394, 1099, 923, 260, 806, 711, 1065, 532, 551, 686, 201, 372, 999, 732, 680, 1048, 1100, 712, 833, 127, 868, 519, 316, 953, 418, 1154, 986, 302, 835, 780, 979, 430, 1159, 1191, 630, 582, 308, 415, 561, 0, 311, 293, 774, 1090, 1177, 621, 329, 1145, 797, 659, 1013, 709, 1006, 173, 86, 290, 527, 648, 887, 343, 955, 969, 317, 230, 203, 150, 965, 47, 850, 486, 625, 1132, 1148, 424, 589, 199, 1151, 506, 1137, 249, 782, 5, 828, 1115, 1096, 180, 530, 475, 912, 570, 772, 124, 467, 136, 710, 907, 572, 899, 324, 966, 516, 436, 840, 456, 162, 1040, 1036, 265, 253, 807, 533, 496, 874, 281, 450, 79, 933, 1121, 824, 650, 1094, 1089, 1012, 1052, 154, 236, 392, 156, 1017, 1122, 809, 417, 1184, 917, 477, 425, 63, 211, 1024, 398, 20, 389, 910, 1077, 360, 305, 938, 968, 699, 225, 499, 623, 279, 702, 954, 29, 568, 344, 414, 169, 1053, 678, 27, 403, 545, 85, 438, 1026, 472, 1158, 822, 266, 737, 335, 216, 934, 684, 345, 881, 284, 431, 258, 886, 993, 19, 53, 742, 1061, 851, 41, 31, 599, 744, 991, 580, 595, 129, 1041, 342, 905, 823, 485, 716, 238, 728, 1035, 581, 188, 1047, 310, 925, 1056, 382, 367, 508, 559, 419, 525, 825, 992, 296, 1175, 613, 489, 294, 346, 464, 192, 643, 1156, 101, 38, 922, 931, 1071, 690, 616, 811, 356, 395, 892, 624, 1133, 870, 681, 1188, 1069, 289, 400, 21, 177, 272, 579, 575, 1166, 35, 259, 331, 174, 796, 434, 665, 756, 639, 1183, 221, 185, 325, 577, 235, 1173, 78, 921, 90, 375, 721, 1139, 540, 1143, 894, 275, 396, 1038, 504, 223, 761, 374, 994, 831, 799, 125, 44, 1150, 1180, 1060, 384, 237, 848, 1107, 509, 705, 172, 1030, 607, 763, 1182, 628, 108, 762, 132, 1102, 975, 562, 730, 1011, 528, 842, 264, 97, 1033, 123, 368, 818, 714, 1131, 387, 474, 1021, 1066, 364, 251, 904, 838, 640, 642, 113, 207, 354, 428, 513, 724, 297, 813, 510, 911, 750, 176, 1072, 719, 1119, 622, 232, 1141, 386, 128, 708, 462, 98, 847, 983, 274, 1113, 700, 749, 971, 631, 301, 800, 867, 144, 537, 1001, 627, 116, 184, 91, 615, 7, 1138, 1075, 140, 1086, 612, 363, 149, 328, 377, 470, 846, 666, 1023, 706, 245, 787, 397, 482, 26, 511, 512, 784, 33, 205, 1076, 37, 295, 1125, 790, 76, 1037, 155, 529, 688, 942, 731, 213, 115, 974, 461, 725, 226, 1091, 455, 370, 30, 50, 832, 976, 853, 855, 80, 893, 1160, 952, 633, 701, 878, 1081, 755, 1046, 16, 352, 147, 454, 862, 786, 119, 280, 768, 962, 671, 591, 300, 614, 618, 263, 18, 956, 779, 202, 606, 287, 1187, 918, 645, 839, 73, 112, 814]\n"
     ]
    }
   ],
   "source": [
    "# Split the image objects into 80% training and 20% test\n",
    "images.split = 0.20, 42\n",
    "\n",
    "# Let's now print the randomized list of image object indices\n",
    "print(\"TRAIN INDICES\", images._train)"
   ]
  },
  {
   "cell_type": "markdown",
   "metadata": {},
   "source": [
    "### Batch Feeding (Batch Gradient Descent)\n",
    "\n",
    "There are three ways to use the Images object to feed a neural network. In batch mode, the entire training set can be ran through the neural network as a single pass, prior to backward probagation and updating the weights using gradient descent. This is known as 'batch gradient descent'.\n",
    "\n",
    "When the split property is used as a getter, it returns the image data and corresponding labels for the training and test set similar to using sci-learn's train_test_split() function."
   ]
  },
  {
   "cell_type": "code",
   "execution_count": 86,
   "metadata": {},
   "outputs": [],
   "source": [
    "# Set the percentage and seed, and split the data\n",
    "images.split = 0.20, 42\n",
    "\n",
    "# Get the training, test sets and corresponding labels\n",
    "x_train, x_test, y_train, y_test = images.split"
   ]
  },
  {
   "cell_type": "markdown",
   "metadata": {},
   "source": [
    "Let's verify and print the len of the train, test and corresponding labels."
   ]
  },
  {
   "cell_type": "code",
   "execution_count": 87,
   "metadata": {},
   "outputs": [
    {
     "name": "stdout",
     "output_type": "stream",
     "text": [
      "x_train 960\n",
      "y_train 960\n",
      "x_test 240\n",
      "y_test 240\n"
     ]
    }
   ],
   "source": [
    "print(\"x_train\", len(x_train))\n",
    "print(\"y_train\", len(y_train))\n",
    "print(\"x_test\", len(x_test))\n",
    "print(\"y_test\", len(y_test))"
   ]
  },
  {
   "cell_type": "markdown",
   "metadata": {},
   "source": [
    "Let's verify the contents that the elements are what we expect."
   ]
  },
  {
   "cell_type": "code",
   "execution_count": 88,
   "metadata": {},
   "outputs": [
    {
     "name": "stdout",
     "output_type": "stream",
     "text": [
      "<class 'numpy.ndarray'>\n",
      "(50, 50)\n"
     ]
    }
   ],
   "source": [
    "# Each element in x_train list should be a numpy array\n",
    "print(type(x_train[0]))\n",
    "# Each element should be in the shape 50 x 50 pixels\n",
    "print(x_train[0].shape)"
   ]
  },
  {
   "cell_type": "code",
   "execution_count": 89,
   "metadata": {},
   "outputs": [
    {
     "name": "stdout",
     "output_type": "stream",
     "text": [
      "<class 'int'>\n"
     ]
    }
   ],
   "source": [
    "# Each elment in y_train should be the label (integer)\n",
    "print(type(y_train[0]))"
   ]
  },
  {
   "cell_type": "markdown",
   "metadata": {},
   "source": [
    "### Next Iterating (Stochastic Gradient Descent)\n",
    "\n",
    "Another way of feeding a neural network is to feed one image at a time and do backward probagation, using gradient descent, one each image passed through. This is known as stocastic gradient descent.\n",
    "\n",
    "The next() operator supports iterating through the training list one image object at a time. Once all the entire training set has been iterated through, it is reset and the training set is randomly re-shuffled for the next epoch."
   ]
  },
  {
   "cell_type": "code",
   "execution_count": 90,
   "metadata": {},
   "outputs": [
    {
     "name": "stdout",
     "output_type": "stream",
     "text": [
      "<class 'numpy.ndarray'> 1\n",
      "<class 'numpy.ndarray'> 1\n",
      "<class 'numpy.ndarray'> 1\n",
      "<class 'numpy.ndarray'> 1\n",
      "<class 'numpy.ndarray'> 1\n",
      "<class 'numpy.ndarray'> 1\n",
      "<class 'numpy.ndarray'> 1\n",
      "<class 'numpy.ndarray'> 1\n",
      "<class 'numpy.ndarray'> 1\n",
      "<class 'numpy.ndarray'> 1\n",
      "<class 'numpy.ndarray'> 1\n",
      "<class 'numpy.ndarray'> 1\n",
      "<class 'numpy.ndarray'> 1\n",
      "<class 'numpy.ndarray'> 1\n",
      "<class 'numpy.ndarray'> 1\n",
      "<class 'numpy.ndarray'> 1\n",
      "<class 'numpy.ndarray'> 1\n",
      "<class 'numpy.ndarray'> 1\n",
      "<class 'numpy.ndarray'> 1\n",
      "<class 'numpy.ndarray'> 1\n",
      "<class 'numpy.ndarray'> 1\n",
      "<class 'numpy.ndarray'> 1\n",
      "<class 'numpy.ndarray'> 1\n",
      "<class 'numpy.ndarray'> 1\n",
      "<class 'numpy.ndarray'> 1\n",
      "<class 'numpy.ndarray'> 1\n",
      "<class 'numpy.ndarray'> 1\n",
      "<class 'numpy.ndarray'> 1\n",
      "<class 'numpy.ndarray'> 1\n",
      "<class 'numpy.ndarray'> 1\n",
      "<class 'numpy.ndarray'> 1\n",
      "<class 'numpy.ndarray'> 1\n",
      "<class 'numpy.ndarray'> 1\n",
      "<class 'numpy.ndarray'> 1\n",
      "<class 'numpy.ndarray'> 1\n",
      "<class 'numpy.ndarray'> 1\n",
      "<class 'numpy.ndarray'> 1\n",
      "<class 'numpy.ndarray'> 1\n",
      "<class 'numpy.ndarray'> 1\n",
      "<class 'numpy.ndarray'> 1\n",
      "<class 'numpy.ndarray'> 1\n",
      "<class 'numpy.ndarray'> 1\n",
      "<class 'numpy.ndarray'> 1\n",
      "<class 'numpy.ndarray'> 1\n",
      "<class 'numpy.ndarray'> 1\n",
      "<class 'numpy.ndarray'> 1\n",
      "<class 'numpy.ndarray'> 1\n",
      "<class 'numpy.ndarray'> 1\n",
      "<class 'numpy.ndarray'> 1\n",
      "<class 'numpy.ndarray'> 1\n",
      "<class 'numpy.ndarray'> 1\n",
      "<class 'numpy.ndarray'> 1\n",
      "<class 'numpy.ndarray'> 1\n",
      "<class 'numpy.ndarray'> 1\n",
      "<class 'numpy.ndarray'> 1\n",
      "<class 'numpy.ndarray'> 1\n",
      "<class 'numpy.ndarray'> 1\n",
      "<class 'numpy.ndarray'> 1\n",
      "<class 'numpy.ndarray'> 1\n",
      "<class 'numpy.ndarray'> 1\n",
      "<class 'numpy.ndarray'> 1\n",
      "<class 'numpy.ndarray'> 1\n",
      "<class 'numpy.ndarray'> 1\n",
      "<class 'numpy.ndarray'> 1\n",
      "<class 'numpy.ndarray'> 1\n",
      "<class 'numpy.ndarray'> 1\n",
      "<class 'numpy.ndarray'> 1\n",
      "<class 'numpy.ndarray'> 1\n",
      "<class 'numpy.ndarray'> 1\n",
      "<class 'numpy.ndarray'> 1\n",
      "<class 'numpy.ndarray'> 1\n",
      "<class 'numpy.ndarray'> 1\n",
      "<class 'numpy.ndarray'> 1\n",
      "<class 'numpy.ndarray'> 1\n",
      "<class 'numpy.ndarray'> 1\n",
      "<class 'numpy.ndarray'> 1\n",
      "<class 'numpy.ndarray'> 1\n",
      "<class 'numpy.ndarray'> 1\n",
      "<class 'numpy.ndarray'> 1\n",
      "<class 'numpy.ndarray'> 1\n",
      "<class 'numpy.ndarray'> 1\n",
      "<class 'numpy.ndarray'> 1\n",
      "<class 'numpy.ndarray'> 1\n",
      "<class 'numpy.ndarray'> 1\n",
      "<class 'numpy.ndarray'> 1\n",
      "<class 'numpy.ndarray'> 1\n",
      "<class 'numpy.ndarray'> 1\n",
      "<class 'numpy.ndarray'> 1\n",
      "<class 'numpy.ndarray'> 1\n",
      "<class 'numpy.ndarray'> 1\n",
      "<class 'numpy.ndarray'> 1\n",
      "<class 'numpy.ndarray'> 1\n",
      "<class 'numpy.ndarray'> 1\n",
      "<class 'numpy.ndarray'> 1\n",
      "<class 'numpy.ndarray'> 1\n",
      "<class 'numpy.ndarray'> 1\n",
      "<class 'numpy.ndarray'> 1\n",
      "<class 'numpy.ndarray'> 1\n",
      "<class 'numpy.ndarray'> 1\n",
      "<class 'numpy.ndarray'> 1\n",
      "<class 'numpy.ndarray'> 1\n",
      "<class 'numpy.ndarray'> 1\n",
      "<class 'numpy.ndarray'> 1\n",
      "<class 'numpy.ndarray'> 1\n",
      "<class 'numpy.ndarray'> 1\n",
      "<class 'numpy.ndarray'> 1\n",
      "<class 'numpy.ndarray'> 1\n",
      "<class 'numpy.ndarray'> 1\n",
      "<class 'numpy.ndarray'> 1\n",
      "<class 'numpy.ndarray'> 1\n",
      "<class 'numpy.ndarray'> 1\n",
      "<class 'numpy.ndarray'> 1\n",
      "<class 'numpy.ndarray'> 1\n",
      "<class 'numpy.ndarray'> 1\n",
      "<class 'numpy.ndarray'> 1\n",
      "<class 'numpy.ndarray'> 1\n",
      "<class 'numpy.ndarray'> 1\n",
      "<class 'numpy.ndarray'> 1\n",
      "<class 'numpy.ndarray'> 1\n",
      "<class 'numpy.ndarray'> 1\n",
      "<class 'numpy.ndarray'> 1\n",
      "<class 'numpy.ndarray'> 1\n",
      "<class 'numpy.ndarray'> 1\n",
      "<class 'numpy.ndarray'> 1\n",
      "<class 'numpy.ndarray'> 1\n",
      "<class 'numpy.ndarray'> 1\n",
      "<class 'numpy.ndarray'> 1\n",
      "<class 'numpy.ndarray'> 1\n",
      "<class 'numpy.ndarray'> 1\n",
      "<class 'numpy.ndarray'> 1\n",
      "<class 'numpy.ndarray'> 1\n",
      "<class 'numpy.ndarray'> 1\n",
      "<class 'numpy.ndarray'> 1\n",
      "<class 'numpy.ndarray'> 1\n",
      "<class 'numpy.ndarray'> 1\n",
      "<class 'numpy.ndarray'> 1\n",
      "<class 'numpy.ndarray'> 1\n",
      "<class 'numpy.ndarray'> 1\n",
      "<class 'numpy.ndarray'> 1\n",
      "<class 'numpy.ndarray'> 1\n",
      "<class 'numpy.ndarray'> 1\n",
      "<class 'numpy.ndarray'> 1\n",
      "<class 'numpy.ndarray'> 1\n",
      "<class 'numpy.ndarray'> 1\n",
      "<class 'numpy.ndarray'> 1\n",
      "<class 'numpy.ndarray'> 1\n",
      "<class 'numpy.ndarray'> 1\n",
      "<class 'numpy.ndarray'> 1\n",
      "<class 'numpy.ndarray'> 1\n",
      "<class 'numpy.ndarray'> 1\n",
      "<class 'numpy.ndarray'> 1\n",
      "<class 'numpy.ndarray'> 1\n",
      "<class 'numpy.ndarray'> 1\n",
      "<class 'numpy.ndarray'> 1\n",
      "<class 'numpy.ndarray'> 1\n",
      "<class 'numpy.ndarray'> 1\n",
      "<class 'numpy.ndarray'> 1\n",
      "<class 'numpy.ndarray'> 1\n",
      "<class 'numpy.ndarray'> 1\n",
      "<class 'numpy.ndarray'> 1\n",
      "<class 'numpy.ndarray'> 1\n",
      "<class 'numpy.ndarray'> 1\n",
      "<class 'numpy.ndarray'> 1\n",
      "<class 'numpy.ndarray'> 1\n",
      "<class 'numpy.ndarray'> 1\n",
      "<class 'numpy.ndarray'> 1\n",
      "<class 'numpy.ndarray'> 1\n",
      "<class 'numpy.ndarray'> 1\n",
      "<class 'numpy.ndarray'> 1\n",
      "<class 'numpy.ndarray'> 1\n",
      "<class 'numpy.ndarray'> 1\n",
      "<class 'numpy.ndarray'> 1\n",
      "<class 'numpy.ndarray'> 1\n",
      "<class 'numpy.ndarray'> 1\n",
      "<class 'numpy.ndarray'> 1\n",
      "<class 'numpy.ndarray'> 1\n",
      "<class 'numpy.ndarray'> 1\n",
      "<class 'numpy.ndarray'> 1\n",
      "<class 'numpy.ndarray'> 1\n",
      "<class 'numpy.ndarray'> 1\n",
      "<class 'numpy.ndarray'> 1\n",
      "<class 'numpy.ndarray'> 1\n",
      "<class 'numpy.ndarray'> 1\n",
      "<class 'numpy.ndarray'> 1\n",
      "<class 'numpy.ndarray'> 1\n",
      "<class 'numpy.ndarray'> 1\n",
      "<class 'numpy.ndarray'> 1\n",
      "<class 'numpy.ndarray'> 1\n",
      "<class 'numpy.ndarray'> 1\n",
      "<class 'numpy.ndarray'> 1\n",
      "<class 'numpy.ndarray'> 1\n",
      "<class 'numpy.ndarray'> 1\n",
      "<class 'numpy.ndarray'> 1\n",
      "<class 'numpy.ndarray'> 1\n",
      "<class 'numpy.ndarray'> 1\n",
      "<class 'numpy.ndarray'> 1\n",
      "<class 'numpy.ndarray'> 1\n",
      "<class 'numpy.ndarray'> 1\n",
      "<class 'numpy.ndarray'> 1\n",
      "<class 'numpy.ndarray'> 1\n",
      "<class 'numpy.ndarray'> 1\n",
      "<class 'numpy.ndarray'> 1\n",
      "<class 'numpy.ndarray'> 1\n",
      "<class 'numpy.ndarray'> 1\n",
      "<class 'numpy.ndarray'> 1\n",
      "<class 'numpy.ndarray'> 1\n",
      "<class 'numpy.ndarray'> 1\n",
      "<class 'numpy.ndarray'> 1\n",
      "<class 'numpy.ndarray'> 1\n",
      "<class 'numpy.ndarray'> 1\n",
      "<class 'numpy.ndarray'> 1\n",
      "<class 'numpy.ndarray'> 1\n",
      "<class 'numpy.ndarray'> 1\n",
      "<class 'numpy.ndarray'> 1\n",
      "<class 'numpy.ndarray'> 1\n",
      "<class 'numpy.ndarray'> 1\n",
      "<class 'numpy.ndarray'> 1\n",
      "<class 'numpy.ndarray'> 1\n",
      "<class 'numpy.ndarray'> 1\n",
      "<class 'numpy.ndarray'> 1\n",
      "<class 'numpy.ndarray'> 1\n",
      "<class 'numpy.ndarray'> 1\n",
      "<class 'numpy.ndarray'> 1\n",
      "<class 'numpy.ndarray'> 1\n",
      "<class 'numpy.ndarray'> 1\n",
      "<class 'numpy.ndarray'> 1\n",
      "<class 'numpy.ndarray'> 1\n",
      "<class 'numpy.ndarray'> 1\n",
      "<class 'numpy.ndarray'> 1\n",
      "<class 'numpy.ndarray'> 1\n",
      "<class 'numpy.ndarray'> 1\n",
      "<class 'numpy.ndarray'> 1\n",
      "<class 'numpy.ndarray'> 1\n",
      "<class 'numpy.ndarray'> 1\n",
      "<class 'numpy.ndarray'> 1\n",
      "<class 'numpy.ndarray'> 1\n",
      "<class 'numpy.ndarray'> 1\n",
      "<class 'numpy.ndarray'> 1\n",
      "<class 'numpy.ndarray'> 1\n",
      "<class 'numpy.ndarray'> 1\n",
      "<class 'numpy.ndarray'> 1\n",
      "<class 'numpy.ndarray'> 1\n",
      "<class 'numpy.ndarray'> 1\n",
      "<class 'numpy.ndarray'> 1\n",
      "<class 'numpy.ndarray'> 1\n",
      "<class 'numpy.ndarray'> 1\n",
      "<class 'numpy.ndarray'> 1\n",
      "<class 'numpy.ndarray'> 1\n",
      "<class 'numpy.ndarray'> 1\n",
      "<class 'numpy.ndarray'> 1\n",
      "<class 'numpy.ndarray'> 1\n",
      "<class 'numpy.ndarray'> 1\n",
      "<class 'numpy.ndarray'> 1\n",
      "<class 'numpy.ndarray'> 1\n",
      "<class 'numpy.ndarray'> 1\n",
      "<class 'numpy.ndarray'> 1\n",
      "<class 'numpy.ndarray'> 1\n",
      "<class 'numpy.ndarray'> 1\n",
      "<class 'numpy.ndarray'> 1\n",
      "<class 'numpy.ndarray'> 1\n",
      "<class 'numpy.ndarray'> 1\n",
      "<class 'numpy.ndarray'> 1\n",
      "<class 'numpy.ndarray'> 1\n",
      "<class 'numpy.ndarray'> 1\n",
      "<class 'numpy.ndarray'> 1\n",
      "<class 'numpy.ndarray'> 1\n",
      "<class 'numpy.ndarray'> 1\n",
      "<class 'numpy.ndarray'> 1\n",
      "<class 'numpy.ndarray'> 1\n",
      "<class 'numpy.ndarray'> 1\n",
      "<class 'numpy.ndarray'> 1\n",
      "<class 'numpy.ndarray'> 1\n",
      "<class 'numpy.ndarray'> 1\n",
      "<class 'numpy.ndarray'> 1\n",
      "<class 'numpy.ndarray'> 1\n",
      "<class 'numpy.ndarray'> 1\n",
      "<class 'numpy.ndarray'> 1\n",
      "<class 'numpy.ndarray'> 1\n",
      "<class 'numpy.ndarray'> 1\n",
      "<class 'numpy.ndarray'> 1\n",
      "<class 'numpy.ndarray'> 1\n",
      "<class 'numpy.ndarray'> 1\n",
      "<class 'numpy.ndarray'> 1\n",
      "<class 'numpy.ndarray'> 1\n",
      "<class 'numpy.ndarray'> 1\n",
      "<class 'numpy.ndarray'> 1\n",
      "<class 'numpy.ndarray'> 1\n",
      "<class 'numpy.ndarray'> 1\n",
      "<class 'numpy.ndarray'> 1\n",
      "<class 'numpy.ndarray'> 1\n",
      "<class 'numpy.ndarray'> 1\n",
      "<class 'numpy.ndarray'> 1\n",
      "<class 'numpy.ndarray'> 1\n",
      "<class 'numpy.ndarray'> 1\n",
      "<class 'numpy.ndarray'> 1\n",
      "<class 'numpy.ndarray'> 1\n",
      "<class 'numpy.ndarray'> 1\n",
      "<class 'numpy.ndarray'> 1\n",
      "<class 'numpy.ndarray'> 1\n",
      "<class 'numpy.ndarray'> 1\n",
      "<class 'numpy.ndarray'> 1\n",
      "<class 'numpy.ndarray'> 1\n",
      "<class 'numpy.ndarray'> 1\n",
      "<class 'numpy.ndarray'> 1\n",
      "<class 'numpy.ndarray'> 1\n",
      "<class 'numpy.ndarray'> 1\n",
      "<class 'numpy.ndarray'> 1\n",
      "<class 'numpy.ndarray'> 1\n",
      "<class 'numpy.ndarray'> 1\n",
      "<class 'numpy.ndarray'> 1\n",
      "<class 'numpy.ndarray'> 1\n",
      "<class 'numpy.ndarray'> 1\n",
      "<class 'numpy.ndarray'> 1\n",
      "<class 'numpy.ndarray'> 1\n",
      "<class 'numpy.ndarray'> 1\n",
      "<class 'numpy.ndarray'> 1\n",
      "<class 'numpy.ndarray'> 1\n",
      "<class 'numpy.ndarray'> 1\n",
      "<class 'numpy.ndarray'> 1\n",
      "<class 'numpy.ndarray'> 1\n",
      "<class 'numpy.ndarray'> 1\n",
      "<class 'numpy.ndarray'> 1\n",
      "<class 'numpy.ndarray'> 1\n",
      "<class 'numpy.ndarray'> 1\n",
      "<class 'numpy.ndarray'> 1\n",
      "<class 'numpy.ndarray'> 1\n",
      "<class 'numpy.ndarray'> 1\n",
      "<class 'numpy.ndarray'> 1\n",
      "<class 'numpy.ndarray'> 1\n",
      "<class 'numpy.ndarray'> 1\n",
      "<class 'numpy.ndarray'> 1\n",
      "<class 'numpy.ndarray'> 1\n",
      "<class 'numpy.ndarray'> 1\n",
      "<class 'numpy.ndarray'> 1\n",
      "<class 'numpy.ndarray'> 1\n",
      "<class 'numpy.ndarray'> 1\n",
      "<class 'numpy.ndarray'> 1\n",
      "<class 'numpy.ndarray'> 1\n",
      "<class 'numpy.ndarray'> 1\n",
      "<class 'numpy.ndarray'> 1\n",
      "<class 'numpy.ndarray'> 1\n",
      "<class 'numpy.ndarray'> 1\n",
      "<class 'numpy.ndarray'> 1\n",
      "<class 'numpy.ndarray'> 1\n",
      "<class 'numpy.ndarray'> 1\n",
      "<class 'numpy.ndarray'> 1\n",
      "<class 'numpy.ndarray'> 1\n",
      "<class 'numpy.ndarray'> 1\n",
      "<class 'numpy.ndarray'> 1\n",
      "<class 'numpy.ndarray'> 1\n",
      "<class 'numpy.ndarray'> 1\n",
      "<class 'numpy.ndarray'> 1\n",
      "<class 'numpy.ndarray'> 1\n"
     ]
    },
    {
     "name": "stdout",
     "output_type": "stream",
     "text": [
      "<class 'numpy.ndarray'> 1\n",
      "<class 'numpy.ndarray'> 1\n",
      "<class 'numpy.ndarray'> 1\n",
      "<class 'numpy.ndarray'> 1\n",
      "<class 'numpy.ndarray'> 1\n",
      "<class 'numpy.ndarray'> 1\n",
      "<class 'numpy.ndarray'> 1\n",
      "<class 'numpy.ndarray'> 1\n",
      "<class 'numpy.ndarray'> 1\n",
      "<class 'numpy.ndarray'> 1\n",
      "<class 'numpy.ndarray'> 1\n",
      "<class 'numpy.ndarray'> 1\n",
      "<class 'numpy.ndarray'> 1\n",
      "<class 'numpy.ndarray'> 1\n",
      "<class 'numpy.ndarray'> 1\n",
      "<class 'numpy.ndarray'> 1\n",
      "<class 'numpy.ndarray'> 1\n",
      "<class 'numpy.ndarray'> 1\n",
      "<class 'numpy.ndarray'> 1\n",
      "<class 'numpy.ndarray'> 1\n",
      "<class 'numpy.ndarray'> 1\n",
      "<class 'numpy.ndarray'> 1\n",
      "<class 'numpy.ndarray'> 1\n",
      "<class 'numpy.ndarray'> 1\n",
      "<class 'numpy.ndarray'> 1\n",
      "<class 'numpy.ndarray'> 1\n",
      "<class 'numpy.ndarray'> 1\n",
      "<class 'numpy.ndarray'> 1\n",
      "<class 'numpy.ndarray'> 1\n",
      "<class 'numpy.ndarray'> 1\n",
      "<class 'numpy.ndarray'> 1\n",
      "<class 'numpy.ndarray'> 1\n",
      "<class 'numpy.ndarray'> 1\n",
      "<class 'numpy.ndarray'> 1\n",
      "<class 'numpy.ndarray'> 1\n",
      "<class 'numpy.ndarray'> 1\n",
      "<class 'numpy.ndarray'> 1\n",
      "<class 'numpy.ndarray'> 1\n",
      "<class 'numpy.ndarray'> 1\n",
      "<class 'numpy.ndarray'> 1\n",
      "<class 'numpy.ndarray'> 1\n",
      "<class 'numpy.ndarray'> 1\n",
      "<class 'numpy.ndarray'> 1\n",
      "<class 'numpy.ndarray'> 1\n",
      "<class 'numpy.ndarray'> 1\n",
      "<class 'numpy.ndarray'> 1\n",
      "<class 'numpy.ndarray'> 1\n",
      "<class 'numpy.ndarray'> 1\n",
      "<class 'numpy.ndarray'> 1\n",
      "<class 'numpy.ndarray'> 1\n",
      "<class 'numpy.ndarray'> 1\n",
      "<class 'numpy.ndarray'> 1\n",
      "<class 'numpy.ndarray'> 1\n",
      "<class 'numpy.ndarray'> 1\n",
      "<class 'numpy.ndarray'> 1\n",
      "<class 'numpy.ndarray'> 1\n",
      "<class 'numpy.ndarray'> 1\n",
      "<class 'numpy.ndarray'> 1\n",
      "<class 'numpy.ndarray'> 1\n",
      "<class 'numpy.ndarray'> 1\n",
      "<class 'numpy.ndarray'> 1\n",
      "<class 'numpy.ndarray'> 1\n",
      "<class 'numpy.ndarray'> 1\n",
      "<class 'numpy.ndarray'> 1\n",
      "<class 'numpy.ndarray'> 1\n",
      "<class 'numpy.ndarray'> 1\n",
      "<class 'numpy.ndarray'> 1\n",
      "<class 'numpy.ndarray'> 1\n",
      "<class 'numpy.ndarray'> 1\n",
      "<class 'numpy.ndarray'> 1\n",
      "<class 'numpy.ndarray'> 1\n",
      "<class 'numpy.ndarray'> 1\n",
      "<class 'numpy.ndarray'> 1\n",
      "<class 'numpy.ndarray'> 1\n",
      "<class 'numpy.ndarray'> 1\n",
      "<class 'numpy.ndarray'> 1\n",
      "<class 'numpy.ndarray'> 1\n",
      "<class 'numpy.ndarray'> 1\n",
      "<class 'numpy.ndarray'> 1\n",
      "<class 'numpy.ndarray'> 1\n",
      "<class 'numpy.ndarray'> 1\n",
      "<class 'numpy.ndarray'> 1\n",
      "<class 'numpy.ndarray'> 1\n",
      "<class 'numpy.ndarray'> 1\n",
      "<class 'numpy.ndarray'> 1\n",
      "<class 'numpy.ndarray'> 1\n",
      "<class 'numpy.ndarray'> 1\n",
      "<class 'numpy.ndarray'> 1\n",
      "<class 'numpy.ndarray'> 1\n",
      "<class 'numpy.ndarray'> 1\n",
      "<class 'numpy.ndarray'> 1\n",
      "<class 'numpy.ndarray'> 1\n",
      "<class 'numpy.ndarray'> 1\n",
      "<class 'numpy.ndarray'> 1\n",
      "<class 'numpy.ndarray'> 1\n",
      "<class 'numpy.ndarray'> 1\n",
      "<class 'numpy.ndarray'> 1\n",
      "<class 'numpy.ndarray'> 1\n",
      "<class 'numpy.ndarray'> 1\n",
      "<class 'numpy.ndarray'> 1\n",
      "<class 'numpy.ndarray'> 1\n",
      "<class 'numpy.ndarray'> 1\n",
      "<class 'numpy.ndarray'> 1\n",
      "<class 'numpy.ndarray'> 1\n",
      "<class 'numpy.ndarray'> 1\n",
      "<class 'numpy.ndarray'> 1\n",
      "<class 'numpy.ndarray'> 1\n",
      "<class 'numpy.ndarray'> 1\n",
      "<class 'numpy.ndarray'> 1\n",
      "<class 'numpy.ndarray'> 1\n",
      "<class 'numpy.ndarray'> 1\n",
      "<class 'numpy.ndarray'> 1\n",
      "<class 'numpy.ndarray'> 1\n",
      "<class 'numpy.ndarray'> 1\n",
      "<class 'numpy.ndarray'> 1\n",
      "<class 'numpy.ndarray'> 1\n",
      "<class 'numpy.ndarray'> 1\n",
      "<class 'numpy.ndarray'> 1\n",
      "<class 'numpy.ndarray'> 1\n",
      "<class 'numpy.ndarray'> 1\n",
      "<class 'numpy.ndarray'> 1\n",
      "<class 'numpy.ndarray'> 1\n",
      "<class 'numpy.ndarray'> 1\n",
      "<class 'numpy.ndarray'> 1\n",
      "<class 'numpy.ndarray'> 1\n",
      "<class 'numpy.ndarray'> 1\n",
      "<class 'numpy.ndarray'> 1\n",
      "<class 'numpy.ndarray'> 1\n",
      "<class 'numpy.ndarray'> 1\n",
      "<class 'numpy.ndarray'> 1\n",
      "<class 'numpy.ndarray'> 1\n",
      "<class 'numpy.ndarray'> 1\n",
      "<class 'numpy.ndarray'> 1\n",
      "<class 'numpy.ndarray'> 1\n",
      "<class 'numpy.ndarray'> 1\n",
      "<class 'numpy.ndarray'> 1\n",
      "<class 'numpy.ndarray'> 1\n",
      "<class 'numpy.ndarray'> 1\n",
      "<class 'numpy.ndarray'> 1\n",
      "<class 'numpy.ndarray'> 1\n",
      "<class 'numpy.ndarray'> 1\n",
      "<class 'numpy.ndarray'> 1\n",
      "<class 'numpy.ndarray'> 1\n",
      "<class 'numpy.ndarray'> 1\n",
      "<class 'numpy.ndarray'> 1\n",
      "<class 'numpy.ndarray'> 1\n",
      "<class 'numpy.ndarray'> 1\n",
      "<class 'numpy.ndarray'> 1\n",
      "<class 'numpy.ndarray'> 1\n",
      "<class 'numpy.ndarray'> 1\n",
      "<class 'numpy.ndarray'> 1\n",
      "<class 'numpy.ndarray'> 1\n",
      "<class 'numpy.ndarray'> 1\n",
      "<class 'numpy.ndarray'> 1\n",
      "<class 'numpy.ndarray'> 1\n",
      "<class 'numpy.ndarray'> 1\n",
      "<class 'numpy.ndarray'> 1\n",
      "<class 'numpy.ndarray'> 1\n",
      "<class 'numpy.ndarray'> 1\n",
      "<class 'numpy.ndarray'> 1\n",
      "<class 'numpy.ndarray'> 1\n",
      "<class 'numpy.ndarray'> 1\n",
      "<class 'numpy.ndarray'> 1\n",
      "<class 'numpy.ndarray'> 1\n",
      "<class 'numpy.ndarray'> 1\n",
      "<class 'numpy.ndarray'> 1\n",
      "<class 'numpy.ndarray'> 1\n",
      "<class 'numpy.ndarray'> 1\n",
      "<class 'numpy.ndarray'> 1\n",
      "<class 'numpy.ndarray'> 1\n",
      "<class 'numpy.ndarray'> 1\n",
      "<class 'numpy.ndarray'> 1\n",
      "<class 'numpy.ndarray'> 1\n",
      "<class 'numpy.ndarray'> 1\n",
      "<class 'numpy.ndarray'> 1\n",
      "<class 'numpy.ndarray'> 1\n",
      "<class 'numpy.ndarray'> 1\n",
      "<class 'numpy.ndarray'> 1\n",
      "<class 'numpy.ndarray'> 1\n",
      "<class 'numpy.ndarray'> 1\n",
      "<class 'numpy.ndarray'> 1\n",
      "<class 'numpy.ndarray'> 1\n",
      "<class 'numpy.ndarray'> 1\n",
      "<class 'numpy.ndarray'> 1\n",
      "<class 'numpy.ndarray'> 1\n",
      "<class 'numpy.ndarray'> 1\n",
      "<class 'numpy.ndarray'> 1\n",
      "<class 'numpy.ndarray'> 1\n",
      "<class 'numpy.ndarray'> 1\n",
      "<class 'numpy.ndarray'> 1\n",
      "<class 'numpy.ndarray'> 1\n",
      "<class 'numpy.ndarray'> 1\n",
      "<class 'numpy.ndarray'> 1\n",
      "<class 'numpy.ndarray'> 1\n",
      "<class 'numpy.ndarray'> 1\n",
      "<class 'numpy.ndarray'> 1\n",
      "<class 'numpy.ndarray'> 1\n",
      "<class 'numpy.ndarray'> 1\n",
      "<class 'numpy.ndarray'> 1\n",
      "<class 'numpy.ndarray'> 1\n",
      "<class 'numpy.ndarray'> 1\n",
      "<class 'numpy.ndarray'> 1\n",
      "<class 'numpy.ndarray'> 1\n",
      "<class 'numpy.ndarray'> 1\n",
      "<class 'numpy.ndarray'> 1\n",
      "<class 'numpy.ndarray'> 1\n",
      "<class 'numpy.ndarray'> 1\n",
      "<class 'numpy.ndarray'> 1\n",
      "<class 'numpy.ndarray'> 1\n",
      "<class 'numpy.ndarray'> 1\n",
      "<class 'numpy.ndarray'> 1\n",
      "<class 'numpy.ndarray'> 1\n",
      "<class 'numpy.ndarray'> 1\n",
      "<class 'numpy.ndarray'> 1\n",
      "<class 'numpy.ndarray'> 1\n",
      "<class 'numpy.ndarray'> 1\n",
      "<class 'numpy.ndarray'> 1\n",
      "<class 'numpy.ndarray'> 1\n",
      "<class 'numpy.ndarray'> 1\n",
      "<class 'numpy.ndarray'> 1\n",
      "<class 'numpy.ndarray'> 1\n",
      "<class 'numpy.ndarray'> 1\n",
      "<class 'numpy.ndarray'> 1\n",
      "<class 'numpy.ndarray'> 1\n",
      "<class 'numpy.ndarray'> 1\n",
      "<class 'numpy.ndarray'> 1\n",
      "<class 'numpy.ndarray'> 1\n",
      "<class 'numpy.ndarray'> 1\n",
      "<class 'numpy.ndarray'> 1\n",
      "<class 'numpy.ndarray'> 1\n",
      "<class 'numpy.ndarray'> 1\n",
      "<class 'numpy.ndarray'> 1\n",
      "<class 'numpy.ndarray'> 1\n",
      "<class 'numpy.ndarray'> 1\n",
      "<class 'numpy.ndarray'> 1\n",
      "<class 'numpy.ndarray'> 1\n",
      "<class 'numpy.ndarray'> 1\n",
      "<class 'numpy.ndarray'> 1\n",
      "<class 'numpy.ndarray'> 1\n",
      "<class 'numpy.ndarray'> 1\n",
      "<class 'numpy.ndarray'> 1\n",
      "<class 'numpy.ndarray'> 1\n",
      "<class 'numpy.ndarray'> 1\n",
      "<class 'numpy.ndarray'> 1\n",
      "<class 'numpy.ndarray'> 1\n",
      "<class 'numpy.ndarray'> 1\n",
      "<class 'numpy.ndarray'> 1\n",
      "<class 'numpy.ndarray'> 1\n",
      "<class 'numpy.ndarray'> 1\n",
      "<class 'numpy.ndarray'> 1\n",
      "<class 'numpy.ndarray'> 1\n",
      "<class 'numpy.ndarray'> 1\n",
      "<class 'numpy.ndarray'> 1\n",
      "<class 'numpy.ndarray'> 1\n",
      "<class 'numpy.ndarray'> 1\n",
      "<class 'numpy.ndarray'> 1\n",
      "<class 'numpy.ndarray'> 1\n",
      "<class 'numpy.ndarray'> 1\n",
      "<class 'numpy.ndarray'> 1\n",
      "<class 'numpy.ndarray'> 1\n",
      "<class 'numpy.ndarray'> 1\n",
      "<class 'numpy.ndarray'> 1\n",
      "<class 'numpy.ndarray'> 1\n",
      "<class 'numpy.ndarray'> 1\n",
      "<class 'numpy.ndarray'> 1\n",
      "<class 'numpy.ndarray'> 1\n",
      "<class 'numpy.ndarray'> 1\n",
      "<class 'numpy.ndarray'> 1\n",
      "<class 'numpy.ndarray'> 1\n",
      "<class 'numpy.ndarray'> 1\n",
      "<class 'numpy.ndarray'> 1\n",
      "<class 'numpy.ndarray'> 1\n",
      "<class 'numpy.ndarray'> 1\n",
      "<class 'numpy.ndarray'> 1\n",
      "<class 'numpy.ndarray'> 1\n",
      "<class 'numpy.ndarray'> 1\n",
      "<class 'numpy.ndarray'> 1\n",
      "<class 'numpy.ndarray'> 1\n",
      "<class 'numpy.ndarray'> 1\n",
      "<class 'numpy.ndarray'> 1\n",
      "<class 'numpy.ndarray'> 1\n",
      "<class 'numpy.ndarray'> 1\n",
      "<class 'numpy.ndarray'> 1\n",
      "<class 'numpy.ndarray'> 1\n",
      "<class 'numpy.ndarray'> 1\n",
      "<class 'numpy.ndarray'> 1\n",
      "<class 'numpy.ndarray'> 1\n",
      "<class 'numpy.ndarray'> 1\n",
      "<class 'numpy.ndarray'> 1\n",
      "<class 'numpy.ndarray'> 1\n",
      "<class 'numpy.ndarray'> 1\n",
      "<class 'numpy.ndarray'> 1\n",
      "<class 'numpy.ndarray'> 1\n",
      "<class 'numpy.ndarray'> 1\n",
      "<class 'numpy.ndarray'> 1\n",
      "<class 'numpy.ndarray'> 1\n",
      "<class 'numpy.ndarray'> 1\n",
      "<class 'numpy.ndarray'> 1\n",
      "<class 'numpy.ndarray'> 1\n",
      "<class 'numpy.ndarray'> 1\n",
      "<class 'numpy.ndarray'> 1\n",
      "<class 'numpy.ndarray'> 1\n",
      "<class 'numpy.ndarray'> 1\n",
      "<class 'numpy.ndarray'> 1\n",
      "<class 'numpy.ndarray'> 1\n",
      "<class 'numpy.ndarray'> 1\n",
      "<class 'numpy.ndarray'> 1\n",
      "<class 'numpy.ndarray'> 1\n",
      "<class 'numpy.ndarray'> 1\n",
      "<class 'numpy.ndarray'> 1\n",
      "<class 'numpy.ndarray'> 1\n",
      "<class 'numpy.ndarray'> 1\n",
      "<class 'numpy.ndarray'> 1\n",
      "<class 'numpy.ndarray'> 1\n",
      "<class 'numpy.ndarray'> 1\n",
      "<class 'numpy.ndarray'> 1\n",
      "<class 'numpy.ndarray'> 1\n",
      "<class 'numpy.ndarray'> 1\n",
      "<class 'numpy.ndarray'> 1\n",
      "<class 'numpy.ndarray'> 1\n",
      "<class 'numpy.ndarray'> 1\n",
      "<class 'numpy.ndarray'> 1\n",
      "<class 'numpy.ndarray'> 1\n",
      "<class 'numpy.ndarray'> 1\n",
      "<class 'numpy.ndarray'> 1\n",
      "<class 'numpy.ndarray'> 1\n",
      "<class 'numpy.ndarray'> 1\n",
      "<class 'numpy.ndarray'> 1\n",
      "<class 'numpy.ndarray'> 1\n",
      "<class 'numpy.ndarray'> 1\n",
      "<class 'numpy.ndarray'> 1\n",
      "<class 'numpy.ndarray'> 1\n",
      "<class 'numpy.ndarray'> 1\n",
      "<class 'numpy.ndarray'> 1\n",
      "<class 'numpy.ndarray'> 1\n",
      "<class 'numpy.ndarray'> 1\n",
      "<class 'numpy.ndarray'> 1\n",
      "<class 'numpy.ndarray'> 1\n",
      "<class 'numpy.ndarray'> 1\n",
      "<class 'numpy.ndarray'> 1\n",
      "<class 'numpy.ndarray'> 1\n",
      "<class 'numpy.ndarray'> 1\n",
      "<class 'numpy.ndarray'> 1\n",
      "<class 'numpy.ndarray'> 1\n",
      "<class 'numpy.ndarray'> 1\n",
      "<class 'numpy.ndarray'> 1\n",
      "<class 'numpy.ndarray'> 1\n",
      "<class 'numpy.ndarray'> 1\n",
      "<class 'numpy.ndarray'> 1\n",
      "<class 'numpy.ndarray'> 1\n",
      "<class 'numpy.ndarray'> 1\n",
      "<class 'numpy.ndarray'> 1\n",
      "<class 'numpy.ndarray'> 1\n",
      "<class 'numpy.ndarray'> 1\n",
      "<class 'numpy.ndarray'> 1\n",
      "<class 'numpy.ndarray'> 1\n",
      "<class 'numpy.ndarray'> 1\n",
      "<class 'numpy.ndarray'> 1\n",
      "<class 'numpy.ndarray'> 1\n",
      "<class 'numpy.ndarray'> 1\n",
      "<class 'numpy.ndarray'> 1\n",
      "<class 'numpy.ndarray'> 1\n",
      "<class 'numpy.ndarray'> 1\n",
      "<class 'numpy.ndarray'> 1\n",
      "<class 'numpy.ndarray'> 1\n",
      "<class 'numpy.ndarray'> 1\n",
      "<class 'numpy.ndarray'> 1\n",
      "<class 'numpy.ndarray'> 1\n",
      "<class 'numpy.ndarray'> 1\n",
      "<class 'numpy.ndarray'> 1\n",
      "<class 'numpy.ndarray'> 1\n",
      "<class 'numpy.ndarray'> 1\n",
      "<class 'numpy.ndarray'> 1\n",
      "<class 'numpy.ndarray'> 1\n",
      "<class 'numpy.ndarray'> 1\n",
      "<class 'numpy.ndarray'> 1\n",
      "<class 'numpy.ndarray'> 1\n",
      "<class 'numpy.ndarray'> 1\n",
      "<class 'numpy.ndarray'> 1\n",
      "<class 'numpy.ndarray'> 1\n",
      "<class 'numpy.ndarray'> 1\n",
      "<class 'numpy.ndarray'> 1\n",
      "<class 'numpy.ndarray'> 1\n",
      "<class 'numpy.ndarray'> 1\n",
      "<class 'numpy.ndarray'> 1\n",
      "<class 'numpy.ndarray'> 1\n",
      "<class 'numpy.ndarray'> 1\n",
      "<class 'numpy.ndarray'> 1\n",
      "<class 'numpy.ndarray'> 1\n",
      "<class 'numpy.ndarray'> 1\n",
      "<class 'numpy.ndarray'> 1\n",
      "<class 'numpy.ndarray'> 1\n",
      "<class 'numpy.ndarray'> 1\n",
      "<class 'numpy.ndarray'> 1\n",
      "<class 'numpy.ndarray'> 1\n",
      "<class 'numpy.ndarray'> 1\n",
      "<class 'numpy.ndarray'> 1\n",
      "<class 'numpy.ndarray'> 1\n",
      "<class 'numpy.ndarray'> 1\n",
      "<class 'numpy.ndarray'> 1\n",
      "<class 'numpy.ndarray'> 1\n",
      "<class 'numpy.ndarray'> 1\n",
      "<class 'numpy.ndarray'> 1\n",
      "<class 'numpy.ndarray'> 1\n",
      "<class 'numpy.ndarray'> 1\n",
      "<class 'numpy.ndarray'> 1\n",
      "<class 'numpy.ndarray'> 1\n",
      "<class 'numpy.ndarray'> 1\n",
      "<class 'numpy.ndarray'> 1\n",
      "<class 'numpy.ndarray'> 1\n",
      "<class 'numpy.ndarray'> 1\n",
      "<class 'numpy.ndarray'> 1\n",
      "<class 'numpy.ndarray'> 1\n",
      "<class 'numpy.ndarray'> 1\n",
      "<class 'numpy.ndarray'> 1\n",
      "<class 'numpy.ndarray'> 1\n",
      "<class 'numpy.ndarray'> 1\n",
      "<class 'numpy.ndarray'> 1\n",
      "<class 'numpy.ndarray'> 1\n",
      "<class 'numpy.ndarray'> 1\n",
      "<class 'numpy.ndarray'> 1\n",
      "<class 'numpy.ndarray'> 1\n",
      "<class 'numpy.ndarray'> 1\n",
      "<class 'numpy.ndarray'> 1\n",
      "<class 'numpy.ndarray'> 1\n",
      "<class 'numpy.ndarray'> 1\n",
      "<class 'numpy.ndarray'> 1\n",
      "<class 'numpy.ndarray'> 1\n",
      "<class 'numpy.ndarray'> 1\n",
      "<class 'numpy.ndarray'> 1\n",
      "<class 'numpy.ndarray'> 1\n",
      "<class 'numpy.ndarray'> 1\n",
      "<class 'numpy.ndarray'> 1\n",
      "<class 'numpy.ndarray'> 1\n",
      "<class 'numpy.ndarray'> 1\n",
      "<class 'numpy.ndarray'> 1\n",
      "<class 'numpy.ndarray'> 1\n",
      "<class 'numpy.ndarray'> 1\n",
      "<class 'numpy.ndarray'> 1\n",
      "<class 'numpy.ndarray'> 1\n",
      "<class 'numpy.ndarray'> 1\n",
      "<class 'numpy.ndarray'> 1\n",
      "<class 'numpy.ndarray'> 1\n",
      "<class 'numpy.ndarray'> 1\n",
      "<class 'numpy.ndarray'> 1\n",
      "<class 'numpy.ndarray'> 1\n",
      "<class 'numpy.ndarray'> 1\n",
      "<class 'numpy.ndarray'> 1\n",
      "<class 'numpy.ndarray'> 1\n",
      "<class 'numpy.ndarray'> 1\n",
      "<class 'numpy.ndarray'> 1\n",
      "<class 'numpy.ndarray'> 1\n",
      "<class 'numpy.ndarray'> 1\n",
      "<class 'numpy.ndarray'> 1\n",
      "<class 'numpy.ndarray'> 1\n",
      "<class 'numpy.ndarray'> 1\n",
      "<class 'numpy.ndarray'> 1\n",
      "<class 'numpy.ndarray'> 1\n",
      "<class 'numpy.ndarray'> 1\n",
      "<class 'numpy.ndarray'> 1\n",
      "<class 'numpy.ndarray'> 1\n",
      "<class 'numpy.ndarray'> 1\n",
      "<class 'numpy.ndarray'> 1\n",
      "<class 'numpy.ndarray'> 1\n",
      "<class 'numpy.ndarray'> 1\n",
      "<class 'numpy.ndarray'> 1\n"
     ]
    },
    {
     "name": "stdout",
     "output_type": "stream",
     "text": [
      "<class 'numpy.ndarray'> 1\n",
      "<class 'numpy.ndarray'> 1\n",
      "<class 'numpy.ndarray'> 1\n",
      "<class 'numpy.ndarray'> 1\n",
      "<class 'numpy.ndarray'> 1\n",
      "<class 'numpy.ndarray'> 1\n",
      "<class 'numpy.ndarray'> 1\n",
      "<class 'numpy.ndarray'> 1\n",
      "<class 'numpy.ndarray'> 1\n",
      "<class 'numpy.ndarray'> 1\n",
      "<class 'numpy.ndarray'> 1\n",
      "<class 'numpy.ndarray'> 1\n",
      "<class 'numpy.ndarray'> 1\n",
      "<class 'numpy.ndarray'> 1\n",
      "<class 'numpy.ndarray'> 1\n",
      "<class 'numpy.ndarray'> 1\n",
      "<class 'numpy.ndarray'> 1\n",
      "<class 'numpy.ndarray'> 1\n",
      "<class 'numpy.ndarray'> 1\n",
      "<class 'numpy.ndarray'> 1\n",
      "<class 'numpy.ndarray'> 1\n",
      "<class 'numpy.ndarray'> 1\n",
      "<class 'numpy.ndarray'> 1\n",
      "<class 'numpy.ndarray'> 1\n",
      "<class 'numpy.ndarray'> 1\n",
      "<class 'numpy.ndarray'> 1\n",
      "<class 'numpy.ndarray'> 1\n",
      "<class 'numpy.ndarray'> 1\n",
      "<class 'numpy.ndarray'> 1\n",
      "<class 'numpy.ndarray'> 1\n",
      "<class 'numpy.ndarray'> 1\n",
      "<class 'numpy.ndarray'> 1\n",
      "<class 'numpy.ndarray'> 1\n",
      "<class 'numpy.ndarray'> 1\n",
      "<class 'numpy.ndarray'> 1\n",
      "<class 'numpy.ndarray'> 1\n",
      "<class 'numpy.ndarray'> 1\n",
      "<class 'numpy.ndarray'> 1\n",
      "<class 'numpy.ndarray'> 1\n",
      "<class 'numpy.ndarray'> 1\n",
      "<class 'numpy.ndarray'> 1\n",
      "<class 'numpy.ndarray'> 1\n",
      "<class 'numpy.ndarray'> 1\n",
      "<class 'numpy.ndarray'> 1\n",
      "<class 'numpy.ndarray'> 1\n",
      "<class 'numpy.ndarray'> 1\n",
      "<class 'numpy.ndarray'> 1\n",
      "<class 'numpy.ndarray'> 1\n",
      "<class 'numpy.ndarray'> 1\n",
      "<class 'numpy.ndarray'> 1\n",
      "<class 'numpy.ndarray'> 1\n",
      "<class 'numpy.ndarray'> 1\n",
      "<class 'numpy.ndarray'> 1\n",
      "<class 'numpy.ndarray'> 1\n",
      "<class 'numpy.ndarray'> 1\n",
      "<class 'numpy.ndarray'> 1\n",
      "<class 'numpy.ndarray'> 1\n",
      "<class 'numpy.ndarray'> 1\n",
      "<class 'numpy.ndarray'> 1\n",
      "<class 'numpy.ndarray'> 1\n",
      "<class 'numpy.ndarray'> 1\n",
      "<class 'numpy.ndarray'> 1\n",
      "<class 'numpy.ndarray'> 1\n",
      "<class 'numpy.ndarray'> 1\n",
      "<class 'numpy.ndarray'> 1\n",
      "<class 'numpy.ndarray'> 1\n",
      "<class 'numpy.ndarray'> 1\n",
      "<class 'numpy.ndarray'> 1\n",
      "<class 'numpy.ndarray'> 1\n",
      "<class 'numpy.ndarray'> 1\n",
      "<class 'numpy.ndarray'> 1\n",
      "<class 'numpy.ndarray'> 1\n",
      "<class 'numpy.ndarray'> 1\n",
      "<class 'numpy.ndarray'> 1\n",
      "<class 'numpy.ndarray'> 1\n",
      "<class 'numpy.ndarray'> 1\n",
      "<class 'numpy.ndarray'> 1\n",
      "<class 'numpy.ndarray'> 1\n",
      "<class 'numpy.ndarray'> 1\n",
      "<class 'numpy.ndarray'> 1\n",
      "<class 'numpy.ndarray'> 1\n",
      "<class 'numpy.ndarray'> 1\n",
      "<class 'numpy.ndarray'> 1\n",
      "<class 'numpy.ndarray'> 1\n",
      "<class 'numpy.ndarray'> 1\n",
      "<class 'numpy.ndarray'> 1\n",
      "<class 'numpy.ndarray'> 1\n",
      "<class 'numpy.ndarray'> 1\n",
      "<class 'numpy.ndarray'> 1\n",
      "<class 'numpy.ndarray'> 1\n",
      "<class 'numpy.ndarray'> 1\n",
      "<class 'numpy.ndarray'> 1\n",
      "<class 'numpy.ndarray'> 1\n",
      "<class 'numpy.ndarray'> 1\n",
      "<class 'numpy.ndarray'> 1\n",
      "<class 'numpy.ndarray'> 1\n",
      "<class 'numpy.ndarray'> 1\n",
      "<class 'numpy.ndarray'> 1\n",
      "<class 'numpy.ndarray'> 1\n",
      "<class 'numpy.ndarray'> 1\n",
      "<class 'numpy.ndarray'> 1\n",
      "<class 'numpy.ndarray'> 1\n",
      "<class 'numpy.ndarray'> 1\n",
      "<class 'numpy.ndarray'> 1\n",
      "<class 'numpy.ndarray'> 1\n",
      "<class 'numpy.ndarray'> 1\n",
      "<class 'numpy.ndarray'> 1\n",
      "<class 'numpy.ndarray'> 1\n",
      "<class 'numpy.ndarray'> 1\n",
      "<class 'numpy.ndarray'> 1\n",
      "<class 'numpy.ndarray'> 1\n",
      "<class 'numpy.ndarray'> 1\n",
      "<class 'numpy.ndarray'> 1\n",
      "<class 'numpy.ndarray'> 1\n",
      "<class 'numpy.ndarray'> 1\n",
      "<class 'numpy.ndarray'> 1\n",
      "<class 'numpy.ndarray'> 1\n",
      "<class 'numpy.ndarray'> 1\n",
      "<class 'numpy.ndarray'> 1\n",
      "<class 'numpy.ndarray'> 1\n",
      "<class 'numpy.ndarray'> 1\n",
      "<class 'numpy.ndarray'> 1\n",
      "<class 'numpy.ndarray'> 1\n",
      "<class 'numpy.ndarray'> 1\n",
      "<class 'numpy.ndarray'> 1\n",
      "<class 'numpy.ndarray'> 1\n",
      "<class 'numpy.ndarray'> 1\n",
      "<class 'numpy.ndarray'> 1\n",
      "<class 'numpy.ndarray'> 1\n",
      "<class 'numpy.ndarray'> 1\n",
      "<class 'numpy.ndarray'> 1\n",
      "<class 'numpy.ndarray'> 1\n",
      "<class 'numpy.ndarray'> 1\n",
      "<class 'numpy.ndarray'> 1\n",
      "<class 'numpy.ndarray'> 1\n",
      "<class 'numpy.ndarray'> 1\n",
      "<class 'numpy.ndarray'> 1\n",
      "<class 'numpy.ndarray'> 1\n",
      "<class 'numpy.ndarray'> 1\n",
      "<class 'numpy.ndarray'> 1\n",
      "<class 'numpy.ndarray'> 1\n"
     ]
    },
    {
     "ename": "TypeError",
     "evalue": "'NoneType' object is not iterable",
     "output_type": "error",
     "traceback": [
      "\u001b[1;31m---------------------------------------------------------------------------\u001b[0m",
      "\u001b[1;31mTypeError\u001b[0m                                 Traceback (most recent call last)",
      "\u001b[1;32m<ipython-input-90-82d13e0439eb>\u001b[0m in \u001b[0;36m<module>\u001b[1;34m()\u001b[0m\n\u001b[0;32m      1\u001b[0m \u001b[1;31m# Let's iterate through the ML ready data and label for each image in the training set\u001b[0m\u001b[1;33m\u001b[0m\u001b[1;33m\u001b[0m\u001b[0m\n\u001b[0;32m      2\u001b[0m \u001b[1;32mwhile\u001b[0m \u001b[1;32mTrue\u001b[0m\u001b[1;33m:\u001b[0m\u001b[1;33m\u001b[0m\u001b[0m\n\u001b[1;32m----> 3\u001b[1;33m     \u001b[0mdata\u001b[0m\u001b[1;33m,\u001b[0m \u001b[0mlabel\u001b[0m \u001b[1;33m=\u001b[0m \u001b[0mnext\u001b[0m\u001b[1;33m(\u001b[0m\u001b[0mimages\u001b[0m\u001b[1;33m)\u001b[0m\u001b[1;33m\u001b[0m\u001b[0m\n\u001b[0m\u001b[0;32m      4\u001b[0m     \u001b[1;32mif\u001b[0m \u001b[0mdata\u001b[0m \u001b[1;32mis\u001b[0m \u001b[1;32mNone\u001b[0m\u001b[1;33m:\u001b[0m \u001b[1;32mbreak\u001b[0m\u001b[1;33m\u001b[0m\u001b[0m\n\u001b[0;32m      5\u001b[0m     \u001b[0mprint\u001b[0m\u001b[1;33m(\u001b[0m\u001b[0mtype\u001b[0m\u001b[1;33m(\u001b[0m\u001b[0mdata\u001b[0m\u001b[1;33m)\u001b[0m\u001b[1;33m,\u001b[0m \u001b[0mlabel\u001b[0m\u001b[1;33m)\u001b[0m\u001b[1;33m\u001b[0m\u001b[0m\n",
      "\u001b[1;31mTypeError\u001b[0m: 'NoneType' object is not iterable"
     ]
    }
   ],
   "source": [
    "# Let's iterate through the ML ready data and label for each image in the training set\n",
    "while True:\n",
    "    data, label = next(images)\n",
    "    if data is None: break\n",
    "    print(type(data), label)"
   ]
  },
  {
   "cell_type": "markdown",
   "metadata": {},
   "source": [
    "### Minibatch generation\n",
    "\n",
    "Another way of feeding a neural network is through mini-batches. A mini-batch is a subset of the training set, that is greater than one. After each mini-batch is feed, then backward probagation, using gradient descent, is done. \n",
    "\n",
    "Typically, minibatches are set to sizes like 30, 50, 100, or 200. We will use the minibatch property as a setter to set the minibatch size to 100."
   ]
  },
  {
   "cell_type": "code",
   "execution_count": 91,
   "metadata": {},
   "outputs": [],
   "source": [
    "# Set minibatch size to 100 images\n",
    "images.minibatch = 100"
   ]
  },
  {
   "cell_type": "markdown",
   "metadata": {},
   "source": [
    "When we use the minibatch property as a getter, it will create a generator."
   ]
  },
  {
   "cell_type": "code",
   "execution_count": 92,
   "metadata": {},
   "outputs": [],
   "source": [
    "# Calculate the number of batches\n",
    "nbatches = len(images) // 100\n",
    "\n",
    "# process each mini-batch\n",
    "for _ in range(nbatches):\n",
    "    # Create a generator for the next minibatch\n",
    "    g = images.minibatch\n",
    "    # Get the data, labels for each item in the minibatch\n",
    "    for data, label in g:\n",
    "        pass"
   ]
  },
  {
   "cell_type": "markdown",
   "metadata": {},
   "source": [
    "## Datset of Images\n",
    "\n",
    "Let's load the entire dataset - that's 27 collections of 1200 images each."
   ]
  },
  {
   "cell_type": "code",
   "execution_count": 93,
   "metadata": {},
   "outputs": [
    {
     "name": "stdout",
     "output_type": "stream",
     "text": [
      "Procesed: 0 Number of images: 1200 Time:  4.414807558059692\n",
      "Procesed: 1 Number of images: 1200 Time:  3.9936070442199707\n",
      "Procesed: 10 Number of images: 1200 Time:  4.4616076946258545\n",
      "Procesed: 11 Number of images: 1200 Time:  4.492807865142822\n",
      "Procesed: 12 Number of images: 1200 Time:  5.5380096435546875\n",
      "Procesed: 13 Number of images: 1200 Time:  4.789208650588989\n",
      "Procesed: 14 Number of images: 1200 Time:  3.83760666847229\n",
      "Procesed: 15 Number of images: 1200 Time:  3.790806531906128\n",
      "Procesed: 16 Number of images: 1200 Time:  4.009207010269165\n",
      "Procesed: 17 Number of images: 1200 Time:  4.321207523345947\n",
      "Procesed: 18 Number of images: 1200 Time:  3.744006633758545\n",
      "Procesed: 19 Number of images: 1200 Time:  3.712806463241577\n",
      "Procesed: 2 Number of images: 1200 Time:  3.712806463241577\n",
      "Procesed: 20 Number of images: 1200 Time:  3.7284066677093506\n",
      "Procesed: 21 Number of images: 1200 Time:  3.83760666847229\n",
      "Procesed: 22 Number of images: 1200 Time:  3.8688066005706787\n",
      "Procesed: 23 Number of images: 1200 Time:  3.8688066005706787\n",
      "Procesed: 24 Number of images: 1200 Time:  3.7596065998077393\n",
      "Procesed: 25 Number of images: 1200 Time:  3.8220067024230957\n",
      "Procesed: 26 Number of images: 1200 Time:  3.790806770324707\n",
      "Procesed: 3 Number of images: 1200 Time:  3.868806838989258\n",
      "Procesed: 4 Number of images: 1200 Time:  4.477207899093628\n",
      "Procesed: 5 Number of images: 1200 Time:  4.134007453918457\n",
      "Procesed: 6 Number of images: 1200 Time:  3.868806838989258\n",
      "Procesed: 7 Number of images: 1200 Time:  3.790806770324707\n",
      "Procesed: 8 Number of images: 1200 Time:  3.8532066345214844\n",
      "Procesed: 9 Number of images: 1200 Time:  3.915606737136841\n",
      "average: 4.0519626493807195\n"
     ]
    }
   ],
   "source": [
    "# Prepare each set of labeled data into machine learning ready data\n",
    "# The images are 50x50, bitdepth=8, 1 channel (grayscale)\n",
    "total = 0\n",
    "collections=[]\n",
    "for label in labels:\n",
    "    # Get a list of all images in the subdirectory for this label (should be 1200 images)\n",
    "    imgdir = \"gestures/\" + label + \"/\"\n",
    "    imglst = [imgdir + x for x in os.listdir(imgdir)]\n",
    "    images = Images(imglst, int(label), name='tmp' + label, config=['flatten', 'grayscale'])\n",
    "    collections.append(images)\n",
    "    print(\"Procesed: \" + label, \"Number of images:\", len(images), \"Time: \", images.time)\n",
    "    total += images.time\n",
    "    \n",
    "print(\"average:\", total / len(labels))\n",
    "    "
   ]
  },
  {
   "cell_type": "markdown",
   "metadata": {},
   "source": [
    "Let's verify the preprocessing of our image data"
   ]
  },
  {
   "cell_type": "code",
   "execution_count": 94,
   "metadata": {},
   "outputs": [
    {
     "name": "stdout",
     "output_type": "stream",
     "text": [
      "27\n",
      "<class 'vision.Images'>\n",
      "1200\n"
     ]
    }
   ],
   "source": [
    "# Let's see how many batches (collections) we have (hint: should be 27)\n",
    "print(len(collections))\n",
    "\n",
    "# Let's verify that the items in the collections are an Images object\n",
    "collection = collections[3]\n",
    "print(type(collection))\n",
    "\n",
    "# For a collection, let's see how many image objects we have (hint: should be 1200)\n",
    "print(len(collection))"
   ]
  },
  {
   "cell_type": "markdown",
   "metadata": {},
   "source": [
    "Let's look at the first Image object in this collection."
   ]
  },
  {
   "cell_type": "code",
   "execution_count": 95,
   "metadata": {},
   "outputs": [
    {
     "name": "stdout",
     "output_type": "stream",
     "text": [
      "<class 'vision.Image'>\n"
     ]
    }
   ],
   "source": [
    "# Let's get the first Image item and verify it is an Image object\n",
    "image = collection[0]\n",
    "print(type(image))"
   ]
  },
  {
   "cell_type": "markdown",
   "metadata": {},
   "source": [
    "Let's name view some of the properties and verify that images got processed as expected."
   ]
  },
  {
   "cell_type": "code",
   "execution_count": 96,
   "metadata": {},
   "outputs": [
    {
     "name": "stdout",
     "output_type": "stream",
     "text": [
      "1\n",
      "jpg\n",
      "1459\n"
     ]
    }
   ],
   "source": [
    "# Let's get some basic information about the image\n",
    "print(image.name)  # the root name of the image\n",
    "print(image.type)  # the image file suffix\n",
    "print(image.size)  # the size of the image on disk"
   ]
  },
  {
   "cell_type": "code",
   "execution_count": 97,
   "metadata": {},
   "outputs": [
    {
     "name": "stdout",
     "output_type": "stream",
     "text": [
      "(50, 50)\n"
     ]
    }
   ],
   "source": [
    "# Let's now check the raw (uncompressed) unprocessed image\n",
    "print(image.raw.shape)"
   ]
  },
  {
   "cell_type": "code",
   "execution_count": 98,
   "metadata": {},
   "outputs": [
    {
     "name": "stdout",
     "output_type": "stream",
     "text": [
      "(2500,)\n"
     ]
    }
   ],
   "source": [
    "# Let's look at how the image got processed.\n",
    "print(image.shape)  # Note, that the preprocessed image was flattened into a 1D vector. It was 50x50, and now is 2500."
   ]
  },
  {
   "cell_type": "markdown",
   "metadata": {},
   "source": [
    "Let's now take a look at the image. Remember to hit any key to exit the viewer (i.e., cv2.waitKey(0))"
   ]
  },
  {
   "cell_type": "code",
   "execution_count": 99,
   "metadata": {},
   "outputs": [
    {
     "data": {
      "text/plain": [
       "-1"
      ]
     },
     "execution_count": 99,
     "metadata": {},
     "output_type": "execute_result"
    }
   ],
   "source": [
    "# Let's view the raw image\n",
    "import cv2\n",
    "cv2.imshow('image',image.raw)\n",
    "cv2.waitKey(0)"
   ]
  },
  {
   "cell_type": "markdown",
   "metadata": {},
   "source": [
    "## Gap v0.91 Features (towards Beta)\n",
    "\n",
    "There are new features emerging as Gap moves from alpha (current v0.9) to beta (v0.95). Here are some that can be demonstrated now."
   ]
  },
  {
   "cell_type": "markdown",
   "metadata": {},
   "source": [
    "### Remote Image (Url)\n",
    "\n",
    "The Image class (and correspondly the Images class), paths to the image file may be specified as an URL; providing the ability to preprocess images stored at remote locations. In this case, an HTTP request is made to retrieve the image data over the network."
   ]
  },
  {
   "cell_type": "code",
   "execution_count": 102,
   "metadata": {},
   "outputs": [],
   "source": [
    "# Let's load an image from the CNN news website\n",
    "image = Image('https://cdn.cnn.com/cnnnext/dam/assets/180727161452-trump-speech-economy-072718-exlarge-tease.jpg', 2)"
   ]
  },
  {
   "cell_type": "markdown",
   "metadata": {},
   "source": [
    "Let's look at some properties."
   ]
  },
  {
   "cell_type": "code",
   "execution_count": 103,
   "metadata": {},
   "outputs": [
    {
     "name": "stdout",
     "output_type": "stream",
     "text": [
      "180727161452-trump-speech-economy-072718-exlarge-tease\n",
      "38302\n",
      "(438, 780, 3)\n"
     ]
    }
   ],
   "source": [
    "# Let's display some properties of the image that was fetched from a remote location and then preprocessed in ML ready data.\n",
    "print(image.name)\n",
    "print(image.size)\n",
    "print(image.shape)"
   ]
  },
  {
   "cell_type": "markdown",
   "metadata": {},
   "source": [
    "### Directories (Subfolders) of Images\n",
    "\n",
    "The Images class can alternately take a list of subfolders (vs. list of images); in which case, all the images under each subfolder are preprocessed into ML ready data. This is useful if your images are separated into subfolders, where each subfolder is a separate class (label) of images. This is a fairly common practice.\n",
    "\n",
    "In this case, the corresponding label in the same index of the labels parameter will be assigned to each image in the subfolder."
   ]
  },
  {
   "cell_type": "code",
   "execution_count": 104,
   "metadata": {},
   "outputs": [],
   "source": [
    "# Let's process a list of subfolders of images\n",
    "images = Images(['gestures/1', 'gestures/2'], [1,2], name='foobar')"
   ]
  },
  {
   "cell_type": "code",
   "execution_count": 105,
   "metadata": {},
   "outputs": [
    {
     "name": "stdout",
     "output_type": "stream",
     "text": [
      "2400\n"
     ]
    }
   ],
   "source": [
    "# We have two subfolders of 1200 images each, so we should expect 2400 images\n",
    "print(len(images))"
   ]
  },
  {
   "cell_type": "markdown",
   "metadata": {},
   "source": [
    "### Image Synthesis\n",
    "\n",
    "Image Synthesis is the process of generating (synthesizing) new images from existing images, which can then be used to augment the training process. Synthesis can include, rotation, skew, sharpending and blur of existing images. These need images are then feed into the neural network during training to augment the training set. Rotating and skew aid in recognizing images from different angles, and sharpening and blur help generalize recognition (combat overfitting), as well as recognition under different lightening and time of day conditions.\n",
    "\n",
    "The Image class supports generating new images by rotation. Any degree of rotation can be specified from 0 to 360."
   ]
  },
  {
   "cell_type": "code",
   "execution_count": 106,
   "metadata": {},
   "outputs": [
    {
     "data": {
      "text/plain": [
       "-1"
      ]
     },
     "execution_count": 106,
     "metadata": {},
     "output_type": "execute_result"
    }
   ],
   "source": [
    "# Let's pick an image out of the collection\n",
    "image = images[0]\n",
    "\n",
    "# Let's now rotate it 90 degress\n",
    "rotated = image.rotate(90)\n",
    "\n",
    "# Let's now look at the rotated image\n",
    "cv2.imshow('image',rotated)\n",
    "cv2.waitKey(0)"
   ]
  },
  {
   "cell_type": "markdown",
   "metadata": {},
   "source": [
    "# End of Session 3"
   ]
  },
  {
   "cell_type": "code",
   "execution_count": 107,
   "metadata": {},
   "outputs": [],
   "source": [
    "# some cleanup\n",
    "os.remove('collection.1.h5')\n",
    "for _ in range(27):\n",
    "    os.remove('tmp' + str(_) + '.h5')"
   ]
  },
  {
   "cell_type": "code",
   "execution_count": null,
   "metadata": {},
   "outputs": [],
   "source": []
  }
 ],
 "metadata": {
  "kernelspec": {
   "display_name": "Python 3",
   "language": "python",
   "name": "python3"
  },
  "language_info": {
   "codemirror_mode": {
    "name": "ipython",
    "version": 3
   },
   "file_extension": ".py",
   "mimetype": "text/x-python",
   "name": "python",
   "nbconvert_exporter": "python",
   "pygments_lexer": "ipython3",
   "version": "3.5.2"
  }
 },
 "nbformat": 4,
 "nbformat_minor": 2
}
