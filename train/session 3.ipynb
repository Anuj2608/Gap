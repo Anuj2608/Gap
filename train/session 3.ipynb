{
 "cells": [
  {
   "cell_type": "markdown",
   "metadata": {},
   "source": [
    "# Gap Framework - Computer Vision\n",
    "\n",
    "In this session, we will introduce you to preprocessing image data for computer vision. Preprocessing, storage, retrieval and batch management are all handled by two classes, the Image and Images class.\n",
    "\n",
    "    Image - represents a single preprocessed image\n",
    "    Images - represents a collection (or batch) of preprocessed images"
   ]
  },
  {
   "cell_type": "code",
   "execution_count": 1,
   "metadata": {},
   "outputs": [
    {
     "name": "stdout",
     "output_type": "stream",
     "text": [
      "C:\\Users\\'\\Desktop\\Gap-ml\n"
     ]
    }
   ],
   "source": [
    "# Let's go the directory of the Gap Framework\n",
    "import os\n",
    "os.chdir(\"../\")\n",
    "!cd"
   ]
  },
  {
   "cell_type": "markdown",
   "metadata": {},
   "source": [
    "### Setup\n",
    "\n",
    "Let's start by importing the Gap <b style='color:saddlebrown'>vision</b> module"
   ]
  },
  {
   "cell_type": "code",
   "execution_count": 2,
   "metadata": {},
   "outputs": [],
   "source": [
    "# import the Gap Vision module\n",
    "from vision import Image, Images"
   ]
  },
  {
   "cell_type": "markdown",
   "metadata": {},
   "source": [
    "Let's go to a respository of images for sign language. We will use this repository for image preprocessing for computer vision."
   ]
  },
  {
   "cell_type": "code",
   "execution_count": 3,
   "metadata": {},
   "outputs": [],
   "source": [
    "os.chdir(\"../Training/AITraining/Intermediate/Machine Learning/sign-lang\")"
   ]
  },
  {
   "cell_type": "code",
   "execution_count": 4,
   "metadata": {},
   "outputs": [],
   "source": [
    "# The sign language characters (a-z) are labeled 1 .. 26, and 0 is for not a character.\n",
    "# Each of the training images are under a subdirectory of the corresponding label.\n",
    "labels = os.listdir(\"gestures\")\n",
    "    "
   ]
  },
  {
   "cell_type": "markdown",
   "metadata": {},
   "source": [
    "### Image Class\n",
    "\n",
    "The Image class supports the pre-processing of a single image into machine learning ready data. It can process JPG, PNG, TIF and GIF files. We will start by instantiating an image object for an image in the sign-lang image collection. For parameters, we will give the path to the image, and the label value (1). Labels must be mapped into integer values. For the sign-lang dataset, 1-26 is mapped to the 26 letters of the alphabet, and 0 is for a non-letter. \n",
    "\n",
    "When we instantiate the image, by default the following will happen:\n",
    "\n",
    "    1. Image is read in and decompressed, as a numpy array.\n",
    "    2. The image is processed according to the configuration parameters or defaults (e.g., resize, normalized, flatten,   \n",
    "       channel conversion)\n",
    "    3. The raw image data, processed image data, thumbnail, and metadata are stored to a HDF5 file system."
   ]
  },
  {
   "cell_type": "code",
   "execution_count": 6,
   "metadata": {},
   "outputs": [],
   "source": [
    "image = Image('gestures/1/1.jpg', 1)"
   ]
  },
  {
   "cell_type": "markdown",
   "metadata": {},
   "source": [
    "### Image Properties\n",
    "\n",
    "Let's look at some properties of the Image class.\n",
    "\n",
    "Note how the shape of the ML ready data is (50, 50, 3). We will change that in a bit."
   ]
  },
  {
   "cell_type": "code",
   "execution_count": 14,
   "metadata": {},
   "outputs": [
    {
     "name": "stdout",
     "output_type": "stream",
     "text": [
      "1\n",
      "jpg\n",
      "./\n",
      "1336\n",
      "(50, 50, 3)\n",
      "1\n",
      "0.040000200271606445\n"
     ]
    }
   ],
   "source": [
    "print( image.name )   # The root name of the image (w/o suffix)\n",
    "print( image.type )   # Type of image (e.g. jpeg)\n",
    "print( image.dir )    # The directory where the ML ready data will be stored\n",
    "print( image.size )   # The original size of the image\n",
    "print( image.shape )  # The shape of the preprocessed image (ML ready data)\n",
    "print( image.label )  # The label\n",
    "print( image.time )   # The amount of time (secs) to preprocess the image"
   ]
  },
  {
   "cell_type": "markdown",
   "metadata": {},
   "source": [
    "### Image Data\n",
    "\n",
    "Let's look at both the raw and ML ready data."
   ]
  },
  {
   "cell_type": "code",
   "execution_count": 13,
   "metadata": {},
   "outputs": [
    {
     "name": "stdout",
     "output_type": "stream",
     "text": [
      "Label is 1\n",
      "Raw Data [[[0 0 0]\n",
      "  [0 0 0]\n",
      "  [0 0 0]\n",
      "  ...\n",
      "  [0 0 0]\n",
      "  [0 0 0]\n",
      "  [0 0 0]]\n",
      "\n",
      " [[0 0 0]\n",
      "  [0 0 0]\n",
      "  [0 0 0]\n",
      "  ...\n",
      "  [0 0 0]\n",
      "  [0 0 0]\n",
      "  [0 0 0]]\n",
      "\n",
      " [[0 0 0]\n",
      "  [0 0 0]\n",
      "  [0 0 0]\n",
      "  ...\n",
      "  [0 0 0]\n",
      "  [0 0 0]\n",
      "  [0 0 0]]\n",
      "\n",
      " ...\n",
      "\n",
      " [[0 0 0]\n",
      "  [0 0 0]\n",
      "  [0 0 0]\n",
      "  ...\n",
      "  [0 0 0]\n",
      "  [0 0 0]\n",
      "  [0 0 0]]\n",
      "\n",
      " [[0 0 0]\n",
      "  [0 0 0]\n",
      "  [0 0 0]\n",
      "  ...\n",
      "  [0 0 0]\n",
      "  [0 0 0]\n",
      "  [0 0 0]]\n",
      "\n",
      " [[0 0 0]\n",
      "  [0 0 0]\n",
      "  [0 0 0]\n",
      "  ...\n",
      "  [0 0 0]\n",
      "  [0 0 0]\n",
      "  [0 0 0]]]\n",
      "ML ready data [[[0. 0. 0.]\n",
      "  [0. 0. 0.]\n",
      "  [0. 0. 0.]\n",
      "  ...\n",
      "  [0. 0. 0.]\n",
      "  [0. 0. 0.]\n",
      "  [0. 0. 0.]]\n",
      "\n",
      " [[0. 0. 0.]\n",
      "  [0. 0. 0.]\n",
      "  [0. 0. 0.]\n",
      "  ...\n",
      "  [0. 0. 0.]\n",
      "  [0. 0. 0.]\n",
      "  [0. 0. 0.]]\n",
      "\n",
      " [[0. 0. 0.]\n",
      "  [0. 0. 0.]\n",
      "  [0. 0. 0.]\n",
      "  ...\n",
      "  [0. 0. 0.]\n",
      "  [0. 0. 0.]\n",
      "  [0. 0. 0.]]\n",
      "\n",
      " ...\n",
      "\n",
      " [[0. 0. 0.]\n",
      "  [0. 0. 0.]\n",
      "  [0. 0. 0.]\n",
      "  ...\n",
      "  [0. 0. 0.]\n",
      "  [0. 0. 0.]\n",
      "  [0. 0. 0.]]\n",
      "\n",
      " [[0. 0. 0.]\n",
      "  [0. 0. 0.]\n",
      "  [0. 0. 0.]\n",
      "  ...\n",
      "  [0. 0. 0.]\n",
      "  [0. 0. 0.]\n",
      "  [0. 0. 0.]]\n",
      "\n",
      " [[0. 0. 0.]\n",
      "  [0. 0. 0.]\n",
      "  [0. 0. 0.]\n",
      "  ...\n",
      "  [0. 0. 0.]\n",
      "  [0. 0. 0.]\n",
      "  [0. 0. 0.]]]\n"
     ]
    }
   ],
   "source": [
    "print(\"Raw Data\", image.raw)\n",
    "print(\"ML ready data\", image.data)"
   ]
  },
  {
   "cell_type": "markdown",
   "metadata": {},
   "source": [
    "By default, the number of channels is preserved (e.g., 1 for grayscale, 3 for RGB, and 4 for RGBA), and the data is normalized. On the later, the 0..255 pixel values are rescaled between 0 and 1.\n",
    "\n",
    "Let's now change the preprocessing of the image to a grayscale image and resize it to 32x32. When we print the shape, you can see the 3rd dimension (channels) is gone - indicating a grayscale image, and the size is now 32 by 32."
   ]
  },
  {
   "cell_type": "code",
   "execution_count": 15,
   "metadata": {},
   "outputs": [
    {
     "name": "stdout",
     "output_type": "stream",
     "text": [
      "(32, 32)\n"
     ]
    }
   ],
   "source": [
    "image = Image('gestures/1/1.jpg', 1, config=['grayscale', 'resize=(32,32)'])\n",
    "\n",
    "print( image.shape )"
   ]
  },
  {
   "cell_type": "markdown",
   "metadata": {},
   "source": [
    "Let's now say that the image data will be feed into a ANN (not CNN) or to a CNN with a 1D input vector. In this case, we need to feed the ML ready data as a flatten 1D vector. We can do that to. Now when we print the shape you can see its 1024 (32 x 32)."
   ]
  },
  {
   "cell_type": "code",
   "execution_count": 16,
   "metadata": {},
   "outputs": [
    {
     "name": "stdout",
     "output_type": "stream",
     "text": [
      "(1024,)\n"
     ]
    }
   ],
   "source": [
    "image = Image('gestures/1/1.jpg', 1, config=['grayscale', 'resize=(32,32)', 'flatten'])\n",
    "\n",
    "print( image.shape )"
   ]
  },
  {
   "cell_type": "markdown",
   "metadata": {},
   "source": [
    "### Image Loading\n",
    "\n",
    "When an image is preprocessed, the ML ready data, raw data and attributes are stored in an HDF5 file. We can subsequently recall (load) the image information from the HDF5 file into an image object."
   ]
  },
  {
   "cell_type": "code",
   "execution_count": 27,
   "metadata": {
    "scrolled": true
   },
   "outputs": [],
   "source": [
    "image = Image()   # Create an empty image object\n",
    "image.load('1.h5')"
   ]
  },
  {
   "cell_type": "code",
   "execution_count": 28,
   "metadata": {},
   "outputs": [
    {
     "name": "stdout",
     "output_type": "stream",
     "text": [
      "1\n",
      "h5\n",
      "./\n",
      "18888\n",
      "(1024,)\n",
      "1\n"
     ]
    }
   ],
   "source": [
    "print( image.name )   # The root name of the image (w/o suffix)\n",
    "print( image.type )   # Type of image (e.g. jpeg)\n",
    "print( image.dir )    # The directory where the ML ready data will be stored\n",
    "print( image.size )   # The original size of the image\n",
    "print( image.shape )  # The shape of the preprocessed image (ML ready data)\n",
    "print( image.label )  # The label"
   ]
  },
  {
   "cell_type": "markdown",
   "metadata": {},
   "source": [
    "## Images Class"
   ]
  },
  {
   "cell_type": "markdown",
   "metadata": {},
   "source": [
    "Let's now load an entire dataset of images"
   ]
  },
  {
   "cell_type": "code",
   "execution_count": null,
   "metadata": {},
   "outputs": [],
   "source": [
    "# Prepare each set of labeled data into machine learning ready data\n",
    "# The images are 50x50, bitdepth=8, 1 channel (grayscale)\n",
    "total = 0\n",
    "collections=[]\n",
    "for label in labels:\n",
    "    # Get a list of all images in the subdirectory for this label (should be 1200 images)\n",
    "    imgdir = \"gestures/\" + label + \"/\"\n",
    "    imglst = [imgdir + x for x in os.listdir(imgdir)]\n",
    "    images = Images(imglst, int(label), dir='tmp' + label, config=['flatten', 'grayscale', 'nostore'])\n",
    "    collections.append(images)\n",
    "    print(\"Procesed: \" + label, \"Number of images:\", len(images), \"Time: \", images.time)\n",
    "    total += images.time\n",
    "    \n",
    "print(\"average:\", total / len(labels))\n",
    "    "
   ]
  },
  {
   "cell_type": "markdown",
   "metadata": {},
   "source": [
    "Let's verify the preprocessing of our image data"
   ]
  },
  {
   "cell_type": "code",
   "execution_count": null,
   "metadata": {},
   "outputs": [],
   "source": [
    "# Let's see how many batches (collections) we have (hint: should be 27)\n",
    "print(len(collections))\n",
    "\n",
    "# Let's verify that the items in the collections are an Images object\n",
    "collection = collections[3]\n",
    "print(type(collection))\n",
    "\n",
    "# For a collection, let's see how many image objects we have (hint: should be 1200)\n",
    "print(len(collection))"
   ]
  },
  {
   "cell_type": "markdown",
   "metadata": {},
   "source": [
    "Let's look at the first Image object in this collection."
   ]
  },
  {
   "cell_type": "code",
   "execution_count": null,
   "metadata": {},
   "outputs": [],
   "source": [
    "# Let's get the first Image item and verify it is an Image object\n",
    "image = collection[0]\n",
    "print(type(image))"
   ]
  },
  {
   "cell_type": "code",
   "execution_count": null,
   "metadata": {},
   "outputs": [],
   "source": [
    "# Let's get some basic information about the image\n",
    "print(image.name)  # the root name of the image\n",
    "print(image.type)  # the image file suffix\n",
    "print(image.size)  # the size of the image on disk"
   ]
  },
  {
   "cell_type": "code",
   "execution_count": null,
   "metadata": {},
   "outputs": [],
   "source": [
    "# Let's now check the raw (uncompressed) unprocessed image\n",
    "print(image.raw.shape)"
   ]
  },
  {
   "cell_type": "code",
   "execution_count": null,
   "metadata": {},
   "outputs": [],
   "source": [
    "# Let's look at how the image got processed.\n",
    "print(image.shape)  # Note, that the preprocessed image was flattened into a 1D vector. It was 50x50, and now is 2500."
   ]
  },
  {
   "cell_type": "code",
   "execution_count": null,
   "metadata": {},
   "outputs": [],
   "source": [
    "# Let's view the raw image\n",
    "import cv2\n",
    "cv2.imshow('image',image.raw)\n",
    "cv2.waitKey(0)"
   ]
  },
  {
   "cell_type": "markdown",
   "metadata": {},
   "source": [
    "## Let's presume that it is some later date, and we want to recall the collections from disk.\n",
    "\n",
    "We start by creating an empty Images() object. We then identify the name of the collection and execute the load() method with the collection name."
   ]
  },
  {
   "cell_type": "code",
   "execution_count": null,
   "metadata": {},
   "outputs": [],
   "source": [
    "# Let's load up one collection\n",
    "images = Images(dir=\"tmp0/\")\n",
    "images.load(\"collection.1\")"
   ]
  },
  {
   "cell_type": "markdown",
   "metadata": {},
   "source": [
    "Wow, we just recalled the whole collection from disk. Let's now look at our machine learning ready data!"
   ]
  },
  {
   "cell_type": "code",
   "execution_count": null,
   "metadata": {},
   "outputs": [],
   "source": [
    "print(len(images))\n",
    "image = images[17]\n",
    "print(image.name)\n",
    "print(image.type)\n",
    "print(image.size)\n",
    "print(image.shape)"
   ]
  },
  {
   "cell_type": "code",
   "execution_count": null,
   "metadata": {},
   "outputs": [],
   "source": [
    "print(image.raw.shape)"
   ]
  },
  {
   "cell_type": "markdown",
   "metadata": {},
   "source": [
    "# End of Session 3"
   ]
  },
  {
   "cell_type": "code",
   "execution_count": null,
   "metadata": {},
   "outputs": [],
   "source": []
  }
 ],
 "metadata": {
  "kernelspec": {
   "display_name": "Python 3",
   "language": "python",
   "name": "python3"
  },
  "language_info": {
   "codemirror_mode": {
    "name": "ipython",
    "version": 3
   },
   "file_extension": ".py",
   "mimetype": "text/x-python",
   "name": "python",
   "nbconvert_exporter": "python",
   "pygments_lexer": "ipython3",
   "version": "3.5.2"
  }
 },
 "nbformat": 4,
 "nbformat_minor": 2
}
