{
 "cells": [
  {
   "cell_type": "markdown",
   "metadata": {},
   "source": [
    "# Gap Framework - Computer Vision\n",
    "\n",
    "In this session, we will introduce you to preprocessing image data for computer vision. Preprocessing, storage, retrieval and batch management are all handled by two classes, the Image and Images class.\n",
    "\n",
    "    Image - represents a single preprocessed image\n",
    "    Images - represents a collection (or batch) of preprocessed images"
   ]
  },
  {
   "cell_type": "code",
   "execution_count": 1,
   "metadata": {},
   "outputs": [],
   "source": [
    "import os\n",
    "os.chdir(\"../\")"
   ]
  },
  {
   "cell_type": "markdown",
   "metadata": {},
   "source": [
    "Let's start by importing the Gap Vision module"
   ]
  },
  {
   "cell_type": "code",
   "execution_count": 2,
   "metadata": {},
   "outputs": [],
   "source": [
    "# import the Gap Vision module\n",
    "from image import Image, Images"
   ]
  },
  {
   "cell_type": "code",
   "execution_count": 3,
   "metadata": {},
   "outputs": [
    {
     "name": "stdout",
     "output_type": "stream",
     "text": [
      "C:\\Users\\'\\Desktop\\epipog-nlp\n"
     ]
    }
   ],
   "source": [
    "!cd"
   ]
  },
  {
   "cell_type": "code",
   "execution_count": 4,
   "metadata": {},
   "outputs": [],
   "source": [
    "os.chdir(\"../Training/AITraining/Intermediate/Machine Learning/sign-lang\")"
   ]
  },
  {
   "cell_type": "code",
   "execution_count": 5,
   "metadata": {},
   "outputs": [],
   "source": [
    "# The sign language characters (a-z) are labeled 1 .. 26, and 0 is for not a character.\n",
    "# Each of the training images are under a subdirectory of the corresponding label.\n",
    "labels = os.listdir(\"gestures\")\n",
    "    "
   ]
  },
  {
   "cell_type": "code",
   "execution_count": 8,
   "metadata": {},
   "outputs": [
    {
     "name": "stdout",
     "output_type": "stream",
     "text": [
      "Procesed: 0 Number of images: 1200 Time:  2.0600028038024902\n",
      "Procesed: 1 Number of images: 1200 Time:  2.1200029850006104\n",
      "Procesed: 10 Number of images: 1200 Time:  2.130002975463867\n",
      "Procesed: 11 Number of images: 1200 Time:  2.350003242492676\n",
      "Procesed: 12 Number of images: 1200 Time:  2.3040056228637695\n",
      "Procesed: 13 Number of images: 1200 Time:  2.220003128051758\n",
      "Procesed: 14 Number of images: 1200 Time:  2.24200439453125\n",
      "Procesed: 15 Number of images: 1200 Time:  2.2900032997131348\n",
      "Procesed: 16 Number of images: 1200 Time:  2.2500030994415283\n",
      "Procesed: 17 Number of images: 1200 Time:  2.15000319480896\n",
      "Procesed: 18 Number of images: 1200 Time:  2.280003070831299\n",
      "Procesed: 19 Number of images: 1200 Time:  2.1800031661987305\n",
      "Procesed: 2 Number of images: 1200 Time:  6.380008935928345\n",
      "Procesed: 20 Number of images: 1200 Time:  5.140007257461548\n",
      "Procesed: 21 Number of images: 1200 Time:  5.071007013320923\n",
      "Procesed: 22 Number of images: 1200 Time:  5.78000807762146\n",
      "Procesed: 23 Number of images: 1200 Time:  6.100008487701416\n",
      "Procesed: 24 Number of images: 1200 Time:  4.910006999969482\n",
      "Procesed: 25 Number of images: 1200 Time:  5.2200071811676025\n",
      "Procesed: 26 Number of images: 1200 Time:  5.9400084018707275\n",
      "Procesed: 3 Number of images: 1200 Time:  5.860008239746094\n",
      "Procesed: 4 Number of images: 1200 Time:  6.080008506774902\n",
      "Procesed: 5 Number of images: 1200 Time:  5.200007438659668\n",
      "Procesed: 6 Number of images: 1200 Time:  5.3620076179504395\n",
      "Procesed: 7 Number of images: 1200 Time:  4.830006837844849\n",
      "Procesed: 8 Number of images: 1200 Time:  7.160009860992432\n",
      "Procesed: 9 Number of images: 1200 Time:  5.440007448196411\n"
     ]
    }
   ],
   "source": [
    "# Prepare each set of labeled data into machine learning ready data\n",
    "# The images are 50x50, bitdepth=8, 1 channel (grayscale)\n",
    "collections=[]\n",
    "for label in labels:\n",
    "    # Get a list of all images in the subdirectory for this label (should be 1200 images)\n",
    "    imgdir = \"gestures/\" + label + \"/\"\n",
    "    imglst = [imgdir + x for x in os.listdir(imgdir)]\n",
    "    images = Images(imglst, int(label), dir='tmp' + label, config=['flatten', 'grayscale'])\n",
    "    collections.append(images)\n",
    "    print(\"Procesed: \" + label, \"Number of images:\", len(images), \"Time: \", images.time)\n",
    "    "
   ]
  },
  {
   "cell_type": "markdown",
   "metadata": {},
   "source": [
    "Let's verify the preprocessing of our image data"
   ]
  },
  {
   "cell_type": "code",
   "execution_count": 26,
   "metadata": {},
   "outputs": [
    {
     "name": "stdout",
     "output_type": "stream",
     "text": [
      "27\n",
      "<class 'image.Images'>\n",
      "1200\n"
     ]
    }
   ],
   "source": [
    "# Let's see how many batches (collections) we have (hint: should be 27)\n",
    "print(len(collections))\n",
    "\n",
    "# Let's verify that the items in the collections are an Images object\n",
    "collection = collections[3]\n",
    "print(type(collection))\n",
    "\n",
    "# For a collection, let's see how many image objects we have (hint: should be 1200)\n",
    "print(len(collection))"
   ]
  },
  {
   "cell_type": "markdown",
   "metadata": {},
   "source": [
    "Let's look at the first Image object in this collection."
   ]
  },
  {
   "cell_type": "code",
   "execution_count": 27,
   "metadata": {},
   "outputs": [
    {
     "name": "stdout",
     "output_type": "stream",
     "text": [
      "<class 'image.Image'>\n"
     ]
    }
   ],
   "source": [
    "# Let's get the first Image item and verify it is an Image object\n",
    "image = collection[0]\n",
    "print(type(image))"
   ]
  },
  {
   "cell_type": "code",
   "execution_count": 28,
   "metadata": {},
   "outputs": [
    {
     "name": "stdout",
     "output_type": "stream",
     "text": [
      "1\n",
      "jpg\n",
      "1459\n"
     ]
    }
   ],
   "source": [
    "# Let's get some basic information about the image\n",
    "print(image.name)  # the root name of the image\n",
    "print(image.type)  # the image file suffix\n",
    "print(image.size)  # the size of the image on disk"
   ]
  },
  {
   "cell_type": "code",
   "execution_count": 29,
   "metadata": {},
   "outputs": [
    {
     "name": "stdout",
     "output_type": "stream",
     "text": [
      "(50, 50)\n"
     ]
    }
   ],
   "source": [
    "# Let's now check the raw (uncompressed) unprocessed image\n",
    "print(image.raw.shape)"
   ]
  },
  {
   "cell_type": "code",
   "execution_count": 30,
   "metadata": {},
   "outputs": [
    {
     "name": "stdout",
     "output_type": "stream",
     "text": [
      "(2500,)\n"
     ]
    }
   ],
   "source": [
    "# Let's look at how the image got processed.\n",
    "print(image.shape)  # Note, that the preprocessed image was flattened into a 1D vector. It was 50x50, and now is 2500."
   ]
  },
  {
   "cell_type": "code",
   "execution_count": 31,
   "metadata": {},
   "outputs": [
    {
     "data": {
      "text/plain": [
       "-1"
      ]
     },
     "execution_count": 31,
     "metadata": {},
     "output_type": "execute_result"
    }
   ],
   "source": [
    "# Let's view the raw image\n",
    "import cv2\n",
    "cv2.imshow('image',image.raw)\n",
    "cv2.waitKey(0)"
   ]
  },
  {
   "cell_type": "markdown",
   "metadata": {},
   "source": [
    "## Let's presume that it is some later date, and we want to recall the collections from disk.\n",
    "\n",
    "We start by creating an empty Images() object. We then identify the name of the collection and execute the load() method with the collection name."
   ]
  },
  {
   "cell_type": "code",
   "execution_count": 35,
   "metadata": {},
   "outputs": [],
   "source": [
    "# Let's load up one collection\n",
    "images = Images(dir=\"tmp/\")\n",
    "images.load(\"foobar\")"
   ]
  },
  {
   "cell_type": "markdown",
   "metadata": {},
   "source": [
    "Wow, we just recalled the whole collection from disk. Let's now look at our machine learning ready data!"
   ]
  },
  {
   "cell_type": "code",
   "execution_count": 36,
   "metadata": {},
   "outputs": [
    {
     "name": "stdout",
     "output_type": "stream",
     "text": [
      "1200\n",
      "None\n",
      "None\n",
      "0\n",
      "None\n"
     ]
    }
   ],
   "source": [
    "print(len(images))\n",
    "image = images[17]\n",
    "print(image.name)\n",
    "print(image.type)\n",
    "print(image.size)\n",
    "print(image.shape)"
   ]
  },
  {
   "cell_type": "code",
   "execution_count": 37,
   "metadata": {},
   "outputs": [
    {
     "ename": "AttributeError",
     "evalue": "'NoneType' object has no attribute 'shape'",
     "output_type": "error",
     "traceback": [
      "\u001b[1;31m---------------------------------------------------------------------------\u001b[0m",
      "\u001b[1;31mAttributeError\u001b[0m                            Traceback (most recent call last)",
      "\u001b[1;32m<ipython-input-37-2c098454a75a>\u001b[0m in \u001b[0;36m<module>\u001b[1;34m()\u001b[0m\n\u001b[1;32m----> 1\u001b[1;33m \u001b[0mprint\u001b[0m\u001b[1;33m(\u001b[0m\u001b[0mimage\u001b[0m\u001b[1;33m.\u001b[0m\u001b[0mraw\u001b[0m\u001b[1;33m.\u001b[0m\u001b[0mshape\u001b[0m\u001b[1;33m)\u001b[0m\u001b[1;33m\u001b[0m\u001b[0m\n\u001b[0m",
      "\u001b[1;31mAttributeError\u001b[0m: 'NoneType' object has no attribute 'shape'"
     ]
    }
   ],
   "source": [
    "print(image.raw.shape)"
   ]
  },
  {
   "cell_type": "code",
   "execution_count": null,
   "metadata": {},
   "outputs": [],
   "source": []
  }
 ],
 "metadata": {
  "kernelspec": {
   "display_name": "Python 3",
   "language": "python",
   "name": "python3"
  },
  "language_info": {
   "codemirror_mode": {
    "name": "ipython",
    "version": 3
   },
   "file_extension": ".py",
   "mimetype": "text/x-python",
   "name": "python",
   "nbconvert_exporter": "python",
   "pygments_lexer": "ipython3",
   "version": "3.5.2"
  }
 },
 "nbformat": 4,
 "nbformat_minor": 2
}
