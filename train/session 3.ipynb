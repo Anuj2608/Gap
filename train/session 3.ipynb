{
 "cells": [
  {
   "cell_type": "markdown",
   "metadata": {},
   "source": [
    "# Gap Framework - Computer Vision\n",
    "\n",
    "In this session, we will introduce you to preprocessing image data for computer vision. Preprocessing, storage, retrieval and batch management are all handled by two classes, the Image and Images class.\n",
    "\n",
    "    Image - represents a single preprocessed image\n",
    "    Images - represents a collection (or batch) of preprocessed images"
   ]
  },
  {
   "cell_type": "code",
   "execution_count": 1,
   "metadata": {},
   "outputs": [
    {
     "name": "stdout",
     "output_type": "stream",
     "text": [
      "C:\\Users\\'\\Desktop\\Gap-ml\n"
     ]
    }
   ],
   "source": [
    "# Let's go the directory of the Gap Framework\n",
    "import os\n",
    "os.chdir(\"../\")\n",
    "!cd"
   ]
  },
  {
   "cell_type": "markdown",
   "metadata": {},
   "source": [
    "### Setup\n",
    "\n",
    "Let's start by importing the Gap <b style='color:saddlebrown'>vision</b> module"
   ]
  },
  {
   "cell_type": "code",
   "execution_count": 2,
   "metadata": {},
   "outputs": [],
   "source": [
    "# import the Gap Vision module\n",
    "from vision import Image, Images"
   ]
  },
  {
   "cell_type": "markdown",
   "metadata": {},
   "source": [
    "Let's go to a respository of images for sign language. We will use this repository for image preprocessing for computer vision."
   ]
  },
  {
   "cell_type": "code",
   "execution_count": 3,
   "metadata": {},
   "outputs": [],
   "source": [
    "os.chdir(\"../Training/AITraining/Intermediate/Machine Learning/sign-lang\")"
   ]
  },
  {
   "cell_type": "code",
   "execution_count": 4,
   "metadata": {},
   "outputs": [],
   "source": [
    "# The sign language characters (a-z) are labeled 1 .. 26, and 0 is for not a character.\n",
    "# Each of the training images are under a subdirectory of the corresponding label.\n",
    "labels = os.listdir(\"gestures\")\n",
    "    "
   ]
  },
  {
   "cell_type": "markdown",
   "metadata": {},
   "source": [
    "### Image Class\n",
    "\n",
    "The Image class supports the pre-processing of a single image into machine learning ready data. It can process JPG, PNG, TIF and GIF files. We will start by instantiating an image object for an image in the sign-lang image collection. For parameters, we will give the path to the image, and the label value (1). Labels must be mapped into integer values. For the sign-lang dataset, 1-26 is mapped to the 26 letters of the alphabet, and 0 is for a non-letter. \n",
    "\n",
    "When we instantiate the image, by default the following will happen:\n",
    "\n",
    "    1. Image is read in and decompressed, as a numpy array.\n",
    "    2. The image is processed according to the configuration parameters or defaults (e.g., resize, normalized, flatten,   \n",
    "       channel conversion)\n",
    "    3. The raw image data, processed image data, thumbnail, and metadata are stored to a HDF5 file system."
   ]
  },
  {
   "cell_type": "code",
   "execution_count": 5,
   "metadata": {},
   "outputs": [],
   "source": [
    "image = Image('gestures/1/1.jpg', 1)"
   ]
  },
  {
   "cell_type": "markdown",
   "metadata": {},
   "source": [
    "### Image Properties\n",
    "\n",
    "Let's look at some properties of the Image class.\n",
    "\n",
    "Note how the shape of the ML ready data is (50, 50, 3). We will change that in a bit."
   ]
  },
  {
   "cell_type": "code",
   "execution_count": 6,
   "metadata": {},
   "outputs": [
    {
     "name": "stdout",
     "output_type": "stream",
     "text": [
      "1\n",
      "jpg\n",
      "./\n",
      "1336\n",
      "(50, 50, 3)\n",
      "1\n",
      "0.039999961853027344\n"
     ]
    }
   ],
   "source": [
    "print( image.name )   # The root name of the image (w/o suffix)\n",
    "print( image.type )   # Type of image (e.g. jpeg)\n",
    "print( image.dir )    # The directory where the ML ready data will be stored\n",
    "print( image.size )   # The original size of the image\n",
    "print( image.shape )  # The shape of the preprocessed image (ML ready data)\n",
    "print( image.label )  # The label\n",
    "print( image.time )   # The amount of time (secs) to preprocess the image"
   ]
  },
  {
   "cell_type": "markdown",
   "metadata": {},
   "source": [
    "### Image Data\n",
    "\n",
    "Let's look at both the raw and ML ready data."
   ]
  },
  {
   "cell_type": "code",
   "execution_count": 7,
   "metadata": {},
   "outputs": [
    {
     "name": "stdout",
     "output_type": "stream",
     "text": [
      "Raw Data [[[0 0 0]\n",
      "  [0 0 0]\n",
      "  [0 0 0]\n",
      "  ...\n",
      "  [0 0 0]\n",
      "  [0 0 0]\n",
      "  [0 0 0]]\n",
      "\n",
      " [[0 0 0]\n",
      "  [0 0 0]\n",
      "  [0 0 0]\n",
      "  ...\n",
      "  [0 0 0]\n",
      "  [0 0 0]\n",
      "  [0 0 0]]\n",
      "\n",
      " [[0 0 0]\n",
      "  [0 0 0]\n",
      "  [0 0 0]\n",
      "  ...\n",
      "  [0 0 0]\n",
      "  [0 0 0]\n",
      "  [0 0 0]]\n",
      "\n",
      " ...\n",
      "\n",
      " [[0 0 0]\n",
      "  [0 0 0]\n",
      "  [0 0 0]\n",
      "  ...\n",
      "  [0 0 0]\n",
      "  [0 0 0]\n",
      "  [0 0 0]]\n",
      "\n",
      " [[0 0 0]\n",
      "  [0 0 0]\n",
      "  [0 0 0]\n",
      "  ...\n",
      "  [0 0 0]\n",
      "  [0 0 0]\n",
      "  [0 0 0]]\n",
      "\n",
      " [[0 0 0]\n",
      "  [0 0 0]\n",
      "  [0 0 0]\n",
      "  ...\n",
      "  [0 0 0]\n",
      "  [0 0 0]\n",
      "  [0 0 0]]]\n",
      "ML ready data [[[0. 0. 0.]\n",
      "  [0. 0. 0.]\n",
      "  [0. 0. 0.]\n",
      "  ...\n",
      "  [0. 0. 0.]\n",
      "  [0. 0. 0.]\n",
      "  [0. 0. 0.]]\n",
      "\n",
      " [[0. 0. 0.]\n",
      "  [0. 0. 0.]\n",
      "  [0. 0. 0.]\n",
      "  ...\n",
      "  [0. 0. 0.]\n",
      "  [0. 0. 0.]\n",
      "  [0. 0. 0.]]\n",
      "\n",
      " [[0. 0. 0.]\n",
      "  [0. 0. 0.]\n",
      "  [0. 0. 0.]\n",
      "  ...\n",
      "  [0. 0. 0.]\n",
      "  [0. 0. 0.]\n",
      "  [0. 0. 0.]]\n",
      "\n",
      " ...\n",
      "\n",
      " [[0. 0. 0.]\n",
      "  [0. 0. 0.]\n",
      "  [0. 0. 0.]\n",
      "  ...\n",
      "  [0. 0. 0.]\n",
      "  [0. 0. 0.]\n",
      "  [0. 0. 0.]]\n",
      "\n",
      " [[0. 0. 0.]\n",
      "  [0. 0. 0.]\n",
      "  [0. 0. 0.]\n",
      "  ...\n",
      "  [0. 0. 0.]\n",
      "  [0. 0. 0.]\n",
      "  [0. 0. 0.]]\n",
      "\n",
      " [[0. 0. 0.]\n",
      "  [0. 0. 0.]\n",
      "  [0. 0. 0.]\n",
      "  ...\n",
      "  [0. 0. 0.]\n",
      "  [0. 0. 0.]\n",
      "  [0. 0. 0.]]]\n"
     ]
    }
   ],
   "source": [
    "print(\"Raw Data\", image.raw)\n",
    "print(\"ML ready data\", image.data)"
   ]
  },
  {
   "cell_type": "markdown",
   "metadata": {},
   "source": [
    "By default, the number of channels is preserved (e.g., 1 for grayscale, 3 for RGB, and 4 for RGBA), and the data is normalized. On the later, the 0..255 pixel values are rescaled between 0 and 1.\n",
    "\n",
    "Let's now change the preprocessing of the image to a grayscale image and resize it to 32x32. When we print the shape, you can see the 3rd dimension (channels) is gone - indicating a grayscale image, and the size is now 32 by 32."
   ]
  },
  {
   "cell_type": "code",
   "execution_count": 8,
   "metadata": {},
   "outputs": [
    {
     "name": "stdout",
     "output_type": "stream",
     "text": [
      "(32, 32)\n"
     ]
    }
   ],
   "source": [
    "image = Image('gestures/1/1.jpg', 1, config=['grayscale', 'resize=(32,32)'])\n",
    "\n",
    "print( image.shape )"
   ]
  },
  {
   "cell_type": "markdown",
   "metadata": {},
   "source": [
    "Let's now say that the image data will be feed into a ANN (not CNN) or to a CNN with a 1D input vector. In this case, we need to feed the ML ready data as a flatten 1D vector. We can do that to. Now when we print the shape you can see its 1024 (32 x 32)."
   ]
  },
  {
   "cell_type": "code",
   "execution_count": 9,
   "metadata": {},
   "outputs": [
    {
     "name": "stdout",
     "output_type": "stream",
     "text": [
      "(1024,)\n"
     ]
    }
   ],
   "source": [
    "image = Image('gestures/1/1.jpg', 1, config=['grayscale', 'resize=(32,32)', 'flatten'])\n",
    "\n",
    "print( image.shape )"
   ]
  },
  {
   "cell_type": "markdown",
   "metadata": {},
   "source": [
    "### Image Loading\n",
    "\n",
    "When an image is preprocessed, the ML ready data, raw data and attributes are stored in an HDF5 file. We can subsequently recall (load) the image information from the HDF5 file into an image object."
   ]
  },
  {
   "cell_type": "code",
   "execution_count": 10,
   "metadata": {
    "scrolled": true
   },
   "outputs": [],
   "source": [
    "image = Image()   # Create an empty image object\n",
    "image.load('1.h5')"
   ]
  },
  {
   "cell_type": "markdown",
   "metadata": {},
   "source": [
    "Let's see if we get the same properties again."
   ]
  },
  {
   "cell_type": "code",
   "execution_count": 11,
   "metadata": {},
   "outputs": [
    {
     "name": "stdout",
     "output_type": "stream",
     "text": [
      "1\n",
      "h5\n",
      "./\n",
      "18888\n",
      "(1024,)\n",
      "1\n"
     ]
    }
   ],
   "source": [
    "print( image.name )   # The root name of the image (w/o suffix)\n",
    "print( image.type )   # Type of image (e.g. jpeg)\n",
    "print( image.dir )    # The directory where the ML ready data will be stored\n",
    "print( image.size )   # The original size of the image\n",
    "print( image.shape )  # The shape of the preprocessed image (ML ready data)\n",
    "print( image.label )  # The label"
   ]
  },
  {
   "cell_type": "markdown",
   "metadata": {},
   "source": [
    "Let's check that we get the raw and ML ready data again."
   ]
  },
  {
   "cell_type": "code",
   "execution_count": 12,
   "metadata": {},
   "outputs": [
    {
     "name": "stdout",
     "output_type": "stream",
     "text": [
      "Raw Data [[0 0 0 ... 0 0 0]\n",
      " [0 0 0 ... 0 0 0]\n",
      " [0 0 0 ... 0 0 0]\n",
      " ...\n",
      " [0 0 0 ... 0 0 0]\n",
      " [0 0 0 ... 0 0 0]\n",
      " [0 0 0 ... 0 0 0]]\n",
      "ML ready data [0. 0. 0. ... 0. 0. 0.]\n"
     ]
    }
   ],
   "source": [
    "print(\"Raw Data\", image.raw)\n",
    "print(\"ML ready data\", image.data)"
   ]
  },
  {
   "cell_type": "markdown",
   "metadata": {},
   "source": [
    "### Thumbnails\n",
    "\n",
    "We can also generate a store a thumbnail of the original image with the config parameter thumb. In the example below, we create a thumbnail with size 16x16"
   ]
  },
  {
   "cell_type": "code",
   "execution_count": 13,
   "metadata": {},
   "outputs": [
    {
     "name": "stdout",
     "output_type": "stream",
     "text": [
      "[[  0   0   9 193 177   2   1   1   1   1   0   0   0   0   0   0]\n",
      " [  0   0  32 254 243  67  21   5   1   1   0   0   0   0   0   0]\n",
      " [  0   0  97 254 254 254 255 207 184  60  11   0   0   0   0   0]\n",
      " [  0   0 112 255 255 255 255 255 254 253 222 203 127   1   1   0]\n",
      " [  0   0 112 255 255 255 255 255 254 254 254 254 239  22   1   0]\n",
      " [  0   0  97 254 254 255 255 255 255 255 255 255 255  78   1   0]\n",
      " [  0   0  32 254 254 255 255 255 255 255 255 255 255 112   1   0]\n",
      " [  0   0  16 230 254 255 255 255 255 255 255 255 255 112   1   0]\n",
      " [  0   0   0 145 254 255 255 255 255 255 255 255 255  63   1   0]\n",
      " [  0   0   0  18 229 255 255 255 255 255 255 255 255  31   1   0]\n",
      " [  0   0   0   1 138 254 254 255 255 255 254 254 240  23   0   0]\n",
      " [  0   0   0   1  24 238 254 254 255 255 254 254 204   1   1   0]\n",
      " [  0   0   0   0   1 134 254 255 255 255 254 254 142   0   1   0]\n",
      " [  0   0   0   0   0  51 250 255 255 255 255 254  91   0   0   0]\n",
      " [  0   0   0   0   0   2 234 254 255 255 254 214   6   0   0   0]\n",
      " [  0   0   0   0   0   0 182 255 255 255 255 160   1   0   0   0]]\n",
      "Thumb Shape (16, 16)\n"
     ]
    }
   ],
   "source": [
    "image = Image('gestures/1/1.jpg', 1, config=['grayscale', 'thumb=(16,16)'])\n",
    "print(image.thumb)\n",
    "print(\"Thumb Shape\", image.thumb.shape)"
   ]
  },
  {
   "cell_type": "markdown",
   "metadata": {},
   "source": [
    "### Aysnchronous Preprocess\n",
    "\n",
    "The image data can also be preprocessed asynchronously. In this mode, the parameter ehandler is set to an event handler (function) that will be called when the image is done being preprocessed. The image object is passed as a parameter to the event handler."
   ]
  },
  {
   "cell_type": "code",
   "execution_count": 14,
   "metadata": {},
   "outputs": [
    {
     "name": "stdout",
     "output_type": "stream",
     "text": [
      "DONE 1\n"
     ]
    }
   ],
   "source": [
    "def func(image):\n",
    "    print(\"DONE\", image.name)\n",
    "\n",
    "image = Image('gestures/1/1.jpg', 1, ehandler=func)"
   ]
  },
  {
   "cell_type": "code",
   "execution_count": 15,
   "metadata": {},
   "outputs": [],
   "source": [
    "# Let's cleanup and remove the HDF5 file\n",
    "os.remove(\"1.h5\")"
   ]
  },
  {
   "cell_type": "markdown",
   "metadata": {},
   "source": [
    "## Images Class\n",
    "\n",
    "The Images class supports the pre-processing of a collectio of images into machine learning ready data. For required parameters, the Image class takes a list of images and either a list of corresponding labels, or a single value, when all the images share the same label.\n",
    "\n",
    "Let's start by creating an Images object for all the images under the subfolder 1 (letter A)."
   ]
  },
  {
   "cell_type": "code",
   "execution_count": 16,
   "metadata": {},
   "outputs": [
    {
     "data": {
      "text/plain": [
       "1200"
      ]
     },
     "execution_count": 16,
     "metadata": {},
     "output_type": "execute_result"
    }
   ],
   "source": [
    "# Let's get a list of all the images in the subfolder for the label 1 (letter A)\n",
    "imgdir = \"gestures/1/\"\n",
    "imglst = [imgdir + x for x in os.listdir(imgdir)]\n",
    "\n",
    "# There should be 1200 images\n",
    "len(imglst)"
   ]
  },
  {
   "cell_type": "markdown",
   "metadata": {},
   "source": [
    "Let's now create an Images object and preprocess all the above images.\n",
    "    1. Process all 1200 images in the subfolder 1\n",
    "    2. Set the label to 1\n",
    "    3. Convert them to grayscale.\n",
    "    \n",
    "By default, the image data will be stored in an HDF5 file with the name 'collection.<label>.h5'."
   ]
  },
  {
   "cell_type": "code",
   "execution_count": 17,
   "metadata": {},
   "outputs": [
    {
     "data": {
      "text/plain": [
       "True"
      ]
     },
     "execution_count": 17,
     "metadata": {},
     "output_type": "execute_result"
    }
   ],
   "source": [
    "# Preprocess the set of images\n",
    "images = Images(imglst, 1, config=['grayscale'])\n",
    "\n",
    "# Check that the image data is stored in HDF5 file.\n",
    "os.path.exists(\"collection.1.h5\")"
   ]
  },
  {
   "cell_type": "markdown",
   "metadata": {},
   "source": [
    "### Images Properties\n",
    "\n",
    "Next, we will show some properties of the Images object.\n",
    "\n",
    "Note, how fast it was to preproess the set of 1200 images into machine ready data and store them in an HDF5 file."
   ]
  },
  {
   "cell_type": "code",
   "execution_count": 18,
   "metadata": {},
   "outputs": [
    {
     "name": "stdout",
     "output_type": "stream",
     "text": [
      "collection.1\n",
      "./\n",
      "7.630010604858398\n"
     ]
    }
   ],
   "source": [
    "print( images.name )   # The name of the collection of images\n",
    "print( image.dir )     # where the ML ready data is stored\n",
    "print( images.time )   # The length of time to preprocess the collection of images"
   ]
  },
  {
   "cell_type": "code",
   "execution_count": 19,
   "metadata": {},
   "outputs": [
    {
     "name": "stdout",
     "output_type": "stream",
     "text": [
      "LABELS [1, 1, 1, 1, 1, 1, 1, 1, 1, 1, 1, 1, 1, 1, 1, 1, 1, 1, 1, 1, 1, 1, 1, 1, 1, 1, 1, 1, 1, 1, 1, 1, 1, 1, 1, 1, 1, 1, 1, 1, 1, 1, 1, 1, 1, 1, 1, 1, 1, 1, 1, 1, 1, 1, 1, 1, 1, 1, 1, 1, 1, 1, 1, 1, 1, 1, 1, 1, 1, 1, 1, 1, 1, 1, 1, 1, 1, 1, 1, 1, 1, 1, 1, 1, 1, 1, 1, 1, 1, 1, 1, 1, 1, 1, 1, 1, 1, 1, 1, 1, 1, 1, 1, 1, 1, 1, 1, 1, 1, 1, 1, 1, 1, 1, 1, 1, 1, 1, 1, 1, 1, 1, 1, 1, 1, 1, 1, 1, 1, 1, 1, 1, 1, 1, 1, 1, 1, 1, 1, 1, 1, 1, 1, 1, 1, 1, 1, 1, 1, 1, 1, 1, 1, 1, 1, 1, 1, 1, 1, 1, 1, 1, 1, 1, 1, 1, 1, 1, 1, 1, 1, 1, 1, 1, 1, 1, 1, 1, 1, 1, 1, 1, 1, 1, 1, 1, 1, 1, 1, 1, 1, 1, 1, 1, 1, 1, 1, 1, 1, 1, 1, 1, 1, 1, 1, 1, 1, 1, 1, 1, 1, 1, 1, 1, 1, 1, 1, 1, 1, 1, 1, 1, 1, 1, 1, 1, 1, 1, 1, 1, 1, 1, 1, 1, 1, 1, 1, 1, 1, 1, 1, 1, 1, 1, 1, 1, 1, 1, 1, 1, 1, 1, 1, 1, 1, 1, 1, 1, 1, 1, 1, 1, 1, 1, 1, 1, 1, 1, 1, 1, 1, 1, 1, 1, 1, 1, 1, 1, 1, 1, 1, 1, 1, 1, 1, 1, 1, 1, 1, 1, 1, 1, 1, 1, 1, 1, 1, 1, 1, 1, 1, 1, 1, 1, 1, 1, 1, 1, 1, 1, 1, 1, 1, 1, 1, 1, 1, 1, 1, 1, 1, 1, 1, 1, 1, 1, 1, 1, 1, 1, 1, 1, 1, 1, 1, 1, 1, 1, 1, 1, 1, 1, 1, 1, 1, 1, 1, 1, 1, 1, 1, 1, 1, 1, 1, 1, 1, 1, 1, 1, 1, 1, 1, 1, 1, 1, 1, 1, 1, 1, 1, 1, 1, 1, 1, 1, 1, 1, 1, 1, 1, 1, 1, 1, 1, 1, 1, 1, 1, 1, 1, 1, 1, 1, 1, 1, 1, 1, 1, 1, 1, 1, 1, 1, 1, 1, 1, 1, 1, 1, 1, 1, 1, 1, 1, 1, 1, 1, 1, 1, 1, 1, 1, 1, 1, 1, 1, 1, 1, 1, 1, 1, 1, 1, 1, 1, 1, 1, 1, 1, 1, 1, 1, 1, 1, 1, 1, 1, 1, 1, 1, 1, 1, 1, 1, 1, 1, 1, 1, 1, 1, 1, 1, 1, 1, 1, 1, 1, 1, 1, 1, 1, 1, 1, 1, 1, 1, 1, 1, 1, 1, 1, 1, 1, 1, 1, 1, 1, 1, 1, 1, 1, 1, 1, 1, 1, 1, 1, 1, 1, 1, 1, 1, 1, 1, 1, 1, 1, 1, 1, 1, 1, 1, 1, 1, 1, 1, 1, 1, 1, 1, 1, 1, 1, 1, 1, 1, 1, 1, 1, 1, 1, 1, 1, 1, 1, 1, 1, 1, 1, 1, 1, 1, 1, 1, 1, 1, 1, 1, 1, 1, 1, 1, 1, 1, 1, 1, 1, 1, 1, 1, 1, 1, 1, 1, 1, 1, 1, 1, 1, 1, 1, 1, 1, 1, 1, 1, 1, 1, 1, 1, 1, 1, 1, 1, 1, 1, 1, 1, 1, 1, 1, 1, 1, 1, 1, 1, 1, 1, 1, 1, 1, 1, 1, 1, 1, 1, 1, 1, 1, 1, 1, 1, 1, 1, 1, 1, 1, 1, 1, 1, 1, 1, 1, 1, 1, 1, 1, 1, 1, 1, 1, 1, 1, 1, 1, 1, 1, 1, 1, 1, 1, 1, 1, 1, 1, 1, 1, 1, 1, 1, 1, 1, 1, 1, 1, 1, 1, 1, 1, 1, 1, 1, 1, 1, 1, 1, 1, 1, 1, 1, 1, 1, 1, 1, 1, 1, 1, 1, 1, 1, 1, 1, 1, 1, 1, 1, 1, 1, 1, 1, 1, 1, 1, 1, 1, 1, 1, 1, 1, 1, 1, 1, 1, 1, 1, 1, 1, 1, 1, 1, 1, 1, 1, 1, 1, 1, 1, 1, 1, 1, 1, 1, 1, 1, 1, 1, 1, 1, 1, 1, 1, 1, 1, 1, 1, 1, 1, 1, 1, 1, 1, 1, 1, 1, 1, 1, 1, 1, 1, 1, 1, 1, 1, 1, 1, 1, 1, 1, 1, 1, 1, 1, 1, 1, 1, 1, 1, 1, 1, 1, 1, 1, 1, 1, 1, 1, 1, 1, 1, 1, 1, 1, 1, 1, 1, 1, 1, 1, 1, 1, 1, 1, 1, 1, 1, 1, 1, 1, 1, 1, 1, 1, 1, 1, 1, 1, 1, 1, 1, 1, 1, 1, 1, 1, 1, 1, 1, 1, 1, 1, 1, 1, 1, 1, 1, 1, 1, 1, 1, 1, 1, 1, 1, 1, 1, 1, 1, 1, 1, 1, 1, 1, 1, 1, 1, 1, 1, 1, 1, 1, 1, 1, 1, 1, 1, 1, 1, 1, 1, 1, 1, 1, 1, 1, 1, 1, 1, 1, 1, 1, 1, 1, 1, 1, 1, 1, 1, 1, 1, 1, 1, 1, 1, 1, 1, 1, 1, 1, 1, 1, 1, 1, 1, 1, 1, 1, 1, 1, 1, 1, 1, 1, 1, 1, 1, 1, 1, 1, 1, 1, 1, 1, 1, 1, 1, 1, 1, 1, 1, 1, 1, 1, 1, 1, 1, 1, 1, 1, 1, 1, 1, 1, 1, 1, 1, 1, 1, 1, 1, 1, 1, 1, 1, 1, 1, 1, 1, 1, 1, 1, 1, 1, 1, 1, 1, 1, 1, 1, 1, 1, 1, 1, 1, 1, 1, 1, 1, 1, 1, 1, 1, 1, 1, 1, 1, 1, 1, 1, 1, 1, 1, 1, 1, 1, 1, 1, 1, 1, 1, 1, 1, 1, 1, 1, 1, 1, 1, 1, 1, 1, 1, 1, 1, 1, 1, 1, 1, 1, 1, 1, 1, 1, 1, 1, 1, 1, 1, 1, 1, 1, 1, 1, 1, 1, 1, 1, 1, 1, 1, 1, 1, 1, 1, 1, 1, 1, 1, 1, 1, 1, 1, 1, 1, 1, 1, 1, 1, 1, 1, 1, 1, 1, 1, 1, 1, 1, 1, 1, 1, 1, 1, 1, 1, 1, 1, 1, 1, 1, 1, 1, 1, 1, 1, 1, 1, 1, 1, 1, 1, 1, 1, 1, 1, 1, 1, 1, 1, 1, 1, 1, 1, 1, 1, 1, 1, 1, 1, 1, 1, 1, 1, 1, 1, 1, 1, 1, 1, 1, 1, 1, 1, 1, 1, 1, 1, 1, 1, 1, 1, 1, 1, 1, 1, 1, 1, 1, 1, 1, 1, 1, 1, 1, 1, 1, 1, 1, 1, 1, 1, 1, 1, 1, 1, 1, 1, 1, 1, 1, 1, 1, 1, 1, 1, 1, 1, 1, 1, 1, 1, 1, 1, 1, 1, 1, 1, 1, 1, 1, 1, 1, 1, 1, 1, 1, 1, 1, 1, 1, 1, 1, 1, 1, 1, 1, 1, 1, 1, 1, 1, 1, 1, 1, 1, 1, 1, 1, 1, 1, 1]\n"
     ]
    }
   ],
   "source": [
    "# Let's print the vector of labels\n",
    "print(\"LABELS\", images.label)"
   ]
  },
  {
   "cell_type": "markdown",
   "metadata": {},
   "source": [
    "The Image objects for each corresponding image can be accessed using the [] index operator. Let's get the 33rd one."
   ]
  },
  {
   "cell_type": "code",
   "execution_count": 22,
   "metadata": {},
   "outputs": [
    {
     "name": "stdout",
     "output_type": "stream",
     "text": [
      "<class 'vision.Image'>\n",
      "Name 1027\n"
     ]
    }
   ],
   "source": [
    "# The third Image object\n",
    "image = images[32]\n",
    "print(type(image))\n",
    "print(\"Name\", image.name)"
   ]
  },
  {
   "cell_type": "markdown",
   "metadata": {},
   "source": [
    "### Aysnchronous Preprocess\n",
    "\n",
    "A collection of images can also be preprocessed asynchronously. In this mode, the parameter ehandler is set to an event handler (function) that will be called when the collection of images is done being preprocessed. The images object is passed as a parameter to the event handler."
   ]
  },
  {
   "cell_type": "code",
   "execution_count": 23,
   "metadata": {},
   "outputs": [],
   "source": [
    "def func(images):\n",
    "    print(\"DONE\", images.name, \"TIME\", images.time)\n",
    "    \n",
    "images = Images(imglst, 1, config=['grayscale'], ehandler=func)"
   ]
  },
  {
   "cell_type": "markdown",
   "metadata": {},
   "source": [
    "### Splitting a Collection into Training and Test Data\n",
    "\n",
    "The split property will split the image objects into training and test data. The list of training objects is then randomized. When used as a setter, the property takes either 1 or 2 arguments. The first argument is the percentage that is test data, and the optional second argument is the seed for the random shuffle."
   ]
  },
  {
   "cell_type": "code",
   "execution_count": 24,
   "metadata": {},
   "outputs": [
    {
     "name": "stdout",
     "output_type": "stream",
     "text": [
      "632\n",
      "TRAIN INDICES [394, 776, 430, 41, 265, 523, 497, 414, 310, 488, 366, 597, 223, 516, 142, 288, 143, 773, 97, 633, 256, 545, 722, 616, 150, 317, 101, 747, 75, 700, 338, 483, 573, 103, 362, 444, 323, 625, 655, 209, 565, 781, 453, 533, 266, 63, 561, 14, 95, 736, 408, 727, 684, 640, 1, 626, 505, 341, 249, 333, 720, 64, 195, 581, 227, 244, 145, 556, 458, 93, 82, 327, 520, 501, 111, 308, 564, 298, 127, 560, 340, 553, 208, 617, 711, 601, 294, 455, 721, 610, 790, 324, 589, 247, 297, 188, 193, 191, 33, 627, 672, 746, 487, 70, 91, 133, 153, 39, 730, 709, 400, 537, 282, 534, 241, 220, 603, 429, 593, 281, 461, 504, 656, 365, 84, 332, 691, 118, 498, 705, 645, 343, 194, 248, 16, 277, 119, 225, 380, 174, 710, 436, 745, 757, 149, 224, 46, 587, 547, 767, 762, 27, 712, 694, 620, 698, 122, 680, 702, 379, 663, 37, 636, 22, 199, 189, 126, 490, 215, 62, 23, 557, 435, 647, 689, 71, 226, 73, 715, 358, 446, 184, 621, 515, 478, 40, 707, 771, 204, 641, 367, 481, 583, 173, 708, 59, 162, 165, 350, 542, 770, 120, 452, 179, 13, 482, 419, 582, 718, 318, 667, 397, 590, 157, 574, 12, 468, 80, 659, 644, 619, 287, 138, 245, 493, 360, 704, 600, 135, 765, 579, 424, 682, 741, 196, 342, 163, 567, 228, 768, 387, 559, 32, 411, 428, 47, 169, 456, 65, 786, 161, 457, 662, 0, 683, 506, 731, 319, 606, 51, 425, 192, 85, 685, 15, 642, 427, 754, 3, 218, 743, 2, 100, 728, 121, 203, 309, 286, 186, 102, 243, 437, 472, 607, 321, 787, 11, 140, 467, 231, 409, 405, 595, 441, 131, 68, 334, 661, 418, 677, 330, 177, 58, 701, 79, 789, 618, 9, 21, 20, 105, 348, 132, 285, 540, 187, 290, 465, 434, 585, 433, 383, 359, 311, 335, 253, 364, 329, 462, 234, 719, 222, 190, 688, 275, 686, 106, 529, 300, 646, 4, 687, 77, 568, 170, 172, 404, 695, 563, 769, 779, 399, 744, 18, 471, 447, 83, 76, 713, 148, 609, 202, 280, 66, 766, 749, 725, 374, 634, 24, 577, 703, 267, 373, 36, 154, 206, 168, 738, 212, 55, 50, 569, 246, 242, 445, 175, 648, 681, 538, 611, 254, 521, 19, 415, 171, 376, 351, 486, 528, 320, 289, 748, 460, 44, 692, 43, 764, 113, 31, 197, 450, 500, 201, 284, 541, 431, 229, 250, 299, 580, 347, 716, 216, 42, 443, 112, 527, 371, 391, 675, 98, 183, 530, 548, 598, 269, 717, 346, 604, 60, 439, 507, 496, 454, 328, 649, 110, 763, 74, 53, 469, 670, 637, 185, 279, 448, 650, 305, 732, 737, 775, 207, 326, 442, 566, 473, 690, 255, 322, 393, 752, 312, 464, 631, 651, 594, 164, 509, 268, 623, 369, 612, 392, 658, 432, 426, 240, 385, 384, 264, 599, 302, 115, 524, 756, 412, 7, 417, 544, 558, 470, 235, 551, 258, 517, 271, 257, 17, 571, 375, 536, 398, 480, 423, 274, 213, 407, 198, 654, 10, 679, 632, 396, 259, 130, 539, 665, 252, 134, 155, 596, 723, 513, 381, 508, 313, 239, 356, 61, 613, 512, 525, 361, 355, 676, 759, 123, 352, 416, 125, 726, 221, 492, 674, 295, 499, 178, 38, 345, 90, 555, 549, 156, 761, 576, 117, 575, 25, 635, 735, 232, 5, 8, 714, 158, 263, 476, 474, 26, 643, 503, 166, 88, 49, 653, 200, 272, 750, 303, 28, 526, 699, 210, 614, 420, 543, 86, 325, 578, 315, 182, 159, 782, 262, 99, 475, 740, 693, 532, 48, 552, 518, 382, 742, 180, 116, 584, 306, 706, 669, 270, 124, 591, 6, 363, 724, 146, 410, 357, 628, 128]\n"
     ]
    }
   ],
   "source": [
    "# Split the image objects into 80% training and 20% test\n",
    "images.split = 0.20\n",
    "\n",
    "# Let's verify that the training set is 80% (960 of 1200) by printing the internal variable _train\n",
    "print(len(images._train))\n",
    "\n",
    "# Let's now print the randomized list of image object indices\n",
    "print(\"TRAIN INDICES\", images._train)"
   ]
  },
  {
   "cell_type": "markdown",
   "metadata": {},
   "source": [
    "Let's now add the optional parameter for a random seed."
   ]
  },
  {
   "cell_type": "code",
   "execution_count": 25,
   "metadata": {},
   "outputs": [
    {
     "name": "stdout",
     "output_type": "stream",
     "text": [
      "DONE collection.1 TIME 2.8400039672851562\n",
      "TRAIN INDICES [228, 51, 563, 501, 457, 285, 209, 1116, 178, 864, 65, 61, 191, 447, 476, 1034, 54, 1149, 407, 1192, 859, 451, 919, 569, 13, 326, 865, 696, 1176, 318, 440, 689, 1193, 189, 778, 198, 735, 704, 541, 88, 940, 1098, 255, 775, 161, 1130, 600, 740, 393, 142, 93, 466, 592, 163, 1185, 206, 1165, 1171, 928, 747, 333, 758, 727, 429, 546, 146, 350, 1093, 1196, 334, 946, 777, 552, 449, 664, 114, 469, 1189, 646, 821, 548, 135, 432, 644, 435, 1022, 810, 939, 292, 542, 1194, 505, 1103, 538, 877, 817, 741, 1126, 283, 1043, 1010, 186, 96, 224, 313, 327, 1190, 130, 788, 781, 958, 1083, 514, 23, 234, 1135, 1172, 1199, 601, 890, 323, 929, 6, 539, 1025, 365, 1039, 217, 611, 1073, 1181, 1095, 765, 330, 1, 663, 1000, 39, 229, 743, 629, 490, 118, 493, 1155, 175, 995, 141, 257, 262, 973, 338, 1110, 866, 433, 411, 638, 1104, 764, 897, 924, 247, 507, 460, 131, 692, 43, 471, 1178, 14, 145, 120, 468, 138, 64, 676, 1029, 526, 243, 1109, 685, 497, 219, 1127, 1118, 1152, 957, 903, 584, 590, 484, 248, 803, 1009, 826, 416, 194, 1097, 99, 674, 441, 362, 1045, 420, 478, 884, 746, 55, 1168, 669, 661, 100, 62, 412, 745, 347, 819, 882, 111, 254, 196, 1003, 549, 459, 143, 1117, 187, 1020, 473, 1157, 895, 945, 77, 453, 827, 982, 876, 1197, 988, 1198, 667, 553, 856, 15, 95, 948, 771, 869, 242, 170, 1004, 1018, 492, 218, 885, 410, 1070, 60, 168, 388, 2, 399, 271, 802, 1007, 465, 1111, 997, 713, 748, 936, 1142, 677, 1163, 498, 158, 978, 303, 222, 59, 593, 753, 555, 987, 1067, 321, 58, 960, 598, 488, 1087, 873, 543, 1055, 913, 520, 82, 871, 190, 70, 609, 69, 691, 964, 240, 413, 122, 583, 252, 1147, 608, 40, 634, 83, 1136, 673, 597, 578, 535, 1079, 267, 1167, 1019, 733, 914, 244, 937, 405, 134, 687, 660, 307, 1027, 880, 769, 74, 9, 1123, 636, 576, 102, 75, 550, 1129, 518, 908, 1015, 357, 900, 250, 378, 291, 906, 448, 556, 720, 309, 626, 1005, 990, 1161, 8, 683, 836, 567, 306, 679, 106, 137, 270, 1057, 109, 760, 566, 159, 278, 288, 619, 215, 734, 351, 208, 703, 649, 830, 517, 500, 1051, 52, 94, 816, 932, 1101, 45, 3, 341, 789, 133, 652, 268, 165, 759, 452, 564, 722, 437, 574, 863, 1124, 967, 707, 152, 558, 36, 849, 596, 565, 151, 1169, 1092, 42, 315, 373, 888, 366, 1120, 698, 970, 682, 105, 998, 573, 949, 635, 943, 951, 166, 181, 422, 25, 183, 754, 340, 421, 1105, 752, 980, 273, 1146, 718, 110, 391, 1062, 481, 227, 204, 1032, 358, 312, 233, 1082, 24, 675, 197, 408, 336, 972, 71, 963, 359, 656, 521, 409, 695, 977, 339, 28, 829, 879, 182, 594, 854, 1140, 981, 610, 444, 353, 875, 446, 620, 523, 795, 394, 1099, 923, 260, 806, 711, 1065, 532, 551, 686, 201, 372, 999, 732, 680, 1048, 1100, 712, 833, 127, 868, 519, 316, 953, 418, 1154, 986, 302, 835, 780, 979, 430, 1159, 1191, 630, 582, 308, 415, 561, 0, 311, 293, 774, 1090, 1177, 621, 329, 1145, 797, 659, 1013, 709, 1006, 173, 86, 290, 527, 648, 887, 343, 955, 969, 317, 230, 203, 150, 965, 47, 850, 486, 625, 1132, 1148, 424, 589, 199, 1151, 506, 1137, 249, 782, 5, 828, 1115, 1096, 180, 530, 475, 912, 570, 772, 124, 467, 136, 710, 907, 572, 899, 324, 966, 516, 436, 840, 456, 162, 1040, 1036, 265, 253, 807, 533, 496, 874, 281, 450, 79, 933, 1121, 824, 650, 1094, 1089, 1012, 1052, 154, 236, 392, 156, 1017, 1122, 809, 417, 1184, 917, 477, 425, 63, 211, 1024, 398, 20, 389, 910, 1077, 360, 305, 938, 968, 699, 225, 499, 623, 279, 702, 954, 29, 568, 344, 414, 169, 1053, 678, 27, 403, 545, 85, 438, 1026, 472, 1158, 822, 266, 737, 335, 216, 934, 684, 345, 881, 284, 431, 258, 886, 993, 19, 53, 742, 1061, 851, 41, 31, 599, 744, 991, 580, 595, 129, 1041, 342, 905, 823, 485, 716, 238, 728, 1035, 581, 188, 1047, 310, 925, 1056, 382, 367, 508, 559, 419, 525, 825, 992, 296, 1175, 613, 489, 294, 346, 464, 192, 643, 1156, 101, 38, 922, 931, 1071, 690, 616, 811, 356, 395, 892, 624, 1133, 870, 681, 1188, 1069, 289, 400, 21, 177, 272, 579, 575, 1166, 35, 259, 331, 174, 796, 434, 665, 756, 639, 1183, 221, 185, 325, 577, 235, 1173, 78, 921, 90, 375, 721, 1139, 540, 1143, 894, 275, 396, 1038, 504, 223, 761, 374, 994, 831, 799, 125, 44, 1150, 1180, 1060, 384, 237, 848, 1107, 509, 705, 172, 1030, 607, 763, 1182, 628, 108, 762, 132, 1102, 975, 562, 730, 1011, 528, 842, 264, 97, 1033, 123, 368, 818, 714, 1131, 387, 474, 1021, 1066, 364, 251, 904, 838, 640, 642, 113, 207, 354, 428, 513, 724, 297, 813, 510, 911, 750, 176, 1072, 719, 1119, 622, 232, 1141, 386, 128, 708, 462, 98, 847, 983, 274, 1113, 700, 749, 971, 631, 301, 800, 867, 144, 537, 1001, 627, 116, 184, 91, 615, 7, 1138, 1075, 140, 1086, 612, 363, 149, 328, 377, 470, 846, 666, 1023, 706, 245, 787, 397, 482, 26, 511, 512, 784, 33, 205, 1076, 37, 295, 1125, 790, 76, 1037, 155, 529, 688, 942, 731, 213, 115, 974, 461, 725, 226, 1091, 455, 370, 30, 50, 832, 976, 853, 855, 80, 893, 1160, 952, 633, 701, 878, 1081, 755, 1046, 16, 352, 147, 454, 862, 786, 119, 280, 768, 962, 671, 591, 300, 614, 618, 263, 18, 956, 779, 202, 606, 287, 1187, 918, 645, 839, 73, 112, 814]\n"
     ]
    }
   ],
   "source": [
    "# Split the image objects into 80% training and 20% test\n",
    "images.split = 0.20, 42\n",
    "\n",
    "# Let's now print the randomized list of image object indices\n",
    "print(\"TRAIN INDICES\", images._train)"
   ]
  },
  {
   "cell_type": "markdown",
   "metadata": {},
   "source": [
    "### Batch Feeding (Batch Gradient Descent)\n",
    "\n",
    "There are three ways to use the Images object to feed a neural network. In batch mode, the entire training set can be ran through the neural network as a single pass, prior to backward probagation and updating the weights using gradient descent. This is known as 'batch gradient descent'.\n",
    "\n",
    "When the split property is used as a getter, it returns the image data and corresponding labels for the training and test set similar to using sci-learn's train_test_split() function."
   ]
  },
  {
   "cell_type": "code",
   "execution_count": 26,
   "metadata": {},
   "outputs": [],
   "source": [
    "# Set the percentage and seed, and split the data\n",
    "images.split = 0.20, 42\n",
    "\n",
    "# Get the training, test sets and corresponding labels\n",
    "x_train, x_test, y_train, y_test = images.split"
   ]
  },
  {
   "cell_type": "markdown",
   "metadata": {},
   "source": [
    "Let's verify and print the len of the train, test and corresponding labels."
   ]
  },
  {
   "cell_type": "code",
   "execution_count": 27,
   "metadata": {},
   "outputs": [
    {
     "name": "stdout",
     "output_type": "stream",
     "text": [
      "x_train 960\n",
      "y_train 960\n",
      "x_test 240\n",
      "y_test 240\n"
     ]
    }
   ],
   "source": [
    "print(\"x_train\", len(x_train))\n",
    "print(\"y_train\", len(y_train))\n",
    "print(\"x_test\", len(x_test))\n",
    "print(\"y_test\", len(y_test))"
   ]
  },
  {
   "cell_type": "markdown",
   "metadata": {},
   "source": [
    "Let's verify the contents that the elements are what we expect."
   ]
  },
  {
   "cell_type": "code",
   "execution_count": 28,
   "metadata": {},
   "outputs": [
    {
     "name": "stdout",
     "output_type": "stream",
     "text": [
      "<class 'numpy.ndarray'>\n",
      "(50, 50)\n"
     ]
    }
   ],
   "source": [
    "# Each element in x_train list should be a numpy array\n",
    "print(type(x_train[0]))\n",
    "# Each element should be in the shape 50 x 50 pixels\n",
    "print(x_train[0].shape)"
   ]
  },
  {
   "cell_type": "code",
   "execution_count": 29,
   "metadata": {},
   "outputs": [
    {
     "name": "stdout",
     "output_type": "stream",
     "text": [
      "<class 'int'>\n"
     ]
    }
   ],
   "source": [
    "# Each elment in y_train should be the label (integer)\n",
    "print(type(y_train[0]))"
   ]
  },
  {
   "cell_type": "markdown",
   "metadata": {},
   "source": [
    "### Next Iterating (Stocastic Gradient Descent)\n",
    "\n",
    "Another way of feeding a neural network is to feed one image at a time and do backward probagation, using gradient descent, one each image passed through. This is known as stocastic gradient descent.\n",
    "\n",
    "The next() operator supports iterating through the training list one image object at a time. Once all the entire training set has been iterated through, it is reset and the training set is randomly re-shuffled for the next epoch."
   ]
  },
  {
   "cell_type": "code",
   "execution_count": 30,
   "metadata": {},
   "outputs": [
    {
     "name": "stdout",
     "output_type": "stream",
     "text": [
      "<class 'numpy.ndarray'> 1\n",
      "<class 'numpy.ndarray'> 1\n",
      "<class 'numpy.ndarray'> 1\n",
      "<class 'numpy.ndarray'> 1\n",
      "<class 'numpy.ndarray'> 1\n",
      "<class 'numpy.ndarray'> 1\n",
      "<class 'numpy.ndarray'> 1\n",
      "<class 'numpy.ndarray'> 1\n",
      "<class 'numpy.ndarray'> 1\n",
      "<class 'numpy.ndarray'> 1\n",
      "<class 'numpy.ndarray'> 1\n",
      "<class 'numpy.ndarray'> 1\n",
      "<class 'numpy.ndarray'> 1\n",
      "<class 'numpy.ndarray'> 1\n",
      "<class 'numpy.ndarray'> 1\n",
      "<class 'numpy.ndarray'> 1\n",
      "<class 'numpy.ndarray'> 1\n",
      "<class 'numpy.ndarray'> 1\n",
      "<class 'numpy.ndarray'> 1\n",
      "<class 'numpy.ndarray'> 1\n",
      "<class 'numpy.ndarray'> 1\n",
      "<class 'numpy.ndarray'> 1\n",
      "<class 'numpy.ndarray'> 1\n",
      "<class 'numpy.ndarray'> 1\n",
      "<class 'numpy.ndarray'> 1\n",
      "<class 'numpy.ndarray'> 1\n",
      "<class 'numpy.ndarray'> 1\n",
      "<class 'numpy.ndarray'> 1\n",
      "<class 'numpy.ndarray'> 1\n",
      "<class 'numpy.ndarray'> 1\n",
      "<class 'numpy.ndarray'> 1\n",
      "<class 'numpy.ndarray'> 1\n",
      "<class 'numpy.ndarray'> 1\n",
      "<class 'numpy.ndarray'> 1\n",
      "<class 'numpy.ndarray'> 1\n",
      "<class 'numpy.ndarray'> 1\n",
      "<class 'numpy.ndarray'> 1\n",
      "<class 'numpy.ndarray'> 1\n",
      "<class 'numpy.ndarray'> 1\n",
      "<class 'numpy.ndarray'> 1\n",
      "<class 'numpy.ndarray'> 1\n",
      "<class 'numpy.ndarray'> 1\n",
      "<class 'numpy.ndarray'> 1\n",
      "<class 'numpy.ndarray'> 1\n",
      "<class 'numpy.ndarray'> 1\n",
      "<class 'numpy.ndarray'> 1\n",
      "<class 'numpy.ndarray'> 1\n",
      "<class 'numpy.ndarray'> 1\n",
      "<class 'numpy.ndarray'> 1\n",
      "<class 'numpy.ndarray'> 1\n",
      "<class 'numpy.ndarray'> 1\n",
      "<class 'numpy.ndarray'> 1\n",
      "<class 'numpy.ndarray'> 1\n",
      "<class 'numpy.ndarray'> 1\n",
      "<class 'numpy.ndarray'> 1\n",
      "<class 'numpy.ndarray'> 1\n",
      "<class 'numpy.ndarray'> 1\n",
      "<class 'numpy.ndarray'> 1\n",
      "<class 'numpy.ndarray'> 1\n",
      "<class 'numpy.ndarray'> 1\n",
      "<class 'numpy.ndarray'> 1\n",
      "<class 'numpy.ndarray'> 1\n",
      "<class 'numpy.ndarray'> 1\n",
      "<class 'numpy.ndarray'> 1\n",
      "<class 'numpy.ndarray'> 1\n",
      "<class 'numpy.ndarray'> 1\n",
      "<class 'numpy.ndarray'> 1\n",
      "<class 'numpy.ndarray'> 1\n",
      "<class 'numpy.ndarray'> 1\n",
      "<class 'numpy.ndarray'> 1\n",
      "<class 'numpy.ndarray'> 1\n",
      "<class 'numpy.ndarray'> 1\n",
      "<class 'numpy.ndarray'> 1\n",
      "<class 'numpy.ndarray'> 1\n",
      "<class 'numpy.ndarray'> 1\n",
      "<class 'numpy.ndarray'> 1\n",
      "<class 'numpy.ndarray'> 1\n",
      "<class 'numpy.ndarray'> 1\n",
      "<class 'numpy.ndarray'> 1\n",
      "<class 'numpy.ndarray'> 1\n",
      "<class 'numpy.ndarray'> 1\n",
      "<class 'numpy.ndarray'> 1\n",
      "<class 'numpy.ndarray'> 1\n",
      "<class 'numpy.ndarray'> 1\n",
      "<class 'numpy.ndarray'> 1\n",
      "<class 'numpy.ndarray'> 1\n",
      "<class 'numpy.ndarray'> 1\n",
      "<class 'numpy.ndarray'> 1\n",
      "<class 'numpy.ndarray'> 1\n",
      "<class 'numpy.ndarray'> 1\n",
      "<class 'numpy.ndarray'> 1\n",
      "<class 'numpy.ndarray'> 1\n",
      "<class 'numpy.ndarray'> 1\n",
      "<class 'numpy.ndarray'> 1\n",
      "<class 'numpy.ndarray'> 1\n",
      "<class 'numpy.ndarray'> 1\n",
      "<class 'numpy.ndarray'> 1\n",
      "<class 'numpy.ndarray'> 1\n",
      "<class 'numpy.ndarray'> 1\n",
      "<class 'numpy.ndarray'> 1\n",
      "<class 'numpy.ndarray'> 1\n",
      "<class 'numpy.ndarray'> 1\n",
      "<class 'numpy.ndarray'> 1\n",
      "<class 'numpy.ndarray'> 1\n",
      "<class 'numpy.ndarray'> 1\n",
      "<class 'numpy.ndarray'> 1\n",
      "<class 'numpy.ndarray'> 1\n",
      "<class 'numpy.ndarray'> 1\n",
      "<class 'numpy.ndarray'> 1\n",
      "<class 'numpy.ndarray'> 1\n",
      "<class 'numpy.ndarray'> 1\n",
      "<class 'numpy.ndarray'> 1\n",
      "<class 'numpy.ndarray'> 1\n",
      "<class 'numpy.ndarray'> 1\n",
      "<class 'numpy.ndarray'> 1\n",
      "<class 'numpy.ndarray'> 1\n",
      "<class 'numpy.ndarray'> 1\n",
      "<class 'numpy.ndarray'> 1\n",
      "<class 'numpy.ndarray'> 1\n",
      "<class 'numpy.ndarray'> 1\n",
      "<class 'numpy.ndarray'> 1\n",
      "<class 'numpy.ndarray'> 1\n",
      "<class 'numpy.ndarray'> 1\n",
      "<class 'numpy.ndarray'> 1\n",
      "<class 'numpy.ndarray'> 1\n",
      "<class 'numpy.ndarray'> 1\n",
      "<class 'numpy.ndarray'> 1\n",
      "<class 'numpy.ndarray'> 1\n",
      "<class 'numpy.ndarray'> 1\n",
      "<class 'numpy.ndarray'> 1\n",
      "<class 'numpy.ndarray'> 1\n",
      "<class 'numpy.ndarray'> 1\n",
      "<class 'numpy.ndarray'> 1\n",
      "<class 'numpy.ndarray'> 1\n",
      "<class 'numpy.ndarray'> 1\n",
      "<class 'numpy.ndarray'> 1\n",
      "<class 'numpy.ndarray'> 1\n",
      "<class 'numpy.ndarray'> 1\n",
      "<class 'numpy.ndarray'> 1\n",
      "<class 'numpy.ndarray'> 1\n",
      "<class 'numpy.ndarray'> 1\n",
      "<class 'numpy.ndarray'> 1\n",
      "<class 'numpy.ndarray'> 1\n",
      "<class 'numpy.ndarray'> 1\n",
      "<class 'numpy.ndarray'> 1\n",
      "<class 'numpy.ndarray'> 1\n",
      "<class 'numpy.ndarray'> 1\n",
      "<class 'numpy.ndarray'> 1\n",
      "<class 'numpy.ndarray'> 1\n",
      "<class 'numpy.ndarray'> 1\n",
      "<class 'numpy.ndarray'> 1\n",
      "<class 'numpy.ndarray'> 1\n",
      "<class 'numpy.ndarray'> 1\n",
      "<class 'numpy.ndarray'> 1\n",
      "<class 'numpy.ndarray'> 1\n",
      "<class 'numpy.ndarray'> 1\n",
      "<class 'numpy.ndarray'> 1\n",
      "<class 'numpy.ndarray'> 1\n",
      "<class 'numpy.ndarray'> 1\n",
      "<class 'numpy.ndarray'> 1\n",
      "<class 'numpy.ndarray'> 1\n",
      "<class 'numpy.ndarray'> 1\n",
      "<class 'numpy.ndarray'> 1\n",
      "<class 'numpy.ndarray'> 1\n",
      "<class 'numpy.ndarray'> 1\n",
      "<class 'numpy.ndarray'> 1\n",
      "<class 'numpy.ndarray'> 1\n",
      "<class 'numpy.ndarray'> 1\n",
      "<class 'numpy.ndarray'> 1\n",
      "<class 'numpy.ndarray'> 1\n",
      "<class 'numpy.ndarray'> 1\n",
      "<class 'numpy.ndarray'> 1\n",
      "<class 'numpy.ndarray'> 1\n",
      "<class 'numpy.ndarray'> 1\n",
      "<class 'numpy.ndarray'> 1\n",
      "<class 'numpy.ndarray'> 1\n",
      "<class 'numpy.ndarray'> 1\n",
      "<class 'numpy.ndarray'> 1\n",
      "<class 'numpy.ndarray'> 1\n",
      "<class 'numpy.ndarray'> 1\n",
      "<class 'numpy.ndarray'> 1\n",
      "<class 'numpy.ndarray'> 1\n",
      "<class 'numpy.ndarray'> 1\n",
      "<class 'numpy.ndarray'> 1\n",
      "<class 'numpy.ndarray'> 1\n",
      "<class 'numpy.ndarray'> 1\n",
      "<class 'numpy.ndarray'> 1\n",
      "<class 'numpy.ndarray'> 1\n",
      "<class 'numpy.ndarray'> 1\n",
      "<class 'numpy.ndarray'> 1\n",
      "<class 'numpy.ndarray'> 1\n",
      "<class 'numpy.ndarray'> 1\n",
      "<class 'numpy.ndarray'> 1\n",
      "<class 'numpy.ndarray'> 1\n",
      "<class 'numpy.ndarray'> 1\n",
      "<class 'numpy.ndarray'> 1\n",
      "<class 'numpy.ndarray'> 1\n",
      "<class 'numpy.ndarray'> 1\n",
      "<class 'numpy.ndarray'> 1\n",
      "<class 'numpy.ndarray'> 1\n",
      "<class 'numpy.ndarray'> 1\n",
      "<class 'numpy.ndarray'> 1\n",
      "<class 'numpy.ndarray'> 1\n",
      "<class 'numpy.ndarray'> 1\n",
      "<class 'numpy.ndarray'> 1\n",
      "<class 'numpy.ndarray'> 1\n",
      "<class 'numpy.ndarray'> 1\n",
      "<class 'numpy.ndarray'> 1\n",
      "<class 'numpy.ndarray'> 1\n",
      "<class 'numpy.ndarray'> 1\n",
      "<class 'numpy.ndarray'> 1\n",
      "<class 'numpy.ndarray'> 1\n",
      "<class 'numpy.ndarray'> 1\n",
      "<class 'numpy.ndarray'> 1\n",
      "<class 'numpy.ndarray'> 1\n",
      "<class 'numpy.ndarray'> 1\n",
      "<class 'numpy.ndarray'> 1\n",
      "<class 'numpy.ndarray'> 1\n",
      "<class 'numpy.ndarray'> 1\n",
      "<class 'numpy.ndarray'> 1\n",
      "<class 'numpy.ndarray'> 1\n",
      "<class 'numpy.ndarray'> 1\n",
      "<class 'numpy.ndarray'> 1\n",
      "<class 'numpy.ndarray'> 1\n",
      "<class 'numpy.ndarray'> 1\n",
      "<class 'numpy.ndarray'> 1\n",
      "<class 'numpy.ndarray'> 1\n",
      "<class 'numpy.ndarray'> 1\n",
      "<class 'numpy.ndarray'> 1\n",
      "<class 'numpy.ndarray'> 1\n",
      "<class 'numpy.ndarray'> 1\n",
      "<class 'numpy.ndarray'> 1\n",
      "<class 'numpy.ndarray'> 1\n",
      "<class 'numpy.ndarray'> 1\n",
      "<class 'numpy.ndarray'> 1\n",
      "<class 'numpy.ndarray'> 1\n",
      "<class 'numpy.ndarray'> 1\n",
      "<class 'numpy.ndarray'> 1\n",
      "<class 'numpy.ndarray'> 1\n",
      "<class 'numpy.ndarray'> 1\n",
      "<class 'numpy.ndarray'> 1\n",
      "<class 'numpy.ndarray'> 1\n",
      "<class 'numpy.ndarray'> 1\n",
      "<class 'numpy.ndarray'> 1\n",
      "<class 'numpy.ndarray'> 1\n",
      "<class 'numpy.ndarray'> 1\n",
      "<class 'numpy.ndarray'> 1\n",
      "<class 'numpy.ndarray'> 1\n",
      "<class 'numpy.ndarray'> 1\n",
      "<class 'numpy.ndarray'> 1\n",
      "<class 'numpy.ndarray'> 1\n",
      "<class 'numpy.ndarray'> 1\n",
      "<class 'numpy.ndarray'> 1\n",
      "<class 'numpy.ndarray'> 1\n",
      "<class 'numpy.ndarray'> 1\n",
      "<class 'numpy.ndarray'> 1\n",
      "<class 'numpy.ndarray'> 1\n",
      "<class 'numpy.ndarray'> 1\n",
      "<class 'numpy.ndarray'> 1\n",
      "<class 'numpy.ndarray'> 1\n",
      "<class 'numpy.ndarray'> 1\n",
      "<class 'numpy.ndarray'> 1\n",
      "<class 'numpy.ndarray'> 1\n",
      "<class 'numpy.ndarray'> 1\n",
      "<class 'numpy.ndarray'> 1\n",
      "<class 'numpy.ndarray'> 1\n",
      "<class 'numpy.ndarray'> 1\n",
      "<class 'numpy.ndarray'> 1\n",
      "<class 'numpy.ndarray'> 1\n",
      "<class 'numpy.ndarray'> 1\n",
      "<class 'numpy.ndarray'> 1\n",
      "<class 'numpy.ndarray'> 1\n",
      "<class 'numpy.ndarray'> 1\n",
      "<class 'numpy.ndarray'> 1\n",
      "<class 'numpy.ndarray'> 1\n",
      "<class 'numpy.ndarray'> 1\n",
      "<class 'numpy.ndarray'> 1\n",
      "<class 'numpy.ndarray'> 1\n",
      "<class 'numpy.ndarray'> 1\n",
      "<class 'numpy.ndarray'> 1\n",
      "<class 'numpy.ndarray'> 1\n",
      "<class 'numpy.ndarray'> 1\n",
      "<class 'numpy.ndarray'> 1\n",
      "<class 'numpy.ndarray'> 1\n",
      "<class 'numpy.ndarray'> 1\n",
      "<class 'numpy.ndarray'> 1\n",
      "<class 'numpy.ndarray'> 1\n",
      "<class 'numpy.ndarray'> 1\n",
      "<class 'numpy.ndarray'> 1\n",
      "<class 'numpy.ndarray'> 1\n",
      "<class 'numpy.ndarray'> 1\n",
      "<class 'numpy.ndarray'> 1\n",
      "<class 'numpy.ndarray'> 1\n",
      "<class 'numpy.ndarray'> 1\n",
      "<class 'numpy.ndarray'> 1\n",
      "<class 'numpy.ndarray'> 1\n",
      "<class 'numpy.ndarray'> 1\n",
      "<class 'numpy.ndarray'> 1\n",
      "<class 'numpy.ndarray'> 1\n",
      "<class 'numpy.ndarray'> 1\n",
      "<class 'numpy.ndarray'> 1\n",
      "<class 'numpy.ndarray'> 1\n",
      "<class 'numpy.ndarray'> 1\n",
      "<class 'numpy.ndarray'> 1\n",
      "<class 'numpy.ndarray'> 1\n",
      "<class 'numpy.ndarray'> 1\n",
      "<class 'numpy.ndarray'> 1\n",
      "<class 'numpy.ndarray'> 1\n",
      "<class 'numpy.ndarray'> 1\n",
      "<class 'numpy.ndarray'> 1\n",
      "<class 'numpy.ndarray'> 1\n",
      "<class 'numpy.ndarray'> 1\n",
      "<class 'numpy.ndarray'> 1\n",
      "<class 'numpy.ndarray'> 1\n",
      "<class 'numpy.ndarray'> 1\n",
      "<class 'numpy.ndarray'> 1\n",
      "<class 'numpy.ndarray'> 1\n",
      "<class 'numpy.ndarray'> 1\n",
      "<class 'numpy.ndarray'> 1\n",
      "<class 'numpy.ndarray'> 1\n",
      "<class 'numpy.ndarray'> 1\n",
      "<class 'numpy.ndarray'> 1\n",
      "<class 'numpy.ndarray'> 1\n",
      "<class 'numpy.ndarray'> 1\n",
      "<class 'numpy.ndarray'> 1\n",
      "<class 'numpy.ndarray'> 1\n",
      "<class 'numpy.ndarray'> 1\n",
      "<class 'numpy.ndarray'> 1\n",
      "<class 'numpy.ndarray'> 1\n",
      "<class 'numpy.ndarray'> 1\n",
      "<class 'numpy.ndarray'> 1\n",
      "<class 'numpy.ndarray'> 1\n",
      "<class 'numpy.ndarray'> 1\n",
      "<class 'numpy.ndarray'> 1\n",
      "<class 'numpy.ndarray'> 1\n",
      "<class 'numpy.ndarray'> 1\n",
      "<class 'numpy.ndarray'> 1\n",
      "<class 'numpy.ndarray'> 1\n",
      "<class 'numpy.ndarray'> 1\n",
      "<class 'numpy.ndarray'> 1\n",
      "<class 'numpy.ndarray'> 1\n",
      "<class 'numpy.ndarray'> 1\n",
      "<class 'numpy.ndarray'> 1\n",
      "<class 'numpy.ndarray'> 1\n",
      "<class 'numpy.ndarray'> 1\n",
      "<class 'numpy.ndarray'> 1\n",
      "<class 'numpy.ndarray'> 1\n",
      "<class 'numpy.ndarray'> 1\n",
      "<class 'numpy.ndarray'> 1\n",
      "<class 'numpy.ndarray'> 1\n",
      "<class 'numpy.ndarray'> 1\n",
      "<class 'numpy.ndarray'> 1\n",
      "<class 'numpy.ndarray'> 1\n",
      "<class 'numpy.ndarray'> 1\n",
      "<class 'numpy.ndarray'> 1\n",
      "<class 'numpy.ndarray'> 1\n",
      "<class 'numpy.ndarray'> 1\n",
      "<class 'numpy.ndarray'> 1\n",
      "<class 'numpy.ndarray'> 1\n",
      "<class 'numpy.ndarray'> 1\n",
      "<class 'numpy.ndarray'> 1\n",
      "<class 'numpy.ndarray'> 1\n",
      "<class 'numpy.ndarray'> 1\n",
      "<class 'numpy.ndarray'> 1\n",
      "<class 'numpy.ndarray'> 1\n",
      "<class 'numpy.ndarray'> 1\n",
      "<class 'numpy.ndarray'> 1\n",
      "<class 'numpy.ndarray'> 1\n",
      "<class 'numpy.ndarray'> 1\n",
      "<class 'numpy.ndarray'> 1\n",
      "<class 'numpy.ndarray'> 1\n",
      "<class 'numpy.ndarray'> 1\n",
      "<class 'numpy.ndarray'> 1\n",
      "<class 'numpy.ndarray'> 1\n",
      "<class 'numpy.ndarray'> 1\n",
      "<class 'numpy.ndarray'> 1\n",
      "<class 'numpy.ndarray'> 1\n",
      "<class 'numpy.ndarray'> 1\n"
     ]
    },
    {
     "name": "stdout",
     "output_type": "stream",
     "text": [
      "<class 'numpy.ndarray'> 1\n",
      "<class 'numpy.ndarray'> 1\n",
      "<class 'numpy.ndarray'> 1\n",
      "<class 'numpy.ndarray'> 1\n",
      "<class 'numpy.ndarray'> 1\n",
      "<class 'numpy.ndarray'> 1\n",
      "<class 'numpy.ndarray'> 1\n",
      "<class 'numpy.ndarray'> 1\n",
      "<class 'numpy.ndarray'> 1\n",
      "<class 'numpy.ndarray'> 1\n",
      "<class 'numpy.ndarray'> 1\n",
      "<class 'numpy.ndarray'> 1\n",
      "<class 'numpy.ndarray'> 1\n",
      "<class 'numpy.ndarray'> 1\n",
      "<class 'numpy.ndarray'> 1\n",
      "<class 'numpy.ndarray'> 1\n",
      "<class 'numpy.ndarray'> 1\n",
      "<class 'numpy.ndarray'> 1\n",
      "<class 'numpy.ndarray'> 1\n",
      "<class 'numpy.ndarray'> 1\n",
      "<class 'numpy.ndarray'> 1\n",
      "<class 'numpy.ndarray'> 1\n",
      "<class 'numpy.ndarray'> 1\n",
      "<class 'numpy.ndarray'> 1\n",
      "<class 'numpy.ndarray'> 1\n",
      "<class 'numpy.ndarray'> 1\n",
      "<class 'numpy.ndarray'> 1\n",
      "<class 'numpy.ndarray'> 1\n",
      "<class 'numpy.ndarray'> 1\n",
      "<class 'numpy.ndarray'> 1\n",
      "<class 'numpy.ndarray'> 1\n",
      "<class 'numpy.ndarray'> 1\n",
      "<class 'numpy.ndarray'> 1\n",
      "<class 'numpy.ndarray'> 1\n",
      "<class 'numpy.ndarray'> 1\n",
      "<class 'numpy.ndarray'> 1\n",
      "<class 'numpy.ndarray'> 1\n",
      "<class 'numpy.ndarray'> 1\n",
      "<class 'numpy.ndarray'> 1\n",
      "<class 'numpy.ndarray'> 1\n",
      "<class 'numpy.ndarray'> 1\n",
      "<class 'numpy.ndarray'> 1\n",
      "<class 'numpy.ndarray'> 1\n",
      "<class 'numpy.ndarray'> 1\n",
      "<class 'numpy.ndarray'> 1\n",
      "<class 'numpy.ndarray'> 1\n",
      "<class 'numpy.ndarray'> 1\n",
      "<class 'numpy.ndarray'> 1\n",
      "<class 'numpy.ndarray'> 1\n",
      "<class 'numpy.ndarray'> 1\n",
      "<class 'numpy.ndarray'> 1\n",
      "<class 'numpy.ndarray'> 1\n",
      "<class 'numpy.ndarray'> 1\n",
      "<class 'numpy.ndarray'> 1\n",
      "<class 'numpy.ndarray'> 1\n",
      "<class 'numpy.ndarray'> 1\n",
      "<class 'numpy.ndarray'> 1\n",
      "<class 'numpy.ndarray'> 1\n",
      "<class 'numpy.ndarray'> 1\n",
      "<class 'numpy.ndarray'> 1\n",
      "<class 'numpy.ndarray'> 1\n",
      "<class 'numpy.ndarray'> 1\n",
      "<class 'numpy.ndarray'> 1\n",
      "<class 'numpy.ndarray'> 1\n",
      "<class 'numpy.ndarray'> 1\n",
      "<class 'numpy.ndarray'> 1\n",
      "<class 'numpy.ndarray'> 1\n",
      "<class 'numpy.ndarray'> 1\n",
      "<class 'numpy.ndarray'> 1\n",
      "<class 'numpy.ndarray'> 1\n",
      "<class 'numpy.ndarray'> 1\n",
      "<class 'numpy.ndarray'> 1\n",
      "<class 'numpy.ndarray'> 1\n",
      "<class 'numpy.ndarray'> 1\n",
      "<class 'numpy.ndarray'> 1\n",
      "<class 'numpy.ndarray'> 1\n",
      "<class 'numpy.ndarray'> 1\n",
      "<class 'numpy.ndarray'> 1\n",
      "<class 'numpy.ndarray'> 1\n",
      "<class 'numpy.ndarray'> 1\n",
      "<class 'numpy.ndarray'> 1\n",
      "<class 'numpy.ndarray'> 1\n",
      "<class 'numpy.ndarray'> 1\n",
      "<class 'numpy.ndarray'> 1\n",
      "<class 'numpy.ndarray'> 1\n",
      "<class 'numpy.ndarray'> 1\n",
      "<class 'numpy.ndarray'> 1\n",
      "<class 'numpy.ndarray'> 1\n",
      "<class 'numpy.ndarray'> 1\n",
      "<class 'numpy.ndarray'> 1\n",
      "<class 'numpy.ndarray'> 1\n",
      "<class 'numpy.ndarray'> 1\n",
      "<class 'numpy.ndarray'> 1\n",
      "<class 'numpy.ndarray'> 1\n",
      "<class 'numpy.ndarray'> 1\n",
      "<class 'numpy.ndarray'> 1\n",
      "<class 'numpy.ndarray'> 1\n",
      "<class 'numpy.ndarray'> 1\n",
      "<class 'numpy.ndarray'> 1\n",
      "<class 'numpy.ndarray'> 1\n",
      "<class 'numpy.ndarray'> 1\n",
      "<class 'numpy.ndarray'> 1\n",
      "<class 'numpy.ndarray'> 1\n",
      "<class 'numpy.ndarray'> 1\n",
      "<class 'numpy.ndarray'> 1\n",
      "<class 'numpy.ndarray'> 1\n",
      "<class 'numpy.ndarray'> 1\n",
      "<class 'numpy.ndarray'> 1\n",
      "<class 'numpy.ndarray'> 1\n",
      "<class 'numpy.ndarray'> 1\n",
      "<class 'numpy.ndarray'> 1\n",
      "<class 'numpy.ndarray'> 1\n",
      "<class 'numpy.ndarray'> 1\n",
      "<class 'numpy.ndarray'> 1\n",
      "<class 'numpy.ndarray'> 1\n",
      "<class 'numpy.ndarray'> 1\n",
      "<class 'numpy.ndarray'> 1\n",
      "<class 'numpy.ndarray'> 1\n",
      "<class 'numpy.ndarray'> 1\n",
      "<class 'numpy.ndarray'> 1\n",
      "<class 'numpy.ndarray'> 1\n",
      "<class 'numpy.ndarray'> 1\n",
      "<class 'numpy.ndarray'> 1\n",
      "<class 'numpy.ndarray'> 1\n",
      "<class 'numpy.ndarray'> 1\n",
      "<class 'numpy.ndarray'> 1\n",
      "<class 'numpy.ndarray'> 1\n",
      "<class 'numpy.ndarray'> 1\n",
      "<class 'numpy.ndarray'> 1\n",
      "<class 'numpy.ndarray'> 1\n",
      "<class 'numpy.ndarray'> 1\n",
      "<class 'numpy.ndarray'> 1\n",
      "<class 'numpy.ndarray'> 1\n",
      "<class 'numpy.ndarray'> 1\n",
      "<class 'numpy.ndarray'> 1\n",
      "<class 'numpy.ndarray'> 1\n",
      "<class 'numpy.ndarray'> 1\n",
      "<class 'numpy.ndarray'> 1\n",
      "<class 'numpy.ndarray'> 1\n",
      "<class 'numpy.ndarray'> 1\n",
      "<class 'numpy.ndarray'> 1\n",
      "<class 'numpy.ndarray'> 1\n",
      "<class 'numpy.ndarray'> 1\n",
      "<class 'numpy.ndarray'> 1\n",
      "<class 'numpy.ndarray'> 1\n",
      "<class 'numpy.ndarray'> 1\n",
      "<class 'numpy.ndarray'> 1\n",
      "<class 'numpy.ndarray'> 1\n",
      "<class 'numpy.ndarray'> 1\n",
      "<class 'numpy.ndarray'> 1\n",
      "<class 'numpy.ndarray'> 1\n",
      "<class 'numpy.ndarray'> 1\n",
      "<class 'numpy.ndarray'> 1\n",
      "<class 'numpy.ndarray'> 1\n",
      "<class 'numpy.ndarray'> 1\n",
      "<class 'numpy.ndarray'> 1\n",
      "<class 'numpy.ndarray'> 1\n",
      "<class 'numpy.ndarray'> 1\n",
      "<class 'numpy.ndarray'> 1\n",
      "<class 'numpy.ndarray'> 1\n",
      "<class 'numpy.ndarray'> 1\n",
      "<class 'numpy.ndarray'> 1\n",
      "<class 'numpy.ndarray'> 1\n",
      "<class 'numpy.ndarray'> 1\n",
      "<class 'numpy.ndarray'> 1\n",
      "<class 'numpy.ndarray'> 1\n",
      "<class 'numpy.ndarray'> 1\n",
      "<class 'numpy.ndarray'> 1\n",
      "<class 'numpy.ndarray'> 1\n",
      "<class 'numpy.ndarray'> 1\n",
      "<class 'numpy.ndarray'> 1\n",
      "<class 'numpy.ndarray'> 1\n",
      "<class 'numpy.ndarray'> 1\n",
      "<class 'numpy.ndarray'> 1\n",
      "<class 'numpy.ndarray'> 1\n",
      "<class 'numpy.ndarray'> 1\n",
      "<class 'numpy.ndarray'> 1\n",
      "<class 'numpy.ndarray'> 1\n",
      "<class 'numpy.ndarray'> 1\n",
      "<class 'numpy.ndarray'> 1\n",
      "<class 'numpy.ndarray'> 1\n",
      "<class 'numpy.ndarray'> 1\n",
      "<class 'numpy.ndarray'> 1\n",
      "<class 'numpy.ndarray'> 1\n",
      "<class 'numpy.ndarray'> 1\n",
      "<class 'numpy.ndarray'> 1\n",
      "<class 'numpy.ndarray'> 1\n",
      "<class 'numpy.ndarray'> 1\n",
      "<class 'numpy.ndarray'> 1\n",
      "<class 'numpy.ndarray'> 1\n",
      "<class 'numpy.ndarray'> 1\n",
      "<class 'numpy.ndarray'> 1\n",
      "<class 'numpy.ndarray'> 1\n",
      "<class 'numpy.ndarray'> 1\n",
      "<class 'numpy.ndarray'> 1\n",
      "<class 'numpy.ndarray'> 1\n",
      "<class 'numpy.ndarray'> 1\n",
      "<class 'numpy.ndarray'> 1\n",
      "<class 'numpy.ndarray'> 1\n",
      "<class 'numpy.ndarray'> 1\n",
      "<class 'numpy.ndarray'> 1\n",
      "<class 'numpy.ndarray'> 1\n",
      "<class 'numpy.ndarray'> 1\n",
      "<class 'numpy.ndarray'> 1\n",
      "<class 'numpy.ndarray'> 1\n",
      "<class 'numpy.ndarray'> 1\n",
      "<class 'numpy.ndarray'> 1\n",
      "<class 'numpy.ndarray'> 1\n",
      "<class 'numpy.ndarray'> 1\n",
      "<class 'numpy.ndarray'> 1\n",
      "<class 'numpy.ndarray'> 1\n",
      "<class 'numpy.ndarray'> 1\n",
      "<class 'numpy.ndarray'> 1\n",
      "<class 'numpy.ndarray'> 1\n",
      "<class 'numpy.ndarray'> 1\n",
      "<class 'numpy.ndarray'> 1\n",
      "<class 'numpy.ndarray'> 1\n",
      "<class 'numpy.ndarray'> 1\n",
      "<class 'numpy.ndarray'> 1\n",
      "<class 'numpy.ndarray'> 1\n",
      "<class 'numpy.ndarray'> 1\n",
      "<class 'numpy.ndarray'> 1\n",
      "<class 'numpy.ndarray'> 1\n",
      "<class 'numpy.ndarray'> 1\n",
      "<class 'numpy.ndarray'> 1\n",
      "<class 'numpy.ndarray'> 1\n",
      "<class 'numpy.ndarray'> 1\n",
      "<class 'numpy.ndarray'> 1\n",
      "<class 'numpy.ndarray'> 1\n",
      "<class 'numpy.ndarray'> 1\n",
      "<class 'numpy.ndarray'> 1\n",
      "<class 'numpy.ndarray'> 1\n",
      "<class 'numpy.ndarray'> 1\n",
      "<class 'numpy.ndarray'> 1\n",
      "<class 'numpy.ndarray'> 1\n",
      "<class 'numpy.ndarray'> 1\n",
      "<class 'numpy.ndarray'> 1\n",
      "<class 'numpy.ndarray'> 1\n",
      "<class 'numpy.ndarray'> 1\n",
      "<class 'numpy.ndarray'> 1\n",
      "<class 'numpy.ndarray'> 1\n",
      "<class 'numpy.ndarray'> 1\n",
      "<class 'numpy.ndarray'> 1\n",
      "<class 'numpy.ndarray'> 1\n",
      "<class 'numpy.ndarray'> 1\n",
      "<class 'numpy.ndarray'> 1\n",
      "<class 'numpy.ndarray'> 1\n",
      "<class 'numpy.ndarray'> 1\n",
      "<class 'numpy.ndarray'> 1\n",
      "<class 'numpy.ndarray'> 1\n",
      "<class 'numpy.ndarray'> 1\n",
      "<class 'numpy.ndarray'> 1\n",
      "<class 'numpy.ndarray'> 1\n",
      "<class 'numpy.ndarray'> 1\n",
      "<class 'numpy.ndarray'> 1\n",
      "<class 'numpy.ndarray'> 1\n",
      "<class 'numpy.ndarray'> 1\n",
      "<class 'numpy.ndarray'> 1\n",
      "<class 'numpy.ndarray'> 1\n",
      "<class 'numpy.ndarray'> 1\n",
      "<class 'numpy.ndarray'> 1\n",
      "<class 'numpy.ndarray'> 1\n",
      "<class 'numpy.ndarray'> 1\n",
      "<class 'numpy.ndarray'> 1\n",
      "<class 'numpy.ndarray'> 1\n",
      "<class 'numpy.ndarray'> 1\n",
      "<class 'numpy.ndarray'> 1\n",
      "<class 'numpy.ndarray'> 1\n",
      "<class 'numpy.ndarray'> 1\n",
      "<class 'numpy.ndarray'> 1\n",
      "<class 'numpy.ndarray'> 1\n",
      "<class 'numpy.ndarray'> 1\n",
      "<class 'numpy.ndarray'> 1\n",
      "<class 'numpy.ndarray'> 1\n",
      "<class 'numpy.ndarray'> 1\n",
      "<class 'numpy.ndarray'> 1\n",
      "<class 'numpy.ndarray'> 1\n",
      "<class 'numpy.ndarray'> 1\n",
      "<class 'numpy.ndarray'> 1\n",
      "<class 'numpy.ndarray'> 1\n",
      "<class 'numpy.ndarray'> 1\n",
      "<class 'numpy.ndarray'> 1\n",
      "<class 'numpy.ndarray'> 1\n",
      "<class 'numpy.ndarray'> 1\n",
      "<class 'numpy.ndarray'> 1\n",
      "<class 'numpy.ndarray'> 1\n",
      "<class 'numpy.ndarray'> 1\n",
      "<class 'numpy.ndarray'> 1\n",
      "<class 'numpy.ndarray'> 1\n",
      "<class 'numpy.ndarray'> 1\n",
      "<class 'numpy.ndarray'> 1\n",
      "<class 'numpy.ndarray'> 1\n",
      "<class 'numpy.ndarray'> 1\n",
      "<class 'numpy.ndarray'> 1\n",
      "<class 'numpy.ndarray'> 1\n",
      "<class 'numpy.ndarray'> 1\n",
      "<class 'numpy.ndarray'> 1\n",
      "<class 'numpy.ndarray'> 1\n",
      "<class 'numpy.ndarray'> 1\n",
      "<class 'numpy.ndarray'> 1\n",
      "<class 'numpy.ndarray'> 1\n",
      "<class 'numpy.ndarray'> 1\n",
      "<class 'numpy.ndarray'> 1\n",
      "<class 'numpy.ndarray'> 1\n",
      "<class 'numpy.ndarray'> 1\n",
      "<class 'numpy.ndarray'> 1\n",
      "<class 'numpy.ndarray'> 1\n",
      "<class 'numpy.ndarray'> 1\n",
      "<class 'numpy.ndarray'> 1\n",
      "<class 'numpy.ndarray'> 1\n",
      "<class 'numpy.ndarray'> 1\n",
      "<class 'numpy.ndarray'> 1\n",
      "<class 'numpy.ndarray'> 1\n",
      "<class 'numpy.ndarray'> 1\n",
      "<class 'numpy.ndarray'> 1\n",
      "<class 'numpy.ndarray'> 1\n",
      "<class 'numpy.ndarray'> 1\n",
      "<class 'numpy.ndarray'> 1\n",
      "<class 'numpy.ndarray'> 1\n",
      "<class 'numpy.ndarray'> 1\n",
      "<class 'numpy.ndarray'> 1\n",
      "<class 'numpy.ndarray'> 1\n",
      "<class 'numpy.ndarray'> 1\n",
      "<class 'numpy.ndarray'> 1\n",
      "<class 'numpy.ndarray'> 1\n",
      "<class 'numpy.ndarray'> 1\n",
      "<class 'numpy.ndarray'> 1\n",
      "<class 'numpy.ndarray'> 1\n",
      "<class 'numpy.ndarray'> 1\n",
      "<class 'numpy.ndarray'> 1\n",
      "<class 'numpy.ndarray'> 1\n",
      "<class 'numpy.ndarray'> 1\n",
      "<class 'numpy.ndarray'> 1\n",
      "<class 'numpy.ndarray'> 1\n",
      "<class 'numpy.ndarray'> 1\n",
      "<class 'numpy.ndarray'> 1\n",
      "<class 'numpy.ndarray'> 1\n",
      "<class 'numpy.ndarray'> 1\n",
      "<class 'numpy.ndarray'> 1\n",
      "<class 'numpy.ndarray'> 1\n",
      "<class 'numpy.ndarray'> 1\n",
      "<class 'numpy.ndarray'> 1\n",
      "<class 'numpy.ndarray'> 1\n",
      "<class 'numpy.ndarray'> 1\n",
      "<class 'numpy.ndarray'> 1\n",
      "<class 'numpy.ndarray'> 1\n",
      "<class 'numpy.ndarray'> 1\n",
      "<class 'numpy.ndarray'> 1\n",
      "<class 'numpy.ndarray'> 1\n",
      "<class 'numpy.ndarray'> 1\n",
      "<class 'numpy.ndarray'> 1\n",
      "<class 'numpy.ndarray'> 1\n",
      "<class 'numpy.ndarray'> 1\n",
      "<class 'numpy.ndarray'> 1\n",
      "<class 'numpy.ndarray'> 1\n",
      "<class 'numpy.ndarray'> 1\n",
      "<class 'numpy.ndarray'> 1\n",
      "<class 'numpy.ndarray'> 1\n",
      "<class 'numpy.ndarray'> 1\n",
      "<class 'numpy.ndarray'> 1\n",
      "<class 'numpy.ndarray'> 1\n",
      "<class 'numpy.ndarray'> 1\n",
      "<class 'numpy.ndarray'> 1\n",
      "<class 'numpy.ndarray'> 1\n",
      "<class 'numpy.ndarray'> 1\n",
      "<class 'numpy.ndarray'> 1\n",
      "<class 'numpy.ndarray'> 1\n",
      "<class 'numpy.ndarray'> 1\n",
      "<class 'numpy.ndarray'> 1\n",
      "<class 'numpy.ndarray'> 1\n",
      "<class 'numpy.ndarray'> 1\n",
      "<class 'numpy.ndarray'> 1\n",
      "<class 'numpy.ndarray'> 1\n",
      "<class 'numpy.ndarray'> 1\n",
      "<class 'numpy.ndarray'> 1\n",
      "<class 'numpy.ndarray'> 1\n",
      "<class 'numpy.ndarray'> 1\n",
      "<class 'numpy.ndarray'> 1\n",
      "<class 'numpy.ndarray'> 1\n",
      "<class 'numpy.ndarray'> 1\n",
      "<class 'numpy.ndarray'> 1\n",
      "<class 'numpy.ndarray'> 1\n",
      "<class 'numpy.ndarray'> 1\n",
      "<class 'numpy.ndarray'> 1\n",
      "<class 'numpy.ndarray'> 1\n",
      "<class 'numpy.ndarray'> 1\n",
      "<class 'numpy.ndarray'> 1\n",
      "<class 'numpy.ndarray'> 1\n",
      "<class 'numpy.ndarray'> 1\n",
      "<class 'numpy.ndarray'> 1\n",
      "<class 'numpy.ndarray'> 1\n",
      "<class 'numpy.ndarray'> 1\n",
      "<class 'numpy.ndarray'> 1\n",
      "<class 'numpy.ndarray'> 1\n",
      "<class 'numpy.ndarray'> 1\n",
      "<class 'numpy.ndarray'> 1\n",
      "<class 'numpy.ndarray'> 1\n",
      "<class 'numpy.ndarray'> 1\n",
      "<class 'numpy.ndarray'> 1\n",
      "<class 'numpy.ndarray'> 1\n",
      "<class 'numpy.ndarray'> 1\n",
      "<class 'numpy.ndarray'> 1\n",
      "<class 'numpy.ndarray'> 1\n",
      "<class 'numpy.ndarray'> 1\n",
      "<class 'numpy.ndarray'> 1\n",
      "<class 'numpy.ndarray'> 1\n",
      "<class 'numpy.ndarray'> 1\n",
      "<class 'numpy.ndarray'> 1\n",
      "<class 'numpy.ndarray'> 1\n",
      "<class 'numpy.ndarray'> 1\n",
      "<class 'numpy.ndarray'> 1\n",
      "<class 'numpy.ndarray'> 1\n",
      "<class 'numpy.ndarray'> 1\n",
      "<class 'numpy.ndarray'> 1\n",
      "<class 'numpy.ndarray'> 1\n",
      "<class 'numpy.ndarray'> 1\n",
      "<class 'numpy.ndarray'> 1\n",
      "<class 'numpy.ndarray'> 1\n",
      "<class 'numpy.ndarray'> 1\n",
      "<class 'numpy.ndarray'> 1\n",
      "<class 'numpy.ndarray'> 1\n",
      "<class 'numpy.ndarray'> 1\n",
      "<class 'numpy.ndarray'> 1\n",
      "<class 'numpy.ndarray'> 1\n",
      "<class 'numpy.ndarray'> 1\n",
      "<class 'numpy.ndarray'> 1\n",
      "<class 'numpy.ndarray'> 1\n",
      "<class 'numpy.ndarray'> 1\n",
      "<class 'numpy.ndarray'> 1\n",
      "<class 'numpy.ndarray'> 1\n",
      "<class 'numpy.ndarray'> 1\n",
      "<class 'numpy.ndarray'> 1\n",
      "<class 'numpy.ndarray'> 1\n",
      "<class 'numpy.ndarray'> 1\n",
      "<class 'numpy.ndarray'> 1\n",
      "<class 'numpy.ndarray'> 1\n",
      "<class 'numpy.ndarray'> 1\n",
      "<class 'numpy.ndarray'> 1\n",
      "<class 'numpy.ndarray'> 1\n",
      "<class 'numpy.ndarray'> 1\n",
      "<class 'numpy.ndarray'> 1\n",
      "<class 'numpy.ndarray'> 1\n",
      "<class 'numpy.ndarray'> 1\n",
      "<class 'numpy.ndarray'> 1\n",
      "<class 'numpy.ndarray'> 1\n",
      "<class 'numpy.ndarray'> 1\n",
      "<class 'numpy.ndarray'> 1\n",
      "<class 'numpy.ndarray'> 1\n",
      "<class 'numpy.ndarray'> 1\n",
      "<class 'numpy.ndarray'> 1\n",
      "<class 'numpy.ndarray'> 1\n",
      "<class 'numpy.ndarray'> 1\n",
      "<class 'numpy.ndarray'> 1\n",
      "<class 'numpy.ndarray'> 1\n",
      "<class 'numpy.ndarray'> 1\n",
      "<class 'numpy.ndarray'> 1\n",
      "<class 'numpy.ndarray'> 1\n",
      "<class 'numpy.ndarray'> 1\n",
      "<class 'numpy.ndarray'> 1\n",
      "<class 'numpy.ndarray'> 1\n",
      "<class 'numpy.ndarray'> 1\n",
      "<class 'numpy.ndarray'> 1\n",
      "<class 'numpy.ndarray'> 1\n",
      "<class 'numpy.ndarray'> 1\n",
      "<class 'numpy.ndarray'> 1\n",
      "<class 'numpy.ndarray'> 1\n",
      "<class 'numpy.ndarray'> 1\n",
      "<class 'numpy.ndarray'> 1\n",
      "<class 'numpy.ndarray'> 1\n",
      "<class 'numpy.ndarray'> 1\n",
      "<class 'numpy.ndarray'> 1\n",
      "<class 'numpy.ndarray'> 1\n",
      "<class 'numpy.ndarray'> 1\n",
      "<class 'numpy.ndarray'> 1\n",
      "<class 'numpy.ndarray'> 1\n",
      "<class 'numpy.ndarray'> 1\n",
      "<class 'numpy.ndarray'> 1\n",
      "<class 'numpy.ndarray'> 1\n",
      "<class 'numpy.ndarray'> 1\n",
      "<class 'numpy.ndarray'> 1\n",
      "<class 'numpy.ndarray'> 1\n",
      "<class 'numpy.ndarray'> 1\n",
      "<class 'numpy.ndarray'> 1\n",
      "<class 'numpy.ndarray'> 1\n",
      "<class 'numpy.ndarray'> 1\n",
      "<class 'numpy.ndarray'> 1\n",
      "<class 'numpy.ndarray'> 1\n",
      "<class 'numpy.ndarray'> 1\n",
      "<class 'numpy.ndarray'> 1\n",
      "<class 'numpy.ndarray'> 1\n",
      "<class 'numpy.ndarray'> 1\n",
      "<class 'numpy.ndarray'> 1\n",
      "<class 'numpy.ndarray'> 1\n",
      "<class 'numpy.ndarray'> 1\n",
      "<class 'numpy.ndarray'> 1\n",
      "<class 'numpy.ndarray'> 1\n",
      "<class 'numpy.ndarray'> 1\n",
      "<class 'numpy.ndarray'> 1\n",
      "<class 'numpy.ndarray'> 1\n",
      "<class 'numpy.ndarray'> 1\n"
     ]
    },
    {
     "name": "stdout",
     "output_type": "stream",
     "text": [
      "<class 'numpy.ndarray'> 1\n",
      "<class 'numpy.ndarray'> 1\n",
      "<class 'numpy.ndarray'> 1\n",
      "<class 'numpy.ndarray'> 1\n",
      "<class 'numpy.ndarray'> 1\n",
      "<class 'numpy.ndarray'> 1\n",
      "<class 'numpy.ndarray'> 1\n",
      "<class 'numpy.ndarray'> 1\n",
      "<class 'numpy.ndarray'> 1\n",
      "<class 'numpy.ndarray'> 1\n",
      "<class 'numpy.ndarray'> 1\n",
      "<class 'numpy.ndarray'> 1\n",
      "<class 'numpy.ndarray'> 1\n",
      "<class 'numpy.ndarray'> 1\n",
      "<class 'numpy.ndarray'> 1\n",
      "<class 'numpy.ndarray'> 1\n",
      "<class 'numpy.ndarray'> 1\n",
      "<class 'numpy.ndarray'> 1\n",
      "<class 'numpy.ndarray'> 1\n",
      "<class 'numpy.ndarray'> 1\n",
      "<class 'numpy.ndarray'> 1\n",
      "<class 'numpy.ndarray'> 1\n",
      "<class 'numpy.ndarray'> 1\n",
      "<class 'numpy.ndarray'> 1\n",
      "<class 'numpy.ndarray'> 1\n",
      "<class 'numpy.ndarray'> 1\n",
      "<class 'numpy.ndarray'> 1\n",
      "<class 'numpy.ndarray'> 1\n",
      "<class 'numpy.ndarray'> 1\n",
      "<class 'numpy.ndarray'> 1\n",
      "<class 'numpy.ndarray'> 1\n",
      "<class 'numpy.ndarray'> 1\n",
      "<class 'numpy.ndarray'> 1\n",
      "<class 'numpy.ndarray'> 1\n",
      "<class 'numpy.ndarray'> 1\n",
      "<class 'numpy.ndarray'> 1\n",
      "<class 'numpy.ndarray'> 1\n",
      "<class 'numpy.ndarray'> 1\n",
      "<class 'numpy.ndarray'> 1\n",
      "<class 'numpy.ndarray'> 1\n",
      "<class 'numpy.ndarray'> 1\n",
      "<class 'numpy.ndarray'> 1\n",
      "<class 'numpy.ndarray'> 1\n",
      "<class 'numpy.ndarray'> 1\n",
      "<class 'numpy.ndarray'> 1\n",
      "<class 'numpy.ndarray'> 1\n",
      "<class 'numpy.ndarray'> 1\n",
      "<class 'numpy.ndarray'> 1\n",
      "<class 'numpy.ndarray'> 1\n",
      "<class 'numpy.ndarray'> 1\n",
      "<class 'numpy.ndarray'> 1\n",
      "<class 'numpy.ndarray'> 1\n",
      "<class 'numpy.ndarray'> 1\n",
      "<class 'numpy.ndarray'> 1\n",
      "<class 'numpy.ndarray'> 1\n",
      "<class 'numpy.ndarray'> 1\n",
      "<class 'numpy.ndarray'> 1\n",
      "<class 'numpy.ndarray'> 1\n",
      "<class 'numpy.ndarray'> 1\n",
      "<class 'numpy.ndarray'> 1\n",
      "<class 'numpy.ndarray'> 1\n",
      "<class 'numpy.ndarray'> 1\n",
      "<class 'numpy.ndarray'> 1\n",
      "<class 'numpy.ndarray'> 1\n",
      "<class 'numpy.ndarray'> 1\n",
      "<class 'numpy.ndarray'> 1\n",
      "<class 'numpy.ndarray'> 1\n",
      "<class 'numpy.ndarray'> 1\n",
      "<class 'numpy.ndarray'> 1\n",
      "<class 'numpy.ndarray'> 1\n",
      "<class 'numpy.ndarray'> 1\n",
      "<class 'numpy.ndarray'> 1\n",
      "<class 'numpy.ndarray'> 1\n",
      "<class 'numpy.ndarray'> 1\n",
      "<class 'numpy.ndarray'> 1\n",
      "<class 'numpy.ndarray'> 1\n",
      "<class 'numpy.ndarray'> 1\n",
      "<class 'numpy.ndarray'> 1\n",
      "<class 'numpy.ndarray'> 1\n",
      "<class 'numpy.ndarray'> 1\n",
      "<class 'numpy.ndarray'> 1\n",
      "<class 'numpy.ndarray'> 1\n"
     ]
    },
    {
     "ename": "TypeError",
     "evalue": "'NoneType' object is not iterable",
     "output_type": "error",
     "traceback": [
      "\u001b[1;31m---------------------------------------------------------------------------\u001b[0m",
      "\u001b[1;31mTypeError\u001b[0m                                 Traceback (most recent call last)",
      "\u001b[1;32m<ipython-input-30-82d13e0439eb>\u001b[0m in \u001b[0;36m<module>\u001b[1;34m()\u001b[0m\n\u001b[0;32m      1\u001b[0m \u001b[1;31m# Let's iterate through the ML ready data and label for each image in the training set\u001b[0m\u001b[1;33m\u001b[0m\u001b[1;33m\u001b[0m\u001b[0m\n\u001b[0;32m      2\u001b[0m \u001b[1;32mwhile\u001b[0m \u001b[1;32mTrue\u001b[0m\u001b[1;33m:\u001b[0m\u001b[1;33m\u001b[0m\u001b[0m\n\u001b[1;32m----> 3\u001b[1;33m     \u001b[0mdata\u001b[0m\u001b[1;33m,\u001b[0m \u001b[0mlabel\u001b[0m \u001b[1;33m=\u001b[0m \u001b[0mnext\u001b[0m\u001b[1;33m(\u001b[0m\u001b[0mimages\u001b[0m\u001b[1;33m)\u001b[0m\u001b[1;33m\u001b[0m\u001b[0m\n\u001b[0m\u001b[0;32m      4\u001b[0m     \u001b[1;32mif\u001b[0m \u001b[0mdata\u001b[0m \u001b[1;32mis\u001b[0m \u001b[1;32mNone\u001b[0m\u001b[1;33m:\u001b[0m \u001b[1;32mbreak\u001b[0m\u001b[1;33m\u001b[0m\u001b[0m\n\u001b[0;32m      5\u001b[0m     \u001b[0mprint\u001b[0m\u001b[1;33m(\u001b[0m\u001b[0mtype\u001b[0m\u001b[1;33m(\u001b[0m\u001b[0mdata\u001b[0m\u001b[1;33m)\u001b[0m\u001b[1;33m,\u001b[0m \u001b[0mlabel\u001b[0m\u001b[1;33m)\u001b[0m\u001b[1;33m\u001b[0m\u001b[0m\n",
      "\u001b[1;31mTypeError\u001b[0m: 'NoneType' object is not iterable"
     ]
    }
   ],
   "source": [
    "# Let's iterate through the ML ready data and label for each image in the training set\n",
    "while True:\n",
    "    data, label = next(images)\n",
    "    if data is None: break\n",
    "    print(type(data), label)"
   ]
  },
  {
   "cell_type": "markdown",
   "metadata": {},
   "source": [
    "### Minibatch generation\n",
    "\n",
    "Another way of feeding a neural network is through mini-batches. A mini-batch is a subset of the training set, that is greater than one. After each mini-batch is feed, then backward probagation, using gradient descent, is done. \n",
    "\n",
    "Typically, minibatches are set to sizes like 30, 50, 100, or 200. We will use the minibatch property as a setter to set the minibatch size to 100."
   ]
  },
  {
   "cell_type": "code",
   "execution_count": null,
   "metadata": {},
   "outputs": [],
   "source": [
    "# Set minibatch size to 100 images\n",
    "images.minibatch = 100"
   ]
  },
  {
   "cell_type": "markdown",
   "metadata": {},
   "source": [
    "When we use the minibatch property as a getter, it will create a generator."
   ]
  },
  {
   "cell_type": "code",
   "execution_count": 31,
   "metadata": {},
   "outputs": [],
   "source": [
    "# Calculate the number of batches\n",
    "nbatches = len(images) // 100\n",
    "\n",
    "# process each mini-batch\n",
    "for _ in range(nbatches):\n",
    "    # Create a generator for the next minibatch\n",
    "    g = images.minibatch\n",
    "    # Get the data, labels for each item in the minibatch\n",
    "    for data, label in g:\n",
    "        pass"
   ]
  },
  {
   "cell_type": "markdown",
   "metadata": {},
   "source": [
    "## Datset of Images\n",
    "\n",
    "Let's load the entire dataset - that's 27 collections of 1200 images each."
   ]
  },
  {
   "cell_type": "code",
   "execution_count": 32,
   "metadata": {},
   "outputs": [
    {
     "name": "stdout",
     "output_type": "stream",
     "text": [
      "Procesed: 0 Number of images: 1200 Time:  7.164011240005493\n",
      "Procesed: 1 Number of images: 1200 Time:  2.9700043201446533\n",
      "Procesed: 10 Number of images: 1200 Time:  7.420010328292847\n",
      "Procesed: 11 Number of images: 1200 Time:  7.8700110912323\n",
      "Procesed: 12 Number of images: 1200 Time:  7.430010557174683\n",
      "Procesed: 13 Number of images: 1200 Time:  8.102013111114502\n",
      "Procesed: 14 Number of images: 1200 Time:  10.072014093399048\n",
      "Procesed: 15 Number of images: 1200 Time:  6.856013298034668\n",
      "Procesed: 16 Number of images: 1200 Time:  6.280008792877197\n",
      "Procesed: 17 Number of images: 1200 Time:  5.630007982254028\n",
      "Procesed: 18 Number of images: 1200 Time:  5.220007419586182\n",
      "Procesed: 19 Number of images: 1200 Time:  8.394016027450562\n",
      "Procesed: 2 Number of images: 1200 Time:  5.980008125305176\n",
      "Procesed: 20 Number of images: 1200 Time:  5.081007242202759\n",
      "Procesed: 21 Number of images: 1200 Time:  4.8300065994262695\n",
      "Procesed: 22 Number of images: 1200 Time:  5.500007629394531\n",
      "Procesed: 23 Number of images: 1200 Time:  6.500009298324585\n",
      "Procesed: 24 Number of images: 1200 Time:  5.320007562637329\n",
      "Procesed: 25 Number of images: 1200 Time:  5.3500075340271\n",
      "Procesed: 26 Number of images: 1200 Time:  6.301008939743042\n",
      "Procesed: 3 Number of images: 1200 Time:  5.860008239746094\n",
      "Procesed: 4 Number of images: 1200 Time:  7.513010740280151\n",
      "Procesed: 5 Number of images: 1200 Time:  4.910006761550903\n",
      "Procesed: 6 Number of images: 1200 Time:  5.280007600784302\n",
      "Procesed: 7 Number of images: 1200 Time:  4.510006427764893\n",
      "Procesed: 8 Number of images: 1200 Time:  4.730006694793701\n",
      "Procesed: 9 Number of images: 1200 Time:  4.922008037567139\n",
      "average: 6.147972062782005\n"
     ]
    }
   ],
   "source": [
    "# Prepare each set of labeled data into machine learning ready data\n",
    "# The images are 50x50, bitdepth=8, 1 channel (grayscale)\n",
    "total = 0\n",
    "collections=[]\n",
    "for label in labels:\n",
    "    # Get a list of all images in the subdirectory for this label (should be 1200 images)\n",
    "    imgdir = \"gestures/\" + label + \"/\"\n",
    "    imglst = [imgdir + x for x in os.listdir(imgdir)]\n",
    "    images = Images(imglst, int(label), name='tmp' + label, config=['flatten', 'grayscale'])\n",
    "    collections.append(images)\n",
    "    print(\"Procesed: \" + label, \"Number of images:\", len(images), \"Time: \", images.time)\n",
    "    total += images.time\n",
    "    \n",
    "print(\"average:\", total / len(labels))\n",
    "    "
   ]
  },
  {
   "cell_type": "markdown",
   "metadata": {},
   "source": [
    "Let's verify the preprocessing of our image data"
   ]
  },
  {
   "cell_type": "code",
   "execution_count": 33,
   "metadata": {},
   "outputs": [
    {
     "name": "stdout",
     "output_type": "stream",
     "text": [
      "27\n",
      "<class 'vision.Images'>\n",
      "1200\n"
     ]
    }
   ],
   "source": [
    "# Let's see how many batches (collections) we have (hint: should be 27)\n",
    "print(len(collections))\n",
    "\n",
    "# Let's verify that the items in the collections are an Images object\n",
    "collection = collections[3]\n",
    "print(type(collection))\n",
    "\n",
    "# For a collection, let's see how many image objects we have (hint: should be 1200)\n",
    "print(len(collection))"
   ]
  },
  {
   "cell_type": "markdown",
   "metadata": {},
   "source": [
    "Let's look at the first Image object in this collection."
   ]
  },
  {
   "cell_type": "code",
   "execution_count": 34,
   "metadata": {},
   "outputs": [
    {
     "name": "stdout",
     "output_type": "stream",
     "text": [
      "<class 'vision.Image'>\n"
     ]
    }
   ],
   "source": [
    "# Let's get the first Image item and verify it is an Image object\n",
    "image = collection[0]\n",
    "print(type(image))"
   ]
  },
  {
   "cell_type": "markdown",
   "metadata": {},
   "source": [
    "Let's name view some of the properties and verify that images got processed as expected."
   ]
  },
  {
   "cell_type": "code",
   "execution_count": 35,
   "metadata": {},
   "outputs": [
    {
     "name": "stdout",
     "output_type": "stream",
     "text": [
      "1\n",
      "jpg\n",
      "1459\n"
     ]
    }
   ],
   "source": [
    "# Let's get some basic information about the image\n",
    "print(image.name)  # the root name of the image\n",
    "print(image.type)  # the image file suffix\n",
    "print(image.size)  # the size of the image on disk"
   ]
  },
  {
   "cell_type": "code",
   "execution_count": 36,
   "metadata": {},
   "outputs": [
    {
     "name": "stdout",
     "output_type": "stream",
     "text": [
      "(50, 50)\n"
     ]
    }
   ],
   "source": [
    "# Let's now check the raw (uncompressed) unprocessed image\n",
    "print(image.raw.shape)"
   ]
  },
  {
   "cell_type": "code",
   "execution_count": 37,
   "metadata": {},
   "outputs": [
    {
     "name": "stdout",
     "output_type": "stream",
     "text": [
      "(2500,)\n"
     ]
    }
   ],
   "source": [
    "# Let's look at how the image got processed.\n",
    "print(image.shape)  # Note, that the preprocessed image was flattened into a 1D vector. It was 50x50, and now is 2500."
   ]
  },
  {
   "cell_type": "markdown",
   "metadata": {},
   "source": [
    "Let's now take a look at the image. Remember to hit any key to exit the viewer (i.e., cv2.waitKey(0))"
   ]
  },
  {
   "cell_type": "code",
   "execution_count": 38,
   "metadata": {},
   "outputs": [
    {
     "data": {
      "text/plain": [
       "-1"
      ]
     },
     "execution_count": 38,
     "metadata": {},
     "output_type": "execute_result"
    }
   ],
   "source": [
    "# Let's view the raw image\n",
    "import cv2\n",
    "cv2.imshow('image',image.raw)\n",
    "cv2.waitKey(0)"
   ]
  },
  {
   "cell_type": "markdown",
   "metadata": {},
   "source": [
    "## Gap v0.91 Features (towards Beta)\n",
    "\n",
    "There are new features emerging as Gap moves from alpha (current v0.9) to beta (v0.95). Here are some that can be demonstrated now."
   ]
  },
  {
   "cell_type": "markdown",
   "metadata": {},
   "source": [
    "### Remote Image (Url)\n",
    "\n",
    "The Image class (and correspondly the Images class), paths to the image file may be specified as an URL; providing the ability to preprocess images stored at remote locations. In this case, an HTTP request is made to retrieve the image data over the network."
   ]
  },
  {
   "cell_type": "code",
   "execution_count": 40,
   "metadata": {},
   "outputs": [],
   "source": [
    "# Let's load an image from the CNN news website\n",
    "image = Image('https://cdn.cnn.com/cnnnext/dam/assets/180727161452-trump-speech-economy-072718-exlarge-tease.jpg', 2)"
   ]
  },
  {
   "cell_type": "markdown",
   "metadata": {},
   "source": [
    "Let's look at some properties."
   ]
  },
  {
   "cell_type": "code",
   "execution_count": 41,
   "metadata": {},
   "outputs": [
    {
     "name": "stdout",
     "output_type": "stream",
     "text": [
      "180727161452-trump-speech-economy-072718-exlarge-tease\n",
      "38302\n",
      "(438, 780, 3)\n"
     ]
    }
   ],
   "source": [
    "# Let's display some properties of the image that was fetched from a remote location and then preprocessed in ML ready data.\n",
    "print(image.name)\n",
    "print(image.size)\n",
    "print(image.shape)"
   ]
  },
  {
   "cell_type": "markdown",
   "metadata": {},
   "source": [
    "### Directories (Subfolders) of Images\n",
    "\n",
    "The Images class can alternately take a list of subfolders (vs. list of images); in which case, all the images under each subfolder are preprocessed into ML ready data. This is useful if your images are separated into subfolders, where each subfolder is a separate class (label) of images. This is a fairly common practice.\n",
    "\n",
    "In this case, the corresponding label in the same index of the labels parameter will be assigned to each image in the subfolder."
   ]
  },
  {
   "cell_type": "code",
   "execution_count": 42,
   "metadata": {},
   "outputs": [],
   "source": [
    "# Let's process a list of subfolders of images\n",
    "images = Images(['gestures/1', 'gestures/2'], [1,2], name='foobar')"
   ]
  },
  {
   "cell_type": "code",
   "execution_count": 43,
   "metadata": {},
   "outputs": [
    {
     "name": "stdout",
     "output_type": "stream",
     "text": [
      "2400\n"
     ]
    }
   ],
   "source": [
    "# We have two subfolders of 1200 images each, so we should expect 2400 images\n",
    "print(len(images))"
   ]
  },
  {
   "cell_type": "markdown",
   "metadata": {},
   "source": [
    "### Image Synthesis\n",
    "\n"
   ]
  },
  {
   "cell_type": "markdown",
   "metadata": {},
   "source": [
    "# End of Session 3"
   ]
  },
  {
   "cell_type": "code",
   "execution_count": null,
   "metadata": {},
   "outputs": [],
   "source": [
    "# some cleanup\n",
    "os.remove('foobar.h5')\n",
    "for _ in range(27):\n",
    "    os.remove('tmp' + _ + '.h5')"
   ]
  }
 ],
 "metadata": {
  "kernelspec": {
   "display_name": "Python 3",
   "language": "python",
   "name": "python3"
  },
  "language_info": {
   "codemirror_mode": {
    "name": "ipython",
    "version": 3
   },
   "file_extension": ".py",
   "mimetype": "text/x-python",
   "name": "python",
   "nbconvert_exporter": "python",
   "pygments_lexer": "ipython3",
   "version": "3.5.2"
  }
 },
 "nbformat": 4,
 "nbformat_minor": 2
}
