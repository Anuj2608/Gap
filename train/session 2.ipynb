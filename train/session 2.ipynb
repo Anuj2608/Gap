{
 "cells": [
  {
   "cell_type": "markdown",
   "metadata": {},
   "source": [
    "\n",
    "# Gap (prelaunch) 0.9 - July 2018\n",
    "## NLP and CV Data Engineering Framework\n",
    "\n",
    "<b>[Github] (https://github.com/andrewferlitsch/gap)</b>"
   ]
  },
  {
   "cell_type": "markdown",
   "metadata": {},
   "source": [
    "# Document Preparation for NLP with Gap (Session 2)\n",
    "\n",
    "Let's dig deeper into the basics. We will be using the <b style='color: saddlebrown'>SYNTAX</b> component in my Gap module.\n"
   ]
  },
  {
   "cell_type": "markdown",
   "metadata": {},
   "source": [
    "## <span style='color: saddlebrown'>Words</span> Object\n",
    "\n",
    "Let's directly use the <b style='color: saddlebrown'>Words</b> object to control how the text is NLP preprocessed."
   ]
  },
  {
   "cell_type": "code",
   "execution_count": 1,
   "metadata": {},
   "outputs": [
    {
     "name": "stdout",
     "output_type": "stream",
     "text": [
      "C:\\Users\\'\\Desktop\\epipog-nlp\n"
     ]
    }
   ],
   "source": [
    "import os\n",
    "os.chdir(\"../\")\n",
    "!cd"
   ]
  },
  {
   "cell_type": "code",
   "execution_count": 2,
   "metadata": {},
   "outputs": [
    {
     "name": "stdout",
     "output_type": "stream",
     "text": [
      "[nltk_data] Downloading package wordnet to\n",
      "[nltk_data]     C:\\Users\\'\\AppData\\Roaming\\nltk_data...\n",
      "[nltk_data]   Package wordnet is already up-to-date!\n",
      "[nltk_data] Downloading package averaged_perceptron_tagger to\n",
      "[nltk_data]     C:\\Users\\'\\AppData\\Roaming\\nltk_data...\n",
      "[nltk_data]   Package averaged_perceptron_tagger is already up-to-\n",
      "[nltk_data]       date!\n"
     ]
    }
   ],
   "source": [
    "# import the Words class\n",
    "from document import Words"
   ]
  },
  {
   "cell_type": "code",
   "execution_count": 5,
   "metadata": {},
   "outputs": [
    {
     "data": {
      "text/plain": [
       "[{'tag': 15, 'word': 'grandfather'},\n",
       " {'tag': 0, 'word': 'son'},\n",
       " {'tag': 15, 'word': 'dad'},\n",
       " {'tag': 16, 'word': 'sister'}]"
      ]
     },
     "execution_count": 5,
     "metadata": {},
     "output_type": "execute_result"
    }
   ],
   "source": [
    "\n",
    "w = Words(\"grandfather, son, dad, sister\", gender=True)\n",
    "w.words"
   ]
  },
  {
   "cell_type": "markdown",
   "metadata": {},
   "source": [
    "### NER (Name Entity Recognition)"
   ]
  },
  {
   "cell_type": "code",
   "execution_count": 5,
   "metadata": {},
   "outputs": [],
   "source": [
    "# Let's look at a string with a name and social security number.\n",
    "w = Words(\" word1 word2 Jim Jones, SSN: 123-12-1234 word3\", stopwords=True)"
   ]
  },
  {
   "cell_type": "code",
   "execution_count": 6,
   "metadata": {},
   "outputs": [
    {
     "data": {
      "text/plain": [
       "[{'tag': 0, 'word': 'word1'},\n",
       " {'tag': 0, 'word': 'word2'},\n",
       " {'tag': 11, 'word': 'jim'},\n",
       " {'tag': 11, 'word': 'jones'},\n",
       " {'tag': 9, 'word': '123121234'},\n",
       " {'tag': 0, 'word': 'word3'}]"
      ]
     },
     "execution_count": 6,
     "metadata": {},
     "output_type": "execute_result"
    }
   ],
   "source": [
    "# Let's print the word list. Note that jim and jones are tagged 11 (Proper Name) and 123121234 is tagged 9 (SSN)\n",
    "w.words"
   ]
  },
  {
   "cell_type": "markdown",
   "metadata": {},
   "source": [
    "### De-Identification"
   ]
  },
  {
   "cell_type": "code",
   "execution_count": 7,
   "metadata": {},
   "outputs": [
    {
     "data": {
      "text/plain": [
       "[{'tag': 0, 'word': 'word1'},\n",
       " {'tag': 0, 'word': 'word2'},\n",
       " {'tag': 0, 'word': 'word3'}]"
      ]
     },
     "execution_count": 7,
     "metadata": {},
     "output_type": "execute_result"
    }
   ],
   "source": [
    "# Let's remove any names and SSN from our text\n",
    "w = Words(\"  word1 word2 Jim Jones, SSN: 123-12-1234 word3\", name=False, ssn=False)\n",
    "w.words"
   ]
  },
  {
   "cell_type": "markdown",
   "metadata": {},
   "source": [
    "## THAT'S ALL FOR SESSION 1\n",
    "\n",
    "Look forward to seeing everyone again on session 2 where we will do some serious deep diving."
   ]
  },
  {
   "cell_type": "code",
   "execution_count": null,
   "metadata": {},
   "outputs": [],
   "source": []
  }
 ],
 "metadata": {
  "celltoolbar": "Edit Metadata",
  "kernelspec": {
   "display_name": "Python 3",
   "language": "python",
   "name": "python3"
  },
  "language_info": {
   "codemirror_mode": {
    "name": "ipython",
    "version": 3
   },
   "file_extension": ".py",
   "mimetype": "text/x-python",
   "name": "python",
   "nbconvert_exporter": "python",
   "pygments_lexer": "ipython3",
   "version": "3.5.2"
  }
 },
 "nbformat": 4,
 "nbformat_minor": 2
}
